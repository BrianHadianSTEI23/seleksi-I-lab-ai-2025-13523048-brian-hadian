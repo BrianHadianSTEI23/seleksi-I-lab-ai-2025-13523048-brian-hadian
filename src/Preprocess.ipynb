{
 "cells": [
  {
   "cell_type": "markdown",
   "id": "afbd6f87",
   "metadata": {},
   "source": [
    "# Data preprocessing\n",
    "This stage include data cleaning (handling missing values, remove duplicates, correct error and inconsistencies), Data transformation (normalization, standardization, categorical data encoding) \n",
    "Feature selection, and Dimensionality reduction. Handling missing values will be approached in categorical values first. If null is found, then it will changed into modus of that certain feature. \n",
    "If outlier is found, it will removed from the dataset. In numerical values, every null value will be changed into the mean value of that feature related to that certain crime. If outlier is found,\n",
    "it will be removed from the dataset. "
   ]
  },
  {
   "cell_type": "markdown",
   "id": "f32a0816",
   "metadata": {},
   "source": [
    "## Data Cleaning"
   ]
  },
  {
   "cell_type": "markdown",
   "id": "446cb99f",
   "metadata": {},
   "source": [
    "### Categorical"
   ]
  },
  {
   "cell_type": "code",
   "execution_count": null,
   "id": "76882458",
   "metadata": {},
   "outputs": [],
   "source": [
    "# init\n",
    "import pandas as pd\n",
    "from datetime import date\n",
    "\n",
    "file = \"../data/NYPD_Complaint_Data_Historic_20250901.csv\"\n",
    "\n",
    "df = pd.read_csv(file)"
   ]
  },
  {
   "cell_type": "code",
   "execution_count": null,
   "id": "15f25039",
   "metadata": {},
   "outputs": [],
   "source": [
    "# debug\n",
    "print(df[df[\"CMPLNT_FR_DT\"].isna()])\n",
    "print(df[\"CMPLNT_FR_DT\"].isna())\n"
   ]
  },
  {
   "cell_type": "code",
   "execution_count": null,
   "id": "a9f9f165",
   "metadata": {},
   "outputs": [],
   "source": [
    "# change all rows without the null values in very row\n",
    "mode_val = df[\"BORO_NM\"].mode()\n",
    "df.loc[df[\"BORO_NM\"] == \"(null)\", \"BORO_NM\"] = mode_val\n",
    "\n",
    "# change all rows without the null values in very row\n",
    "mode_val = df[\"KY_CD\"].mode()\n",
    "df.loc[df[\"KY_CD\"] == \"(null)\", \"KY_CD\"] = mode_val\n",
    "\n",
    "# change all rows without the null values in very row\n",
    "mode_val = df[\"OFNS_DESC\"].mode()\n",
    "df.loc[df[\"OFNS_DESC\"] == \"(null)\", \"OFNS_DESC\"] = mode_val\n",
    "\n",
    "# change all rows without the null values in very row\n",
    "mode_val = df[\"CRM_ATPT_CPTD_CD\"].mode()\n",
    "df.loc[df[\"CRM_ATPT_CPTD_CD\"] == \"(null)\", \"CRM_ATPT_CPTD_CD\"] = mode_val\n",
    "\n",
    "# change all rows without the null values in very row\n",
    "mode_val = df[\"LAW_CAT_CD\"].mode()\n",
    "df.loc[df[\"LAW_CAT_CD\"] == \"(null)\", \"LAW_CAT_CD\"] = mode_val\n",
    "\n",
    "# change all rows without the null values in very row\n",
    "mode_val = df[\"LOC_OF_OCCUR_DESC\"].mode()\n",
    "df.loc[df[\"LOC_OF_OCCUR_DESC\"] == \"(null)\", \"LOC_OF_OCCUR_DESC\"] = mode_val\n",
    "\n",
    "# change all rows without the null values in very row\n",
    "mode_val = df[\"PREM_TYP_DESC\"].mode()\n",
    "df.loc[df[\"PREM_TYP_DESC\"] == \"(null)\", \"PREM_TYP_DESC\"] = mode_val\n",
    "\n",
    "# change all rows without the null values in very row\n",
    "mode_val = df[\"JURIS_DESC\"].mode()\n",
    "df.loc[df[\"JURIS_DESC\"] == \"(null)\", \"JURIS_DESC\"] = mode_val\n",
    "\n",
    "# change all rows without the null values in very row\n",
    "mode_val = df[\"SUSP_AGE_GROUP\"].mode()\n",
    "df.loc[df[\"SUSP_AGE_GROUP\"] == \"(null)\", \"SUSP_AGE_GROUP\"] = mode_val\n",
    "\n",
    "# change all rows without the null values in very row\n",
    "mode_val = df[\"SUSP_RACE\"].mode()\n",
    "df.loc[df[\"SUSP_RACE\"] == \"(null)\", \"SUSP_RACE\"] = mode_val\n",
    "\n",
    "# change all rows without the null values in very row\n",
    "mode_val = df[\"SUSP_SEX\"].mode()\n",
    "df.loc[df[\"SUSP_SEX\"] == \"(null)\", \"SUSP_SEX\"] = mode_val\n",
    "\n",
    "# change all rows without the null values in very row\n",
    "mode_val = df[\"PATROL_BORO\"].mode()\n",
    "df.loc[df[\"PATROL_BORO\"] == \"(null)\", \"PATROL_BORO\"] = mode_val\n",
    "\n",
    "# change all rows without the null values in very row\n",
    "mode_val = df[\"VIC_AGE_GROUP\"].mode()\n",
    "df.loc[df[\"VIC_AGE_GROUP\"] == \"(null)\", \"VIC_AGE_GROUP\"] = mode_val\n",
    "\n",
    "# change all rows without the null values in very row\n",
    "mode_val = df[\"VIC_SEX\"].mode()\n",
    "df.loc[df[\"VIC_SEX\"] == \"(null)\", \"VIC_SEX\"] = mode_val\n",
    "\n",
    "# change all rows without the null values in very row\n",
    "mode_val = df[\"VIC_RACE\"].mode()\n",
    "df.loc[df[\"VIC_RACE\"] == \"(null)\", \"VIC_RACE\"] = mode_val\n"
   ]
  },
  {
   "cell_type": "markdown",
   "id": "8de31729",
   "metadata": {},
   "source": [
    "### Numerical"
   ]
  },
  {
   "cell_type": "code",
   "execution_count": null,
   "id": "7f2756ba",
   "metadata": {},
   "outputs": [],
   "source": [
    "# change all rows without the null values in very row\n",
    "hour_mean = int(pd.to_datetime(df[\"CMPLNT_FR_TM\"], format=\"%H:%M:%S\", errors=\"coerce\").dt.hour.mean())\n",
    "min_mean = int(pd.to_datetime(df[\"CMPLNT_FR_TM\"], format=\"%H:%M:%S\", errors=\"coerce\").dt.minute.mean())\n",
    "sec_mean = int(pd.to_datetime(df[\"CMPLNT_FR_TM\"], format=\"%H:%M:%S\", errors=\"coerce\").dt.second.mean())\n",
    "time_mean = f\"{hour_mean:02d}:{min_mean:02d}:{sec_mean:02d}\"\n",
    "df.loc[df[\"CMPLNT_FR_TM\"] == \"(null)\", \"CMPLNT_FR_TM\"] = time_mean\n",
    "\n",
    "# hour_mean = int(pd.to_datetime(df[\"CMPLNT_TO_TM\"], format=\"%H:%M:%S\", errors=\"coerce\").dt.hour.mean())\n",
    "# min_mean = int(pd.to_datetime(df[\"CMPLNT_TO_TM\"], format=\"%H:%M:%S\", errors=\"coerce\").dt.minute.mean())\n",
    "# sec_mean = int(pd.to_datetime(df[\"CMPLNT_TO_TM\"], format=\"%H:%M:%S\", errors=\"coerce\").dt.second.mean())\n",
    "# time_mean = f\"{hour_mean:02d}:{min_mean:02d}:{sec_mean:02d}\"\n",
    "# df.loc[df[\"CMPLNT_TO_TM\"] == \"(null)\", \"CMPLNT_TO_TM\"] = time_mean\n",
    "\n",
    "# year_mean = int(pd.to_datetime(df[\"CMPLNT_TO_DT\"], format=\"%m:%d:%Y\", errors=\"coerce\").dt.year.mean())\n",
    "# month_mean = int(pd.to_datetime(df[\"CMPLNT_TO_DT\"], format=\"%m:%d:%Y\", errors=\"coerce\").dt.month.mean())\n",
    "# date_mean = int(pd.to_datetime(df[\"CMPLNT_TO_DT\"], format=\"%m:%d:%Y\", errors=\"coerce\").dt.date.mean())\n",
    "# datetime_mean = f\"{month_mean:02d}:{date_mean:02d}:{year_mean:02d}\"\n",
    "# df.loc[df[\"CMPLNT_TO_DT\"] == \"(null)\", \"CMPLNT_TO_DT\"] = datetime_mean\n",
    "\n",
    "year_mean = int(pd.to_datetime(df[\"CMPLNT_FR_DT\"], format=\"%m/%d/%Y\", errors=\"coerce\").dt.year.mean())\n",
    "month_mean = int(pd.to_datetime(df[\"CMPLNT_FR_DT\"], format=\"%m/%d/%Y\", errors=\"coerce\").dt.month.mean())\n",
    "day_mean = int(pd.to_datetime(df[\"CMPLNT_FR_DT\"], format=\"%m/%d/%Y\", errors=\"coerce\").dt.day.mean())\n",
    "mean_date = date(year_mean, month_mean, day_mean)\n",
    "ordinal_mean = mean_date.toordinal()\n",
    "df.loc[df[\"CMPLNT_FR_DT\"] == \"(null)\", \"CMPLNT_FR_DT\"] = ordinal_mean\n"
   ]
  },
  {
   "cell_type": "code",
   "execution_count": null,
   "id": "323acb62",
   "metadata": {},
   "outputs": [],
   "source": [
    "lat_mean = df[\"Latitude\"].mean()\n",
    "df.loc[df[\"Latitude\"] == \"(null)\", \"Latitude\"] = lat_mean\n",
    "\n",
    "long_mean = df[\"Longitude\"].mean()\n",
    "df.loc[df[\"Longitude\"] == \"(null)\", \"Longitude\"] = long_mean"
   ]
  },
  {
   "cell_type": "code",
   "execution_count": null,
   "id": "14882fcc",
   "metadata": {},
   "outputs": [],
   "source": [
    "# debug\n",
    "print(df[df[\"CMPLNT_FR_DT\"] == \"(null)\"])"
   ]
  },
  {
   "cell_type": "markdown",
   "id": "58e35a17",
   "metadata": {},
   "source": [
    "# Data Encoding\n",
    "Encoding is needed to be able to get the value computed by algorithms (KNN, and many algorithms that rely on doing it using numbers)"
   ]
  },
  {
   "cell_type": "code",
   "execution_count": null,
   "id": "0ce10e47",
   "metadata": {},
   "outputs": [],
   "source": [
    "# insert encoding here"
   ]
  },
  {
   "cell_type": "markdown",
   "id": "89b6d998",
   "metadata": {},
   "source": [
    "## Feature Selection\n",
    "Feature selection is done to get only the relevant column, that is the time (date and time), \n",
    "place of crime, key offense index, offense description, borough name, latitude and longitude, and suspect age group, sex, and race"
   ]
  },
  {
   "cell_type": "code",
   "execution_count": null,
   "id": "8eda8412",
   "metadata": {},
   "outputs": [],
   "source": [
    "# debug: checking if for each key, the offense desc will always be the same\n",
    "print(df[df[\"KY_CD\"] == 351])\n",
    "print(df[\"KY_CD\"].unique())"
   ]
  },
  {
   "cell_type": "code",
   "execution_count": null,
   "id": "68eb0989",
   "metadata": {},
   "outputs": [],
   "source": [
    "target = df.loc[:, [\"CMPLNT_FR_DT\", \"CMPLNT_FR_TM\", \"CMPLNT_TO_DT\", \"CMPLNT_TO_TM\", \"KY_CD\", \n",
    "                    \"OFNS_DESC\", \"BORO_NM\", \"PREM_TYP_DESC\", \"SUSP_AGE_GROUP\", \"SUSP_RACE\", \"SUSP_SEX\",\n",
    "                    \"Latitude\", \"Longitude\"]]\n",
    "print(target)"
   ]
  },
  {
   "cell_type": "markdown",
   "id": "b2a0fe75",
   "metadata": {},
   "source": [
    "## Dimensionality Reduction\n",
    "Dimensionality reduction is done to reduce the noise of the characteristics of the attributes and\n",
    "focus on what causing and the pattern on which the crime emerges. In this context, feature got from \n",
    "feature selection before will be used for generating feature duration and with this, the end time for each crime will be dropped."
   ]
  },
  {
   "cell_type": "code",
   "execution_count": null,
   "id": "e0e80ac5",
   "metadata": {},
   "outputs": [],
   "source": [
    "# introducing the duration\n",
    "start = pd.to_datetime(\n",
    "    df[\"CMPLNT_FR_DT\"].astype(str) + \" \" + df[\"CMPLNT_FR_TM\"].astype(str),\n",
    "    format=\"%m/%d/%Y %H:%M:%S\",\n",
    "    errors=\"coerce\"\n",
    ")\n",
    "\n",
    "end = pd.to_datetime(\n",
    "    df[\"CMPLNT_TO_DT\"].astype(str) + \" \" + df[\"CMPLNT_TO_TM\"].astype(str),\n",
    "    format=\"%m/%d/%Y %H:%M:%S\",\n",
    "    errors=\"coerce\"\n",
    ")\n",
    "\n",
    "# duration\n",
    "df[\"duration\"] = (end - start).dt.total_seconds() / 3600"
   ]
  },
  {
   "cell_type": "code",
   "execution_count": null,
   "id": "2eccf173",
   "metadata": {},
   "outputs": [
    {
     "name": "stdout",
     "output_type": "stream",
     "text": [
      "0           0.033333\n",
      "1           0.166667\n",
      "2          12.000000\n",
      "3           0.250000\n",
      "4           0.083333\n",
      "             ...    \n",
      "2510609          NaN\n",
      "2510610     0.050000\n",
      "2510611     0.233333\n",
      "2510612     0.416667\n",
      "2510613     1.333333\n",
      "Name: duration, Length: 2510614, dtype: float64\n"
     ]
    }
   ],
   "source": [
    "# debug : checking duration generated or not\n",
    "print(df[\"duration\"])"
   ]
  },
  {
   "cell_type": "code",
   "execution_count": null,
   "id": "ed4d566f",
   "metadata": {},
   "outputs": [],
   "source": [
    "# removing date and time to\n",
    "df = df.drop(columns=[\"CMPLNT_TO_TM\", \"CMPLNT_TO_DT\"])"
   ]
  },
  {
   "cell_type": "markdown",
   "id": "6bdae277",
   "metadata": {},
   "source": [
    "## Balancing\n",
    "Based on the diagram in the EDA, there are a pattern of skewness of the data in the time context, but\n",
    "other than that, there is a nice variance (not to significant) such that the model that will generated from this dataset is perceived not be biased. Thus, it is not needed to be balanced with\n",
    "any other method (balancing methods)"
   ]
  }
 ],
 "metadata": {
  "kernelspec": {
   "display_name": ".venv",
   "language": "python",
   "name": "python3"
  },
  "language_info": {
   "name": "python",
   "version": "3.13.3"
  }
 },
 "nbformat": 4,
 "nbformat_minor": 5
}
