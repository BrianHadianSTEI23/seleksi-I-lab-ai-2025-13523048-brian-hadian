{
 "cells": [
  {
   "cell_type": "markdown",
   "id": "87d021dd",
   "metadata": {},
   "source": [
    "# Preprocessing Data"
   ]
  },
  {
   "cell_type": "code",
   "execution_count": 2,
   "id": "7db14569",
   "metadata": {},
   "outputs": [],
   "source": [
    "# init\n",
    "import pandas as pd\n",
    "import seaborn as sns\n",
    "import matplotlib.pyplot as plt\n",
    "\n",
    "twitter_file = \"../data/Twitter_Emotion_Dataset.csv\"\n",
    "dictionary_file = \"../data/kamus_singkatan.csv\"\n",
    "\n",
    "twitter = pd.read_csv(twitter_file)\n",
    "dictionary = pd.read_csv(dictionary_file, sep=';')"
   ]
  },
  {
   "cell_type": "markdown",
   "id": "89dcb9f8",
   "metadata": {},
   "source": [
    "## Categorical Data Encoding (One hot Encoding)"
   ]
  },
  {
   "cell_type": "code",
   "execution_count": 4,
   "id": "bb7bba07",
   "metadata": {},
   "outputs": [
    {
     "name": "stdout",
     "output_type": "stream",
     "text": [
      "                                                  tweet  label_anger  \\\n",
      "0     Soal jln Jatibaru,polisi tdk bs GERTAK gubernu...         True   \n",
      "1     Sesama cewe lho (kayaknya), harusnya bisa lebi...         True   \n",
      "2     Kepingin gudeg mbarek Bu hj. Amad Foto dari go...        False   \n",
      "3     Jln Jatibaru,bagian dari wilayah Tn Abang.Peng...         True   \n",
      "4     Sharing pengalaman aja, kemarin jam 18.00 bata...        False   \n",
      "...                                                 ...          ...   \n",
      "4396  Tahukah kamu, bahwa saat itu papa memejamkan m...        False   \n",
      "4397  Sulitnya menetapkan Calon Wapresnya Jokowi di ...        False   \n",
      "4398  5. masa depannya nggak jelas. lha iya, gimana ...         True   \n",
      "4399  [USERNAME] dulu beneran ada mahasiswa Teknik U...        False   \n",
      "4400  Ya Allah, hanya Engkau yang mengetahui rasa sa...        False   \n",
      "\n",
      "      label_fear  label_happy  label_love  label_sadness  \n",
      "0          False        False       False          False  \n",
      "1          False        False       False          False  \n",
      "2          False         True       False          False  \n",
      "3          False        False       False          False  \n",
      "4          False         True       False          False  \n",
      "...          ...          ...         ...            ...  \n",
      "4396       False        False        True          False  \n",
      "4397        True        False       False          False  \n",
      "4398       False        False       False          False  \n",
      "4399       False         True       False          False  \n",
      "4400       False        False       False           True  \n",
      "\n",
      "[4401 rows x 6 columns]\n"
     ]
    }
   ],
   "source": [
    "df = pd.get_dummies(twitter, columns=[\"label\"])\n",
    "print(df)"
   ]
  },
  {
   "cell_type": "markdown",
   "id": "936fd740",
   "metadata": {},
   "source": [
    "## Feature Selection\n",
    "Pada tahap ini, feature selection tidak dilakukan karena fitur pada dataset sudah mencukupi kebutuhan dan tidak dapat dikurangi lagi.  \n",
    "Dengan demikian, fitur yang digunakan dalam pelatihan model ini adalah label dan tweet (twitter emotion dataset) dan word dan translation (kamus singkatan)"
   ]
  },
  {
   "cell_type": "markdown",
   "id": "5cbc54cb",
   "metadata": {},
   "source": [
    "## Dimensionality Reduction\n",
    "Pada tahap ini, dimensionality reduction tidak dilakukan karena fitur pada dataset sudah mencukupi kebutuhan dan tidak dapat dikurangi lagi.  \n",
    "Dengan demikian, fitur yang digunakan dalam pelatihan model ini adalah label dan tweet (twitter emotion dataset) dan word dan translation (kamus singkatan)"
   ]
  },
  {
   "cell_type": "markdown",
   "id": "4cb6be09",
   "metadata": {},
   "source": [
    "## Balancing\n",
    "Pada tahap ini, Balancing tidak dilakukan karena fitur pada dataset sudah mencukupi kebutuhan dan tidak dapat dikurangi lagi.  \n",
    "Dengan demikian, fitur yang digunakan dalam pelatihan model ini adalah label dan tweet (twitter emotion dataset) dan word dan translation (kamus singkatan)"
   ]
  }
 ],
 "metadata": {
  "kernelspec": {
   "display_name": ".venv",
   "language": "python",
   "name": "python3"
  },
  "language_info": {
   "codemirror_mode": {
    "name": "ipython",
    "version": 3
   },
   "file_extension": ".py",
   "mimetype": "text/x-python",
   "name": "python",
   "nbconvert_exporter": "python",
   "pygments_lexer": "ipython3",
   "version": "3.13.3"
  }
 },
 "nbformat": 4,
 "nbformat_minor": 5
}
