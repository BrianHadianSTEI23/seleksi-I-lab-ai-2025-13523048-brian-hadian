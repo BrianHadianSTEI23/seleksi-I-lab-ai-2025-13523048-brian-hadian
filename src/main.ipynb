{
 "cells": [
  {
   "cell_type": "markdown",
   "id": "f3cdcb44",
   "metadata": {},
   "source": [
    "# Bitcoin Price Range History 20250901\n",
    "\n",
    "This data is in format csv and has around 2 million rows. This dataset has columns as such\n",
    "\n",
    "1. Start : Date (Indicates the start date of the data record) (Format XX-XX-XXXX) (NUMERIC)\n",
    "\n",
    "2. End : Date ( Indicates the end date of the data record) (Format XX/XX/XXXX) (NUMERIC)\n",
    "\n",
    "3. Open : Number ( The price at which Bitcoin Ended trading at the beginning of the day.) (NUMERIC)\n",
    "\n",
    "4. High : Number (The highest price point reached by Bitcoin during the day.) (NUMERIC)\n",
    "\n",
    "5. Low : Number (The lowest price point reached by Bitcoin during the day.) (NUMERIC)\n",
    "\n",
    "6. Close : Number (The price at which Bitcoin ended trading at the close of the day.) (NUMERIC)\n",
    "\n",
    "7. Volume : Number (Total volume of Bitcoin traded during the day.) \n",
    "\n",
    "8. Market Cap : Number (The total market value of Bitcoin at the end of the day.) "
   ]
  },
  {
   "cell_type": "code",
   "execution_count": 145,
   "id": "3aa7492c",
   "metadata": {},
   "outputs": [],
   "source": [
    "# Imports\n",
    "import pandas as pd\n",
    "import seaborn as sns\n",
    "import numpy as np\n",
    "import matplotlib.pyplot as plt\n",
    "\n",
    "from reinforcement.sarsa import SARSAWumpus\n",
    "from reinforcement.qLearning import QLearningWumpus\n",
    "from supervisedLearning.ann import ArtificialNeuralNetwork\n",
    "from supervisedLearning.knn import KNearestNeigbor\n",
    "from supervisedLearning.regression import PolynomialRegression\n",
    "from supervisedLearning.svm import SupportVectorMachine\n",
    "from unsupervisedLearning.dbscan import DBScan\n",
    "from unsupervisedLearning.kMeans import KMeans\n",
    "from unsupervisedLearning.pca import PCA"
   ]
  },
  {
   "cell_type": "code",
   "execution_count": 146,
   "id": "a991edbb",
   "metadata": {},
   "outputs": [],
   "source": [
    "# read file\n",
    "dataset1 = \"../data/bitcoin_2010-07-17_2024-06-28.csv\"\n",
    "dataset2 = \"../data/iris.csv\"\n",
    "\n",
    "df1 = pd.read_csv(dataset1)\n",
    "df2 = pd.read_csv(dataset2)"
   ]
  },
  {
   "cell_type": "markdown",
   "id": "d3310894",
   "metadata": {},
   "source": [
    "# Exploratory Data Analysis"
   ]
  },
  {
   "cell_type": "code",
   "execution_count": 147,
   "id": "7bf4681b",
   "metadata": {},
   "outputs": [
    {
     "name": "stdout",
     "output_type": "stream",
     "text": [
      "Start         5095\n",
      "End           5095\n",
      "Open          5095\n",
      "High          5095\n",
      "Low           5095\n",
      "Close         5095\n",
      "Volume        5095\n",
      "Market Cap    5095\n",
      "dtype: int64\n"
     ]
    }
   ],
   "source": [
    "# jumlah data\n",
    "print(df1.count())"
   ]
  },
  {
   "cell_type": "markdown",
   "id": "06a10143",
   "metadata": {},
   "source": [
    "## Mean"
   ]
  },
  {
   "cell_type": "code",
   "execution_count": 148,
   "id": "1ef5cf1c",
   "metadata": {},
   "outputs": [
    {
     "name": "stdout",
     "output_type": "stream",
     "text": [
      "15.745829244357212\n",
      "6.521295387634936\n",
      "2017.0145240431796\n",
      "15.747988223748774\n",
      "6.521099116781158\n",
      "2017.0172718351325\n",
      "11831.709217790709\n",
      "12102.805317688284\n",
      "11547.0694648425\n",
      "11844.945595570605\n",
      "21350859807.48359\n",
      "222969311664.0645\n"
     ]
    }
   ],
   "source": [
    "# start\n",
    "print(pd.to_datetime(df1[\"Start\"], format=\"%Y-%m-%d\").dt.day.mean())\n",
    "print(pd.to_datetime(df1[\"Start\"], format=\"%Y-%m-%d\").dt.month.mean())\n",
    "print(pd.to_datetime(df1[\"Start\"], format=\"%Y-%m-%d\").dt.year.mean())\n",
    "\n",
    "#end \n",
    "print(pd.to_datetime(df1[\"End\"], format='%Y-%m-%d').dt.day.mean())\n",
    "print(pd.to_datetime(df1[\"End\"], format='%Y-%m-%d').dt.month.mean())\n",
    "print(pd.to_datetime(df1[\"End\"], format='%Y-%m-%d').dt.year.mean())\n",
    "\n",
    "# latitude\n",
    "print(df1[\"Open\"].mean())\n",
    "print(df1[\"High\"].mean())\n",
    "print(df1[\"Low\"].mean())\n",
    "print(df1[\"Close\"].mean())\n",
    "print(df1[\"Volume\"].mean())\n",
    "print(df1[\"Market Cap\"].mean())\n",
    "\n"
   ]
  },
  {
   "cell_type": "markdown",
   "id": "df55937d",
   "metadata": {},
   "source": [
    "## Standard Deviation"
   ]
  },
  {
   "cell_type": "code",
   "execution_count": 149,
   "id": "bad2e1ff",
   "metadata": {},
   "outputs": [
    {
     "name": "stdout",
     "output_type": "stream",
     "text": [
      "8.79886767788478\n",
      "3.455461171283915\n",
      "4.047881006171817\n",
      "8.800524854062267\n",
      "3.455462375528033\n",
      "4.047870212163028\n",
      "17422.697478239235\n",
      "17813.944836957937\n",
      "17006.738228724127\n",
      "17438.748935025287\n",
      "33735603243.43302\n",
      "335285037246.26086\n"
     ]
    }
   ],
   "source": [
    "# start\n",
    "print(pd.to_datetime(df1[\"Start\"], format=\"%Y-%m-%d\").dt.day.std())\n",
    "print(pd.to_datetime(df1[\"Start\"], format=\"%Y-%m-%d\").dt.month.std())\n",
    "print(pd.to_datetime(df1[\"Start\"], format=\"%Y-%m-%d\").dt.year.std())\n",
    "\n",
    "#end \n",
    "print(pd.to_datetime(df1[\"End\"], format='%Y-%m-%d').dt.day.std())\n",
    "print(pd.to_datetime(df1[\"End\"], format='%Y-%m-%d').dt.month.std())\n",
    "print(pd.to_datetime(df1[\"End\"], format='%Y-%m-%d').dt.year.std())\n",
    "\n",
    "# latitude\n",
    "print(df1[\"Open\"].std())\n",
    "print(df1[\"High\"].std())\n",
    "print(df1[\"Low\"].std())\n",
    "print(df1[\"Close\"].std())\n",
    "print(df1[\"Volume\"].std())\n",
    "print(df1[\"Market Cap\"].std())"
   ]
  },
  {
   "cell_type": "markdown",
   "id": "41773959",
   "metadata": {},
   "source": [
    "## Minimum"
   ]
  },
  {
   "cell_type": "code",
   "execution_count": 150,
   "id": "74e6c4db",
   "metadata": {},
   "outputs": [
    {
     "name": "stdout",
     "output_type": "stream",
     "text": [
      "0\n",
      "0\n",
      "0\n",
      "2010-07-18\n",
      "1\n",
      "2010\n",
      "0.05\n",
      "0.05\n",
      "0.05\n",
      "0.05\n",
      "0.0\n",
      "0.0\n"
     ]
    }
   ],
   "source": [
    "# start\n",
    "print(pd.to_datetime(df1[\"Start\"], format=\"%Y-%m-%d\").dt.hour.min())\n",
    "print(pd.to_datetime(df1[\"Start\"], format=\"%Y-%m-%d\").dt.minute.min())\n",
    "print(pd.to_datetime(df1[\"Start\"], format=\"%Y-%m-%d\").dt.second.min())\n",
    "\n",
    "#end \n",
    "print(pd.to_datetime(df1[\"End\"], format='%Y-%m-%d').dt.date.min())\n",
    "print(pd.to_datetime(df1[\"End\"], format='%Y-%m-%d').dt.month.min())\n",
    "print(pd.to_datetime(df1[\"End\"], format='%Y-%m-%d').dt.year.min())\n",
    "\n",
    "# latitude\n",
    "print(df1[\"Open\"].min())\n",
    "print(df1[\"High\"].min())\n",
    "print(df1[\"Low\"].min())\n",
    "print(df1[\"Close\"].min())\n",
    "print(df1[\"Volume\"].min())\n",
    "print(df1[\"Market Cap\"].min())"
   ]
  },
  {
   "cell_type": "markdown",
   "id": "abeb52a2",
   "metadata": {},
   "source": [
    "## Maximum"
   ]
  },
  {
   "cell_type": "code",
   "execution_count": 151,
   "id": "6918939a",
   "metadata": {},
   "outputs": [
    {
     "name": "stdout",
     "output_type": "stream",
     "text": [
      "0\n",
      "0\n",
      "0\n",
      "2024-06-28\n",
      "12\n",
      "2010\n",
      "72961.03\n",
      "73628.43\n",
      "71333.36\n",
      "73087.95\n",
      "212151513117.8704\n",
      "1428493117552.5503\n"
     ]
    }
   ],
   "source": [
    "# start\n",
    "print(pd.to_datetime(df1[\"Start\"], format=\"%Y-%m-%d\").dt.hour.max())\n",
    "print(pd.to_datetime(df1[\"Start\"], format=\"%Y-%m-%d\").dt.minute.max())\n",
    "print(pd.to_datetime(df1[\"Start\"], format=\"%Y-%m-%d\").dt.second.max())\n",
    "\n",
    "#end \n",
    "print(pd.to_datetime(df1[\"End\"], format='%Y-%m-%d').dt.date.max())\n",
    "print(pd.to_datetime(df1[\"End\"], format='%Y-%m-%d').dt.month.max())\n",
    "print(pd.to_datetime(df1[\"End\"], format='%Y-%m-%d').dt.year.min())\n",
    "\n",
    "# latitude\n",
    "print(df1[\"Open\"].max())\n",
    "print(df1[\"High\"].max())\n",
    "print(df1[\"Low\"].max())\n",
    "print(df1[\"Close\"].max())\n",
    "print(df1[\"Volume\"].max())\n",
    "print(df1[\"Market Cap\"].max())"
   ]
  },
  {
   "cell_type": "markdown",
   "id": "327bb9a8",
   "metadata": {},
   "source": [
    "## Quantile"
   ]
  },
  {
   "cell_type": "code",
   "execution_count": 152,
   "id": "bba1d8f3",
   "metadata": {},
   "outputs": [
    {
     "name": "stdout",
     "output_type": "stream",
     "text": [
      "0.25    0.0\n",
      "0.50    0.0\n",
      "0.75    0.0\n",
      "Name: Start, dtype: float64\n",
      "0.25    0.0\n",
      "0.50    0.0\n",
      "0.75    0.0\n",
      "Name: Start, dtype: float64\n",
      "0.25    0.0\n",
      "0.50    0.0\n",
      "0.75    0.0\n",
      "Name: Start, dtype: float64\n",
      "0.25    2014-01-12\n",
      "0.50    2017-07-08\n",
      "0.75    2021-01-02\n",
      "Name: End, dtype: object\n",
      "0.25     4.0\n",
      "0.50     7.0\n",
      "0.75    10.0\n",
      "Name: End, dtype: float64\n",
      "0.25    2014.0\n",
      "0.50    2017.0\n",
      "0.75    2021.0\n",
      "Name: End, dtype: float64\n",
      "0.25      230.301000\n",
      "0.50     2608.560000\n",
      "0.75    17113.088459\n",
      "Name: Open, dtype: float64\n",
      "0.25      234.604500\n",
      "0.50     2757.940000\n",
      "0.75    17444.750278\n",
      "Name: High, dtype: float64\n",
      "0.25      226.953000\n",
      "0.50     2538.550000\n",
      "0.75    16833.803874\n",
      "Name: Low, dtype: float64\n",
      "0.25      230.385500\n",
      "0.50     2610.600000\n",
      "0.75    17098.057468\n",
      "Name: Close, dtype: float64\n",
      "0.25    8.455034e+06\n",
      "0.50    1.224709e+09\n",
      "0.75    3.429250e+10\n",
      "Name: Volume, dtype: float64\n",
      "0.25    3.295801e+09\n",
      "0.50    4.296678e+10\n",
      "0.75    3.253326e+11\n",
      "Name: Market Cap, dtype: float64\n"
     ]
    }
   ],
   "source": [
    "# start\n",
    "print(pd.to_datetime(df1[\"Start\"], format=\"%Y-%m-%d\").dt.hour.quantile([0.25, 0.5, 0.75]))\n",
    "print(pd.to_datetime(df1[\"Start\"], format=\"%Y-%m-%d\").dt.minute.quantile([0.25, 0.5, 0.75]))\n",
    "print(pd.to_datetime(df1[\"Start\"], format=\"%Y-%m-%d\").dt.second.quantile([0.25, 0.5, 0.75]))\n",
    "\n",
    "#end \n",
    "print(pd.to_datetime(df1[\"End\"], format='%Y-%m-%d').dt.date.quantile([0.25, 0.5, 0.75]))\n",
    "print(pd.to_datetime(df1[\"End\"], format='%Y-%m-%d').dt.month.quantile([0.25, 0.5, 0.75]))\n",
    "print(pd.to_datetime(df1[\"End\"], format='%Y-%m-%d').dt.year.quantile([0.25, 0.5, 0.75]))\n",
    "\n",
    "# latitude\n",
    "print(df1[\"Open\"].quantile([0.25, 0.5, 0.75]))\n",
    "print(df1[\"High\"].quantile([0.25, 0.5, 0.75]))\n",
    "print(df1[\"Low\"].quantile([0.25, 0.5, 0.75]))\n",
    "print(df1[\"Close\"].quantile([0.25, 0.5, 0.75]))\n",
    "print(df1[\"Volume\"].quantile([0.25, 0.5, 0.75]))\n",
    "print(df1[\"Market Cap\"].quantile([0.25, 0.5, 0.75]))"
   ]
  },
  {
   "cell_type": "markdown",
   "id": "e70317e0",
   "metadata": {},
   "source": [
    "# Data distribution check"
   ]
  },
  {
   "cell_type": "markdown",
   "id": "4aec0cca",
   "metadata": {},
   "source": [
    "## Numeric"
   ]
  },
  {
   "cell_type": "code",
   "execution_count": 153,
   "id": "b2f8cf98",
   "metadata": {},
   "outputs": [
    {
     "data": {
      "image/png": "[encoded data removed]",
      "text/plain": [
       "<Figure size 640x480 with 1 Axes>"
      ]
     },
     "metadata": {},
     "output_type": "display_data"
    },
    {
     "data": {
      "image/png": "[encoded data removed]",
      "text/plain": [
       "<Figure size 640x480 with 1 Axes>"
      ]
     },
     "metadata": {},
     "output_type": "display_data"
    },
    {
     "data": {
      "image/png": "[encoded data removed]",
      "text/plain": [
       "<Figure size 640x480 with 1 Axes>"
      ]
     },
     "metadata": {},
     "output_type": "display_data"
    },
    {
     "data": {
      "image/png": "[encoded data removed]",
      "text/plain": [
       "<Figure size 640x480 with 1 Axes>"
      ]
     },
     "metadata": {},
     "output_type": "display_data"
    },
    {
     "data": {
      "image/png": "[encoded data removed]",
      "text/plain": [
       "<Figure size 640x480 with 1 Axes>"
      ]
     },
     "metadata": {},
     "output_type": "display_data"
    },
    {
     "data": {
      "image/png": "[encoded data removed]",
      "text/plain": [
       "<Figure size 640x480 with 1 Axes>"
      ]
     },
     "metadata": {},
     "output_type": "display_data"
    },
    {
     "data": {
      "image/png": "[encoded data removed]",
      "text/plain": [
       "<Figure size 640x480 with 1 Axes>"
      ]
     },
     "metadata": {},
     "output_type": "display_data"
    },
    {
     "data": {
      "image/png": "[encoded data removed]",
      "text/plain": [
       "<Figure size 640x480 with 1 Axes>"
      ]
     },
     "metadata": {},
     "output_type": "display_data"
    },
    {
     "data": {
      "image/png": "[encoded data removed]",
      "text/plain": [
       "<Figure size 640x480 with 1 Axes>"
      ]
     },
     "metadata": {},
     "output_type": "display_data"
    },
    {
     "data": {
      "image/png": "[encoded data removed]",
      "text/plain": [
       "<Figure size 640x480 with 1 Axes>"
      ]
     },
     "metadata": {},
     "output_type": "display_data"
    },
    {
     "data": {
      "image/png": "[encoded data removed]",
      "text/plain": [
       "<Figure size 640x480 with 1 Axes>"
      ]
     },
     "metadata": {},
     "output_type": "display_data"
    },
    {
     "data": {
      "image/png": "[encoded data removed]",
      "text/plain": [
       "<Figure size 640x480 with 1 Axes>"
      ]
     },
     "metadata": {},
     "output_type": "display_data"
    },
    {
     "data": {
      "image/png": "[encoded data removed]",
      "text/plain": [
       "<Figure size 640x480 with 1 Axes>"
      ]
     },
     "metadata": {},
     "output_type": "display_data"
    },
    {
     "data": {
      "image/png": "[encoded data removed]",
      "text/plain": [
       "<Figure size 640x480 with 1 Axes>"
      ]
     },
     "metadata": {},
     "output_type": "display_data"
    },
    {
     "data": {
      "image/png": "[encoded data removed]",
      "text/plain": [
       "<Figure size 640x480 with 1 Axes>"
      ]
     },
     "metadata": {},
     "output_type": "display_data"
    },
    {
     "data": {
      "image/png": "[encoded data removed]",
      "text/plain": [
       "<Figure size 640x480 with 1 Axes>"
      ]
     },
     "metadata": {},
     "output_type": "display_data"
    },
    {
     "data": {
      "image/png": "[encoded data removed]",
      "text/plain": [
       "<Figure size 640x480 with 1 Axes>"
      ]
     },
     "metadata": {},
     "output_type": "display_data"
    },
    {
     "data": {
      "image/png": "[encoded data removed]",
      "text/plain": [
       "<Figure size 640x480 with 1 Axes>"
      ]
     },
     "metadata": {},
     "output_type": "display_data"
    },
    {
     "data": {
      "image/png": "[encoded data removed]",
      "text/plain": [
       "<Figure size 640x480 with 1 Axes>"
      ]
     },
     "metadata": {},
     "output_type": "display_data"
    },
    {
     "data": {
      "image/png": "[encoded data removed]",
      "text/plain": [
       "<Figure size 640x480 with 1 Axes>"
      ]
     },
     "metadata": {},
     "output_type": "display_data"
    },
    {
     "data": {
      "image/png": "[encoded data removed]",
      "text/plain": [
       "<Figure size 640x480 with 1 Axes>"
      ]
     },
     "metadata": {},
     "output_type": "display_data"
    },
    {
     "data": {
      "image/png": "[encoded data removed]",
      "text/plain": [
       "<Figure size 640x480 with 1 Axes>"
      ]
     },
     "metadata": {},
     "output_type": "display_data"
    },
    {
     "data": {
      "image/png": "[encoded data removed]",
      "text/plain": [
       "<Figure size 640x480 with 1 Axes>"
      ]
     },
     "metadata": {},
     "output_type": "display_data"
    },
    {
     "data": {
      "image/png": "[encoded data removed]",
      "text/plain": [
       "<Figure size 640x480 with 1 Axes>"
      ]
     },
     "metadata": {},
     "output_type": "display_data"
    }
   ],
   "source": [
    "# start\n",
    "sns.histplot(pd.to_datetime(df1[\"Start\"], format=\"%Y-%m-%d\",  errors=\"coerce\").dt.year, bins=24, kde=True)\n",
    "plt.show()\n",
    "\n",
    "# Boxplot\n",
    "sns.boxplot(x=pd.to_datetime(df1[\"Start\"], format=\"%Y-%m-%d\",  errors=\"coerce\").dt.year)\n",
    "plt.show()\n",
    " \n",
    "# start\n",
    "sns.histplot(pd.to_datetime(df1[\"Start\"], format=\"%Y-%m-%d\",  errors=\"coerce\").dt.month, bins=24, kde=True)\n",
    "plt.show()\n",
    "\n",
    "# Boxplot\n",
    "sns.boxplot(x=pd.to_datetime(df1[\"Start\"], format=\"%Y-%m-%d\",  errors=\"coerce\").dt.month)\n",
    "plt.show()\n",
    " \n",
    "# start\n",
    "sns.histplot(pd.to_datetime(df1[\"Start\"], format=\"%Y-%m-%d\",  errors=\"coerce\").dt.date, bins=24, kde=True)\n",
    "plt.show()\n",
    "\n",
    "# Boxplot\n",
    "sns.boxplot(x=pd.to_datetime(df1[\"Start\"], format=\"%Y-%m-%d\",  errors=\"coerce\").dt.date)\n",
    "plt.show()\n",
    " \n",
    "# end\n",
    "sns.histplot(pd.to_datetime(df1[\"End\"], format=\"%Y-%m-%d\",  errors=\"coerce\").dt.year, bins=60, kde=True)\n",
    "plt.show()\n",
    "\n",
    "# Boxplot\n",
    "sns.boxplot(x=pd.to_datetime(df1[\"End\"], format=\"%Y-%m-%d\", errors=\"coerce\").dt.year)\n",
    "plt.show()\n",
    "\n",
    "# end\n",
    "sns.histplot(pd.to_datetime(df1[\"End\"], format=\"%Y-%m-%d\",  errors=\"coerce\").dt.month, bins=60, kde=True)\n",
    "plt.show()\n",
    "\n",
    "# Boxplot\n",
    "sns.boxplot(x=pd.to_datetime(df1[\"End\"], format=\"%Y-%m-%d\", errors=\"coerce\").dt.month)\n",
    "plt.show()\n",
    "\n",
    "# end\n",
    "sns.histplot(pd.to_datetime(df1[\"End\"], format=\"%Y-%m-%d\",  errors=\"coerce\").dt.date, bins=60, kde=True)\n",
    "plt.show()\n",
    "\n",
    "# Boxplot\n",
    "sns.boxplot(x=pd.to_datetime(df1[\"End\"], format=\"%Y-%m-%d\", errors=\"coerce\").dt.date)\n",
    "plt.show()\n",
    "\n",
    "# open\n",
    "sns.histplot(df1[\"Open\"], bins=60, kde=True)\n",
    "plt.show()\n",
    "\n",
    "# Boxplot\n",
    "sns.boxplot(x=df1[\"Open\"])\n",
    "plt.show()\n",
    "\n",
    "# open\n",
    "sns.histplot(df1[\"High\"], bins=60, kde=True)\n",
    "plt.show()\n",
    "\n",
    "# Boxplot\n",
    "sns.boxplot(x=df1[\"High\"])\n",
    "plt.show()\n",
    "\n",
    "# open\n",
    "sns.histplot(df1[\"Low\"], bins=60, kde=True)\n",
    "plt.show()\n",
    "\n",
    "# Boxplot\n",
    "sns.boxplot(x=df1[\"Low\"])\n",
    "plt.show()\n",
    "\n",
    "# open\n",
    "sns.histplot(df1[\"Close\"], bins=60, kde=True)\n",
    "plt.show()\n",
    "\n",
    "# Boxplot\n",
    "sns.boxplot(x=df1[\"Close\"])\n",
    "plt.show()\n",
    "\n",
    "# open\n",
    "sns.histplot(df1[\"Volume\"], bins=60, kde=True)\n",
    "plt.show()\n",
    "\n",
    "# Boxplot\n",
    "sns.boxplot(x=df1[\"Volume\"])\n",
    "plt.show()\n",
    "\n",
    "# open\n",
    "sns.histplot(df1[\"Market Cap\"], bins=60, kde=True)\n",
    "plt.show()\n",
    "\n",
    "# Boxplot\n",
    "sns.boxplot(x=df1[\"Market Cap\"])\n",
    "plt.show()\n"
   ]
  },
  {
   "cell_type": "markdown",
   "id": "05aa5c66",
   "metadata": {},
   "source": [
    "## Outlier Check (Z-value check)"
   ]
  },
  {
   "cell_type": "markdown",
   "id": "ac5e18df",
   "metadata": {},
   "source": [
    "## Numerical"
   ]
  },
  {
   "cell_type": "markdown",
   "id": "5b474e20",
   "metadata": {},
   "source": [
    "### Start"
   ]
  },
  {
   "cell_type": "code",
   "execution_count": 154,
   "id": "36c11c73",
   "metadata": {},
   "outputs": [
    {
     "name": "stdout",
     "output_type": "stream",
     "text": [
      "Year outliers count: 0\n",
      "Month outliers count: 0\n",
      "Day outliers count: 0\n"
     ]
    }
   ],
   "source": [
    "# Convert Start column to datetime once\n",
    "df1[\"Start_dt\"] = pd.to_datetime(df1[\"Start\"], format='%Y-%m-%d', errors='coerce')\n",
    "\n",
    "# --- Year outliers ---\n",
    "year = df1[\"Start_dt\"].dt.year\n",
    "mean_year = year.mean()\n",
    "std_year = year.std()\n",
    "z_score_year = (year - mean_year) / std_year\n",
    "outliers_year = df1[z_score_year.abs() > 3]\n",
    "print(f\"Year outliers count: {len(outliers_year)}\")\n",
    "\n",
    "# --- Month outliers ---\n",
    "month = df1[\"Start_dt\"].dt.month\n",
    "mean_month = month.mean()\n",
    "std_month = month.std()\n",
    "z_score_month = (month - mean_month) / std_month\n",
    "outliers_month = df1[z_score_month.abs() > 3]\n",
    "print(f\"Month outliers count: {len(outliers_month)}\")\n",
    "\n",
    "# --- Day outliers ---\n",
    "day = df1[\"Start_dt\"].dt.day\n",
    "mean_day = day.mean()\n",
    "std_day = day.std()\n",
    "z_score_day = (day - mean_day) / std_day\n",
    "outliers_day = df1[z_score_day.abs() > 3]\n",
    "print(f\"Day outliers count: {len(outliers_day)}\")"
   ]
  },
  {
   "cell_type": "markdown",
   "id": "16101014",
   "metadata": {},
   "source": [
    "### End"
   ]
  },
  {
   "cell_type": "code",
   "execution_count": 155,
   "id": "4214e93a",
   "metadata": {},
   "outputs": [
    {
     "name": "stdout",
     "output_type": "stream",
     "text": [
      "Outliers count 0\n",
      "Outliers count 0\n",
      "Outliers count 0\n"
     ]
    }
   ],
   "source": [
    "mean = pd.to_datetime(df1[\"End\"], format='%Y-%m-%d', errors='coerce').dt.year.mean()\n",
    "std = pd.to_datetime(df1[\"End\"], format='%Y-%m-%d', errors='coerce').dt.year.std()\n",
    "\n",
    "z_score = (pd.to_datetime(df1[\"End\"], format='%Y-%m-%d', errors='coerce').dt.year - mean) / std\n",
    "outliers = df1[z_score.abs() > 3]\n",
    "print(f\"Outliers count {len(outliers)}\")\n",
    "\n",
    "mean = pd.to_datetime(df1[\"End\"], format='%Y-%m-%d', errors='coerce').dt.month.mean()\n",
    "std = pd.to_datetime(df1[\"End\"], format='%Y-%m-%d', errors='coerce').dt.month.std()\n",
    "\n",
    "z_score = (pd.to_datetime(df1[\"End\"], format='%Y-%m-%d', errors='coerce').dt.month - mean) / std\n",
    "outliers = df1[z_score.abs() > 3]\n",
    "print(f\"Outliers count {len(outliers)}\")\n",
    "\n",
    "mean = pd.to_datetime(df1[\"End\"], format='%Y-%m-%d', errors='coerce').dt.day.mean()\n",
    "std = pd.to_datetime(df1[\"End\"], format='%Y-%m-%d', errors='coerce').dt.day.std()\n",
    "\n",
    "z_score = (pd.to_datetime(df1[\"End\"], format='%Y-%m-%d', errors='coerce').dt.day - mean) / std\n",
    "outliers = df1[z_score.abs() > 3]\n",
    "print(f\"Outliers count {len(outliers)}\")"
   ]
  },
  {
   "cell_type": "markdown",
   "id": "6ec8db55",
   "metadata": {},
   "source": [
    "### Open"
   ]
  },
  {
   "cell_type": "code",
   "execution_count": 156,
   "id": "2f64e33a",
   "metadata": {},
   "outputs": [
    {
     "name": "stdout",
     "output_type": "stream",
     "text": [
      "Outliers count 93\n"
     ]
    }
   ],
   "source": [
    "mean = df1[\"Open\"].mean()\n",
    "std = df1[\"Open\"].std()\n",
    "\n",
    "z_score = (df1[\"Open\"] - mean) / std\n",
    "outliers = df1[z_score.abs() > 3]\n",
    "print(f\"Outliers count {len(outliers)}\")\n"
   ]
  },
  {
   "cell_type": "markdown",
   "id": "bd35a1a2",
   "metadata": {},
   "source": [
    "### High"
   ]
  },
  {
   "cell_type": "code",
   "execution_count": 157,
   "id": "78ff065e",
   "metadata": {},
   "outputs": [
    {
     "name": "stdout",
     "output_type": "stream",
     "text": [
      "Outliers count 91\n"
     ]
    }
   ],
   "source": [
    "mean = df1[\"High\"].mean()\n",
    "std = df1[\"High\"].std()\n",
    "\n",
    "z_score = (df1[\"High\"] - mean) / std\n",
    "outliers = df1[z_score.abs() > 3]\n",
    "print(f\"Outliers count {len(outliers)}\")\n"
   ]
  },
  {
   "cell_type": "markdown",
   "id": "ff787233",
   "metadata": {},
   "source": [
    "### Low"
   ]
  },
  {
   "cell_type": "code",
   "execution_count": 158,
   "id": "9f11acd1",
   "metadata": {},
   "outputs": [
    {
     "name": "stdout",
     "output_type": "stream",
     "text": [
      "Outliers count 97\n"
     ]
    }
   ],
   "source": [
    "mean = df1[\"Low\"].mean()\n",
    "std = df1[\"Low\"].std()\n",
    "\n",
    "z_score = (df1[\"Low\"] - mean) / std\n",
    "outliers = df1[z_score.abs() > 3]\n",
    "print(f\"Outliers count {len(outliers)}\")\n"
   ]
  },
  {
   "cell_type": "markdown",
   "id": "25085486",
   "metadata": {},
   "source": [
    "### Close"
   ]
  },
  {
   "cell_type": "code",
   "execution_count": 159,
   "id": "2efc4335",
   "metadata": {},
   "outputs": [
    {
     "name": "stdout",
     "output_type": "stream",
     "text": [
      "Outliers count 92\n"
     ]
    }
   ],
   "source": [
    "mean = df1[\"Close\"].mean()\n",
    "std = df1[\"Close\"].std()\n",
    "\n",
    "z_score = (df1[\"Close\"] - mean) / std\n",
    "outliers = df1[z_score.abs() > 3]\n",
    "print(f\"Outliers count {len(outliers)}\")\n"
   ]
  },
  {
   "cell_type": "markdown",
   "id": "48331a32",
   "metadata": {},
   "source": [
    "### Volume"
   ]
  },
  {
   "cell_type": "code",
   "execution_count": 160,
   "id": "72c9c678",
   "metadata": {},
   "outputs": [
    {
     "name": "stdout",
     "output_type": "stream",
     "text": [
      "Outliers count 96\n"
     ]
    }
   ],
   "source": [
    "mean = df1[\"Volume\"].mean()\n",
    "std = df1[\"Volume\"].std()\n",
    "\n",
    "z_score = (df1[\"Volume\"] - mean) / std\n",
    "outliers = df1[z_score.abs() > 3]\n",
    "print(f\"Outliers count {len(outliers)}\")\n"
   ]
  },
  {
   "cell_type": "markdown",
   "id": "49dd1859",
   "metadata": {},
   "source": [
    "### Market Cap"
   ]
  },
  {
   "cell_type": "code",
   "execution_count": 161,
   "id": "d67c9ea0",
   "metadata": {},
   "outputs": [
    {
     "name": "stdout",
     "output_type": "stream",
     "text": [
      "Outliers count 103\n"
     ]
    }
   ],
   "source": [
    "mean = df1[\"Market Cap\"].mean()\n",
    "std = df1[\"Market Cap\"].std()\n",
    "\n",
    "z_score = (df1[\"Market Cap\"] - mean) / std\n",
    "outliers = df1[z_score.abs() > 3]\n",
    "print(f\"Outliers count {len(outliers)}\")\n"
   ]
  },
  {
   "cell_type": "markdown",
   "id": "5c283471",
   "metadata": {},
   "source": [
    "# Data preprocessing\n",
    "This stage include data cleaning (handling missing values, remove duplicates, correct error and inconsistencies), Data transformation (normalization, standardization, categorical data encoding) \n",
    "Feature selection, and Dimensionality reduction. Handling missing values will be approached in categorical values first. If null is found, then it will changed into modus of that certain feature. \n",
    "If outlier is found, it will removed from the dataset. In numerical values, every null value will be changed into the mean value of that feature related to that certain crime. If outlier is found,\n",
    "it will be removed from the dataset. "
   ]
  },
  {
   "cell_type": "markdown",
   "id": "8a9511bf",
   "metadata": {},
   "source": [
    "## Data Cleaning"
   ]
  },
  {
   "cell_type": "markdown",
   "id": "39d6492c",
   "metadata": {},
   "source": [
    "### Start"
   ]
  },
  {
   "cell_type": "code",
   "execution_count": 162,
   "id": "91bfb932",
   "metadata": {},
   "outputs": [],
   "source": [
    "# change all rows without the null values in very row\n",
    "year_mean = int(pd.to_datetime(df1[\"Start\"], format=\"%Y-%m-%d\", errors=\"coerce\").dt.year.mean())\n",
    "month_mean = int(pd.to_datetime(df1[\"Start\"], format=\"%Y-%m-%d\", errors=\"coerce\").dt.month.mean())\n",
    "date_mean = int(pd.to_datetime(df1[\"Start\"], format=\"%Y-%m-%d\", errors=\"coerce\").dt.day.mean())\n",
    "datetime_mean = f\"{month_mean:02d}-{date_mean:02d}-{year_mean:02d}\"\n",
    "df1.loc[df1[\"Start\"] == \"(null)\", \"Start\"] = datetime_mean"
   ]
  },
  {
   "cell_type": "markdown",
   "id": "1f8df444",
   "metadata": {},
   "source": [
    "### End"
   ]
  },
  {
   "cell_type": "code",
   "execution_count": 163,
   "id": "0b300f57",
   "metadata": {},
   "outputs": [],
   "source": [
    "year_mean = int(pd.to_datetime(df1[\"End\"], format=\"%Y-%m-%d\", errors=\"coerce\").dt.year.mean())\n",
    "month_mean = int(pd.to_datetime(df1[\"End\"], format=\"%Y-%m-%d\", errors=\"coerce\").dt.month.mean())\n",
    "date_mean = int(pd.to_datetime(df1[\"End\"], format=\"%Y-%m-%d\", errors=\"coerce\").dt.day.mean())\n",
    "datetime_mean = f\"{month_mean:02d}-{date_mean:02d}-{year_mean:02d}\"\n",
    "df1.loc[df1[\"End\"] == \"(null)\", \"End\"] = datetime_mean"
   ]
  },
  {
   "cell_type": "markdown",
   "id": "58d38409",
   "metadata": {},
   "source": [
    "### Open"
   ]
  },
  {
   "cell_type": "code",
   "execution_count": 164,
   "id": "0b96f3a4",
   "metadata": {},
   "outputs": [],
   "source": [
    "mean = df1[\"Open\"].mean()\n",
    "df1.loc[df1[\"Open\"] == \"(null)\", \"Open\"] = mean"
   ]
  },
  {
   "cell_type": "markdown",
   "id": "a7ead3e8",
   "metadata": {},
   "source": [
    "### High"
   ]
  },
  {
   "cell_type": "code",
   "execution_count": 165,
   "id": "1592db5e",
   "metadata": {},
   "outputs": [],
   "source": [
    "mean = df1[\"High\"].mean()\n",
    "df1.loc[df1[\"High\"] == \"(null)\", \"High\"] = mean"
   ]
  },
  {
   "cell_type": "markdown",
   "id": "33762d39",
   "metadata": {},
   "source": [
    "### Low"
   ]
  },
  {
   "cell_type": "code",
   "execution_count": 166,
   "id": "38590464",
   "metadata": {},
   "outputs": [],
   "source": [
    "mean = df1[\"Low\"].mean()\n",
    "df1.loc[df1[\"Low\"] == \"(null)\", \"Low\"] = mean"
   ]
  },
  {
   "cell_type": "markdown",
   "id": "e46d7058",
   "metadata": {},
   "source": [
    "### Close"
   ]
  },
  {
   "cell_type": "code",
   "execution_count": 167,
   "id": "6fab0a9c",
   "metadata": {},
   "outputs": [],
   "source": [
    "mean = df1[\"Close\"].mean()\n",
    "df1.loc[df1[\"Close\"] == \"(null)\", \"Close\"] = mean"
   ]
  },
  {
   "cell_type": "markdown",
   "id": "da8cef3e",
   "metadata": {},
   "source": [
    "### Volume"
   ]
  },
  {
   "cell_type": "code",
   "execution_count": 168,
   "id": "1bf7e63f",
   "metadata": {},
   "outputs": [],
   "source": [
    "mean = df1[\"Volume\"].mean()\n",
    "df1.loc[df1[\"Volume\"] == \"(null)\", \"Volume\"] = mean"
   ]
  },
  {
   "cell_type": "markdown",
   "id": "4202019c",
   "metadata": {},
   "source": [
    "### Market cap"
   ]
  },
  {
   "cell_type": "code",
   "execution_count": 169,
   "id": "4c6d498f",
   "metadata": {},
   "outputs": [],
   "source": [
    "mean = df1[\"Market Cap\"].mean()\n",
    "df1.loc[df1[\"Market Cap\"] == \"(null)\", \"Market Cap\"] = mean"
   ]
  },
  {
   "cell_type": "markdown",
   "id": "c2601461",
   "metadata": {},
   "source": [
    "# Data Encoding\n",
    "Encoding is needed to be able to get the value computed by algorithms (KNN, and many algorithms that rely on doing it using numbers). In this case, it is only needed to convert the date in the Start column into continuous value (in second relative from year 0)"
   ]
  },
  {
   "cell_type": "code",
   "execution_count": 170,
   "id": "064775c8",
   "metadata": {},
   "outputs": [],
   "source": [
    "yearToSecond = pd.to_datetime(df1[\"Start\"], format=\"%Y-%m-%d\", errors=\"coerce\").dt.year * 365 * 24 * 60 * 60\n",
    "monthToSecond = pd.to_datetime(df1[\"Start\"], format=\"%Y-%m-%d\", errors=\"coerce\").dt.month * 30 * 24 * 60 * 60\n",
    "dateToSecond = pd.to_datetime(df1[\"Start\"], format=\"%Y-%m-%d\", errors=\"coerce\").dt.day * 24 * 60 * 60\n",
    "df1[\"Start\"] = yearToSecond + monthToSecond + dateToSecond\n",
    "\n",
    "yearToSecond = pd.to_datetime(df1[\"End\"], format=\"%Y-%m-%d\", errors=\"coerce\").dt.year * 365 * 24 * 60 * 60\n",
    "monthToSecond = pd.to_datetime(df1[\"End\"], format=\"%Y-%m-%d\", errors=\"coerce\").dt.month * 30 * 24 * 60 * 60\n",
    "dateToSecond = pd.to_datetime(df1[\"End\"], format=\"%Y-%m-%d\", errors=\"coerce\").dt.day * 24 * 60 * 60\n",
    "df1[\"End\"] = yearToSecond + monthToSecond + dateToSecond"
   ]
  },
  {
   "cell_type": "markdown",
   "id": "389f4ba3",
   "metadata": {},
   "source": [
    "## Feature Selection\n",
    "Feature selection is done to get only the relevant column, that is the all of the column except the end date and for processing SVM, there will be a new column that will store the year and month in year-month format"
   ]
  },
  {
   "cell_type": "code",
   "execution_count": null,
   "id": "a49ec1c7",
   "metadata": {},
   "outputs": [],
   "source": [
    "# If your Start column is in seconds since epoch\n",
    "df1[\"Start_dt\"] = pd.to_datetime(df1[\"Start\"], unit='s', errors='coerce')\n",
    "\n",
    "# If your Start column is in milliseconds since epoch\n",
    "# df1[\"Start_dt\"] = pd.to_datetime(df1[\"Start\"], unit='ms', errors='coerce')\n",
    "\n",
    "# Now you can extract Period\n",
    "df1[\"Period\"] = df1[\"Start_dt\"].dt.strftime(\"%Y-%m\")"
   ]
  },
  {
   "cell_type": "code",
   "execution_count": 172,
   "id": "283f7b79",
   "metadata": {},
   "outputs": [],
   "source": [
    "# listing feature and class of new column period\n",
    "features = [\"Open\", \"High\", \"Low\", \"Close\", \"Market Cap\", \"Volume\"]\n",
    "svmFeatures = [\"Open\", \"High\", \"Low\", \"Close\", \"Market Cap\", \"Volume\"]\n",
    "target = \"Start\"\n",
    "svmTarget = \"Period_encoded\"\n",
    "\n",
    "classes = df1[\"Period\"].unique()\n",
    "period_to_num = {p: i for i, p in enumerate(sorted(classes))}\n",
    "df1[\"Period_encoded\"] = df1[\"Period\"].map(period_to_num)\n",
    "\n",
    "# Prepare X and Y\n",
    "X = df1[[\"Open\", \"High\", \"Low\", \"Close\", \"Market Cap\", \"Volume\", \"Period_encoded\"]]\n",
    "Y = np.array(df1[\"Start\"], dtype=float)\n",
    "\n",
    "svmX = df1[[\"Start\", \"Open\", \"High\", \"Low\", \"Close\", \"Market Cap\", \"Volume\", \"Period_encoded\"]].to_numpy()\n",
    "svmY = np.array(df1[svmTarget], dtype=float)\n"
   ]
  },
  {
   "cell_type": "markdown",
   "id": "f3d15113",
   "metadata": {},
   "source": [
    "## Dimensionality Reduction\n",
    "Dimensionality reduction is done to reduce the noise of the characteristics of the attributes and\n",
    "focus on what causing and the pattern on which the event emerges. In this example, there is no need to do so because every value is in simple form and it is not intended to determine a new column that is significant to the particular target label"
   ]
  },
  {
   "cell_type": "markdown",
   "id": "1d9559ad",
   "metadata": {},
   "source": [
    "## Balancing\n",
    "Based on the diagram in the EDA, there are a pattern of skewness of the data in the time context, but\n",
    "other than that, there is a nice variance (not to significant) such that the model that will generated from this dataset is perceived not be biased. Thus, it is not needed to be balanced with\n",
    "any other method (balancing methods)"
   ]
  },
  {
   "cell_type": "markdown",
   "id": "e8ac2611",
   "metadata": {},
   "source": [
    "# Bagian 2 (Supervised Learning)"
   ]
  },
  {
   "cell_type": "markdown",
   "id": "0ef516e8",
   "metadata": {},
   "source": [
    "## K Nearest Neighbor"
   ]
  },
  {
   "cell_type": "markdown",
   "id": "60c4b36d",
   "metadata": {},
   "source": [
    "#### Hold out validation"
   ]
  },
  {
   "cell_type": "markdown",
   "id": "17ebc719",
   "metadata": {},
   "source": [
    "##### Implementasi Manual"
   ]
  },
  {
   "cell_type": "code",
   "execution_count": 173,
   "id": "3690e445",
   "metadata": {},
   "outputs": [
    {
     "ename": "KeyError",
     "evalue": "'Start'",
     "output_type": "error",
     "traceback": [
      "\u001b[31m---------------------------------------------------------------------------\u001b[39m",
      "\u001b[31mKeyError\u001b[39m                                  Traceback (most recent call last)",
      "\u001b[36mFile \u001b[39m\u001b[32m~/seleksi-I-lab-ai-2025-13523048-brian-hadian/.venv/lib/python3.13/site-packages/pandas/core/indexes/base.py:3812\u001b[39m, in \u001b[36mIndex.get_loc\u001b[39m\u001b[34m(self, key)\u001b[39m\n\u001b[32m   3811\u001b[39m \u001b[38;5;28;01mtry\u001b[39;00m:\n\u001b[32m-> \u001b[39m\u001b[32m3812\u001b[39m     \u001b[38;5;28;01mreturn\u001b[39;00m \u001b[38;5;28;43mself\u001b[39;49m\u001b[43m.\u001b[49m\u001b[43m_engine\u001b[49m\u001b[43m.\u001b[49m\u001b[43mget_loc\u001b[49m\u001b[43m(\u001b[49m\u001b[43mcasted_key\u001b[49m\u001b[43m)\u001b[49m\n\u001b[32m   3813\u001b[39m \u001b[38;5;28;01mexcept\u001b[39;00m \u001b[38;5;167;01mKeyError\u001b[39;00m \u001b[38;5;28;01mas\u001b[39;00m err:\n",
      "\u001b[36mFile \u001b[39m\u001b[32mpandas/_libs/index.pyx:167\u001b[39m, in \u001b[36mpandas._libs.index.IndexEngine.get_loc\u001b[39m\u001b[34m()\u001b[39m\n",
      "\u001b[36mFile \u001b[39m\u001b[32mpandas/_libs/index.pyx:196\u001b[39m, in \u001b[36mpandas._libs.index.IndexEngine.get_loc\u001b[39m\u001b[34m()\u001b[39m\n",
      "\u001b[36mFile \u001b[39m\u001b[32mpandas/_libs/hashtable_class_helper.pxi:7088\u001b[39m, in \u001b[36mpandas._libs.hashtable.PyObjectHashTable.get_item\u001b[39m\u001b[34m()\u001b[39m\n",
      "\u001b[36mFile \u001b[39m\u001b[32mpandas/_libs/hashtable_class_helper.pxi:7096\u001b[39m, in \u001b[36mpandas._libs.hashtable.PyObjectHashTable.get_item\u001b[39m\u001b[34m()\u001b[39m\n",
      "\u001b[31mKeyError\u001b[39m: 'Start'",
      "\nThe above exception was the direct cause of the following exception:\n",
      "\u001b[31mKeyError\u001b[39m                                  Traceback (most recent call last)",
      "\u001b[36mCell\u001b[39m\u001b[36m \u001b[39m\u001b[32mIn[173]\u001b[39m\u001b[32m, line 22\u001b[39m\n\u001b[32m     20\u001b[39m \u001b[38;5;66;03m# predict\u001b[39;00m\n\u001b[32m     21\u001b[39m x = np.array([openVal, highVal, lowVal, closeVal, marketCapVal, volumeVal])\n\u001b[32m---> \u001b[39m\u001b[32m22\u001b[39m prediction = \u001b[43mknn\u001b[49m\u001b[43m.\u001b[49m\u001b[43mpredict\u001b[49m\u001b[43m(\u001b[49m\u001b[43mtrainData\u001b[49m\u001b[43m,\u001b[49m\u001b[43m \u001b[49m\u001b[43mx\u001b[49m\u001b[43m)\u001b[49m\n\u001b[32m     23\u001b[39m \u001b[38;5;28mprint\u001b[39m(\u001b[33mf\u001b[39m\u001b[33m\"\u001b[39m\u001b[33mPrediction : \u001b[39m\u001b[38;5;132;01m{\u001b[39;00mprediction\u001b[38;5;132;01m}\u001b[39;00m\u001b[33m\"\u001b[39m)\n",
      "\u001b[36mFile \u001b[39m\u001b[32m~/seleksi-I-lab-ai-2025-13523048-brian-hadian/src/supervisedLearning/knn.py:55\u001b[39m, in \u001b[36mKNearestNeigbor.predict\u001b[39m\u001b[34m(self, dataset, x)\u001b[39m\n\u001b[32m     52\u001b[39m     dictionary = Distance.manhattanDistance(dataset, x)\n\u001b[32m     54\u001b[39m \u001b[38;5;66;03m# attach label back\u001b[39;00m\n\u001b[32m---> \u001b[39m\u001b[32m55\u001b[39m dictionary[\u001b[38;5;28mself\u001b[39m.target] = \u001b[43mdataset\u001b[49m\u001b[43m[\u001b[49m\u001b[38;5;28;43mself\u001b[39;49m\u001b[43m.\u001b[49m\u001b[43mtarget\u001b[49m\u001b[43m]\u001b[49m.values\n\u001b[32m     57\u001b[39m \u001b[38;5;66;03m# get the n minimum value from dict based on distance\u001b[39;00m\n\u001b[32m     58\u001b[39m neighbors = dictionary.sort_values(by=\u001b[33m\"\u001b[39m\u001b[33mdistances\u001b[39m\u001b[33m\"\u001b[39m).head(\u001b[38;5;28mself\u001b[39m.neighborCount) \u001b[38;5;66;03m# this should be per label\u001b[39;00m\n",
      "\u001b[36mFile \u001b[39m\u001b[32m~/seleksi-I-lab-ai-2025-13523048-brian-hadian/.venv/lib/python3.13/site-packages/pandas/core/frame.py:4107\u001b[39m, in \u001b[36mDataFrame.__getitem__\u001b[39m\u001b[34m(self, key)\u001b[39m\n\u001b[32m   4105\u001b[39m \u001b[38;5;28;01mif\u001b[39;00m \u001b[38;5;28mself\u001b[39m.columns.nlevels > \u001b[32m1\u001b[39m:\n\u001b[32m   4106\u001b[39m     \u001b[38;5;28;01mreturn\u001b[39;00m \u001b[38;5;28mself\u001b[39m._getitem_multilevel(key)\n\u001b[32m-> \u001b[39m\u001b[32m4107\u001b[39m indexer = \u001b[38;5;28;43mself\u001b[39;49m\u001b[43m.\u001b[49m\u001b[43mcolumns\u001b[49m\u001b[43m.\u001b[49m\u001b[43mget_loc\u001b[49m\u001b[43m(\u001b[49m\u001b[43mkey\u001b[49m\u001b[43m)\u001b[49m\n\u001b[32m   4108\u001b[39m \u001b[38;5;28;01mif\u001b[39;00m is_integer(indexer):\n\u001b[32m   4109\u001b[39m     indexer = [indexer]\n",
      "\u001b[36mFile \u001b[39m\u001b[32m~/seleksi-I-lab-ai-2025-13523048-brian-hadian/.venv/lib/python3.13/site-packages/pandas/core/indexes/base.py:3819\u001b[39m, in \u001b[36mIndex.get_loc\u001b[39m\u001b[34m(self, key)\u001b[39m\n\u001b[32m   3814\u001b[39m     \u001b[38;5;28;01mif\u001b[39;00m \u001b[38;5;28misinstance\u001b[39m(casted_key, \u001b[38;5;28mslice\u001b[39m) \u001b[38;5;129;01mor\u001b[39;00m (\n\u001b[32m   3815\u001b[39m         \u001b[38;5;28misinstance\u001b[39m(casted_key, abc.Iterable)\n\u001b[32m   3816\u001b[39m         \u001b[38;5;129;01mand\u001b[39;00m \u001b[38;5;28many\u001b[39m(\u001b[38;5;28misinstance\u001b[39m(x, \u001b[38;5;28mslice\u001b[39m) \u001b[38;5;28;01mfor\u001b[39;00m x \u001b[38;5;129;01min\u001b[39;00m casted_key)\n\u001b[32m   3817\u001b[39m     ):\n\u001b[32m   3818\u001b[39m         \u001b[38;5;28;01mraise\u001b[39;00m InvalidIndexError(key)\n\u001b[32m-> \u001b[39m\u001b[32m3819\u001b[39m     \u001b[38;5;28;01mraise\u001b[39;00m \u001b[38;5;167;01mKeyError\u001b[39;00m(key) \u001b[38;5;28;01mfrom\u001b[39;00m\u001b[38;5;250m \u001b[39m\u001b[34;01merr\u001b[39;00m\n\u001b[32m   3820\u001b[39m \u001b[38;5;28;01mexcept\u001b[39;00m \u001b[38;5;167;01mTypeError\u001b[39;00m:\n\u001b[32m   3821\u001b[39m     \u001b[38;5;66;03m# If we have a listlike key, _check_indexing_error will raise\u001b[39;00m\n\u001b[32m   3822\u001b[39m     \u001b[38;5;66;03m#  InvalidIndexError. Otherwise we fall through and re-raise\u001b[39;00m\n\u001b[32m   3823\u001b[39m     \u001b[38;5;66;03m#  the TypeError.\u001b[39;00m\n\u001b[32m   3824\u001b[39m     \u001b[38;5;28mself\u001b[39m._check_indexing_error(key)\n",
      "\u001b[31mKeyError\u001b[39m: 'Start'"
     ]
    }
   ],
   "source": [
    "# partition into 80% and 20% (testing)\n",
    "nTrain = int(0.8 * len(df1))\n",
    "trainData = df1.iloc[:nTrain][features]\n",
    "testData = df1.iloc[nTrain:][features]\n",
    "\n",
    "# init\n",
    "# \"Start\", \"Open\", \"High\", \"Low\", \"Close\", \"Market Cap\", \"Volume\", \"Period\"\n",
    "openVal = float(input())\n",
    "highVal = float(input())\n",
    "lowVal = float(input())\n",
    "closeVal = float(input())\n",
    "marketCapVal = float(input())\n",
    "volumeVal = float(input())\n",
    "\n",
    "distanceFunction = (input()) \n",
    "neighborCount = int(input())\n",
    "minkowskiExp = float(input())\n",
    "knn = KNearestNeigbor(distanceFunction, neighborCount, \"Start\", minkowskiExp)\n",
    "\n",
    "# predict\n",
    "x = np.array([openVal, highVal, lowVal, closeVal, marketCapVal, volumeVal])\n",
    "prediction = knn.predict(trainData, x)\n",
    "print(f\"Prediction : {prediction}\")"
   ]
  },
  {
   "cell_type": "markdown",
   "id": "17c3a04d",
   "metadata": {},
   "source": [
    "##### Implementasi Library"
   ]
  },
  {
   "cell_type": "code",
   "execution_count": null,
   "id": "528f92c5",
   "metadata": {},
   "outputs": [],
   "source": [
    "# partition into 80% and 20% (testing)\n",
    "from sklearn.neighbors import KNeighborsRegressor\n",
    "\n",
    "# X = features (all columns except target)\n",
    "# y = target column\n",
    "X_train = trainData.drop(columns=[\"Start\"])\n",
    "y_train = trainData[\"Start\"]\n",
    "\n",
    "knn = KNeighborsRegressor(n_neighbors=neighborCount, metric='minkowski', p=minkowskiExp)\n",
    "knn.fit(X_train, y_train)\n",
    "\n",
    "# Predict for a new sample\n",
    "x_new = np.array([openVal, highVal, lowVal, closeVal, marketCapVal, volumeVal]).reshape(1, -1)\n",
    "predicted = knn.predict(x_new)\n",
    "print(\"Predicted value:\", predicted)\n"
   ]
  },
  {
   "cell_type": "markdown",
   "id": "23cf370b",
   "metadata": {},
   "source": [
    "#### K fold validation"
   ]
  },
  {
   "cell_type": "markdown",
   "id": "af038700",
   "metadata": {},
   "source": [
    "##### Implementasi Manual"
   ]
  },
  {
   "cell_type": "code",
   "execution_count": null,
   "id": "67fc2dcc",
   "metadata": {},
   "outputs": [],
   "source": [
    "# partition into k = user input\n",
    "k = int(input())\n",
    "n = len(df1)\n",
    "fold_size = n // k\n",
    "\n",
    "for i in range(k) :\n",
    "    start_idx = i * fold_size\n",
    "    end_idx = (i + 1) * fold_size if i != k-1 else n  # last fold may include remainder\n",
    "    testData = df1.iloc[start_idx:end_idx][features]\n",
    "    \n",
    "    # Define train data by dropping test indices\n",
    "    trainData = df1.drop(df1.index[start_idx:end_idx])[features]\n",
    "\n",
    "    # init\n",
    "    # \"Open\", \"High\", \"Low\", \"Close\", \"Market Cap\", \"Volume\"\n",
    "    openVal = float(input())\n",
    "    highVal = float(input())\n",
    "    lowVal = float(input())\n",
    "    closeVal = float(input())\n",
    "    marketCapVal = float(input())\n",
    "    volumeVal = float(input()) # in miliseconds\n",
    "    \n",
    "    distanceFunction = (input()) \n",
    "    neighborCount = int(input())\n",
    "    minkowskiExp = float(input())\n",
    "    knn = KNearestNeigbor(distanceFunction, neighborCount, \"Start\", minkowskiExp)\n",
    "\n",
    "    # predict\n",
    "    x = np.array([openVal, highVal, lowVal, closeVal, marketCapVal, volumeVal])\n",
    "    prediction = knn.predict(trainData, x)\n",
    "\n",
    "    print(f\"Fold {i+1} Prediction: {prediction}\")"
   ]
  },
  {
   "cell_type": "markdown",
   "id": "63eac08a",
   "metadata": {},
   "source": [
    "##### Implementasi Library"
   ]
  },
  {
   "cell_type": "code",
   "execution_count": null,
   "id": "dee62dd7",
   "metadata": {},
   "outputs": [],
   "source": [
    "from sklearn.neighbors import KNeighborsRegressor\n",
    "\n",
    "# X = features (all columns except target)\n",
    "# y = target column\n",
    "\n",
    "# partition into k = user input\n",
    "k = int(input())\n",
    "n = len(df1)\n",
    "fold_size = n // k\n",
    "\n",
    "for i in range(k) :\n",
    "    start_idx = i * fold_size\n",
    "    end_idx = (i + 1) * fold_size if i != k-1 else n  # last fold may include remainder\n",
    "    testData = df1.iloc[start_idx:end_idx][features]\n",
    "    \n",
    "    # Define train data by dropping test indices\n",
    "    trainData = df1.drop(df1.index[start_idx:end_idx])[features]\n",
    "\n",
    "    X_train = trainData.drop(columns=[\"Start\"])\n",
    "    y_train = trainData[\"Start\"]\n",
    "\n",
    "    knn = KNeighborsRegressor(n_neighbors=neighborCount, metric='minkowski', p=minkowskiExp)\n",
    "    knn.fit(X_train, y_train)\n",
    "\n",
    "    # Predict for a new sample\n",
    "    x_new = np.array([openVal, highVal, lowVal, closeVal, marketCapVal, volumeVal]).reshape(1, -1)\n",
    "    predicted = knn.predict(x_new)\n",
    "    print(f\"Fold {i + 1} predicted value:\", predicted)\n"
   ]
  },
  {
   "cell_type": "markdown",
   "id": "a5e5c62c",
   "metadata": {},
   "source": [
    "## Polynomial Regression"
   ]
  },
  {
   "cell_type": "markdown",
   "id": "43e3960a",
   "metadata": {},
   "source": [
    "#### Hold out validation"
   ]
  },
  {
   "cell_type": "markdown",
   "id": "15ab7009",
   "metadata": {},
   "source": [
    "##### Implementasi Manual"
   ]
  },
  {
   "cell_type": "code",
   "execution_count": null,
   "id": "b8cf0440",
   "metadata": {},
   "outputs": [],
   "source": [
    "# partition into 80% and 20% (testing)\n",
    "nTrain = int(0.8 * len(df1))\n",
    "trainData = df1.iloc[:nTrain][features]\n",
    "testData = df1.iloc[nTrain:][features]\n",
    "\n",
    "# init\n",
    "degree = int(input(\"Enter degree: \"))\n",
    "learning_rate = float(input(\"Enter learning rate: \"))\n",
    "iterations = int(input(\"Enter number of iterations: \"))\n",
    "regularization_term = input(\"Enter regularization (l1/l2/None): \")\n",
    "\n",
    "polyRegress = PolynomialRegression(\n",
    "    degree=degree,\n",
    "    learningRate=learning_rate,\n",
    "    regularizationTrem=regularization_term if regularization_term != \"None\" else None,\n",
    "    features=features,\n",
    "    iteration=iterations\n",
    ")\n",
    "\n",
    "# Train the regression model\n",
    "polyRegress.train(X, Y)\n",
    "\n",
    "# Predict a new sample\n",
    "openVal = float(input(\"Open: \"))\n",
    "highVal = float(input(\"High: \"))\n",
    "lowVal = float(input(\"Low: \"))\n",
    "closeVal = float(input(\"Close: \"))\n",
    "marketCapVal = float(input(\"Market Cap: \"))\n",
    "volumeVal = float(input(\"Volume: \"))\n",
    "\n",
    "x_new = np.array([openVal, highVal, lowVal, closeVal, marketCapVal, volumeVal])\n",
    "predicted_start = polyRegress.predict(x_new)\n",
    "print(\"Predicted Start:\", predicted_start)"
   ]
  },
  {
   "cell_type": "markdown",
   "id": "6642940c",
   "metadata": {},
   "source": [
    "##### Implementasi Library"
   ]
  },
  {
   "cell_type": "code",
   "execution_count": null,
   "id": "86172eca",
   "metadata": {},
   "outputs": [],
   "source": [
    "# partition into 80% and 20% (testing)\n",
    "from sklearn.model_selection import train_test_split\n",
    "from sklearn.preprocessing import LabelEncoder, StandardScaler\n",
    "from sklearn.ensemble import RandomForestClassifier\n",
    "from sklearn.metrics import accuracy_score, classification_report\n",
    "\n",
    "# init\n",
    "volumeVal = float(input())\n",
    "openVal = float(input())\n",
    "highVal = float(input())\n",
    "lowVal = float(input())\n",
    "closeVal = float(input())\n",
    "marketCapVal = float(input())\n",
    "periodVal = (input())\n",
    "# choose periodval out of this matrix\n",
    "'''['2024-06' '2024-05' '2024-04' '2024-03' '2024-02' '2024-01' '2023-12'\n",
    " '2023-11' '2023-10' '2023-09' '2023-08' '2023-07' '2023-06' '2023-05'\n",
    " '2023-04' '2023-03' '2023-02' '2023-01' '2022-12' '2022-11' '2022-10'\n",
    " '2022-09' '2022-08' '2022-07' '2022-06' '2022-05' '2022-04' '2022-03'\n",
    " '2022-02' '2022-01' '2021-12' '2021-11' '2021-10' '2021-09' '2021-08'\n",
    " '2021-07' '2021-06' '2021-05' '2021-04' '2021-03' '2021-02' '2021-01'\n",
    " '2020-12' '2020-11' '2020-10' '2020-09' '2020-08' '2020-07' '2020-06'\n",
    " '2020-05' '2020-04' '2020-03' '2020-02' '2020-01' '2019-12' '2019-11'\n",
    " '2019-10' '2019-09' '2019-08' '2019-07' '2019-06' '2019-05' '2019-04'\n",
    " '2019-03' '2019-02' '2019-01' '2018-12' '2018-11' '2018-10' '2018-09'\n",
    " '2018-08' '2018-07' '2018-06' '2018-05' '2018-04' '2018-03' '2018-02'\n",
    " '2018-01' '2017-12' '2017-11' '2017-10' '2017-09' '2017-08' '2017-07'\n",
    " '2017-06' '2017-05' '2017-04' '2017-03' '2017-02' '2017-01' '2016-12'\n",
    " '2016-11' '2016-10' '2016-09' '2016-08' '2016-07' '2016-06' '2016-05'\n",
    " '2016-04' '2016-03' '2016-02' '2016-01' '2015-12' '2015-11' '2015-10'\n",
    " '2015-09' '2015-08' '2015-07' '2015-06' '2015-05' '2015-04' '2015-03'\n",
    " '2015-02' '2015-01' '2014-12' '2014-11' '2014-10' '2014-09' '2014-08'\n",
    " '2014-07' '2014-06' '2014-05' '2014-04' '2014-03' '2014-02' '2014-01'\n",
    " '2013-12' '2013-11' '2013-10' '2013-09' '2013-08' '2013-07' '2013-06'\n",
    " '2013-05' '2013-04' '2013-03' '2013-02' '2013-01' '2012-12' '2012-11'\n",
    " '2012-10' '2012-09' '2012-08' '2012-07' '2012-06' '2012-05' '2012-04'\n",
    " '2012-03' '2012-02' '2012-01' '2011-12' '2011-11' '2011-10' '2011-09'\n",
    " '2011-08' '2011-07' '2011-06' '2011-05' '2011-04' '2011-03' '2011-02'\n",
    " '2011-01' '2010-12' '2010-11' '2010-10' '2010-09' '2010-08' '2010-07']'''\n",
    "\n",
    "# scaling\n",
    "scaler = StandardScaler()\n",
    "X_scaled = scaler.fit_transform(X)\n",
    "\n",
    "X_train, X_test, y_train, y_test = train_test_split(\n",
    "    X_scaled, Y, test_size=0.2, random_state=42\n",
    ")\n",
    "\n",
    "# train classifier\n",
    "clf = RandomForestClassifier(n_estimators=100, random_state=42)\n",
    "clf.fit(X_train, y_train)\n",
    "\n",
    "# predict\n",
    "y_pred = clf.predict(X_test)\n",
    "\n",
    "# \n",
    "print(\"Accuracy:\", accuracy_score(y_test, y_pred))\n",
    "print(classification_report(y_test, y_pred))\n",
    "\n",
    "# 8️⃣ Predict new input\n",
    "# Example: new data\n",
    "new_input = np.array([[startVal, openVal, highVal, lowVal, closeVal, marketCapVal, volumeVal]])\n",
    "new_input_scaled = scaler.transform(new_input)\n",
    "predicted_period_encoded = clf.predict(new_input_scaled)\n",
    "predicted_period = LabelEncoder().inverse_transform(predicted_period_encoded)\n",
    "print(\"Predicted Period:\", predicted_period[0])"
   ]
  },
  {
   "cell_type": "markdown",
   "id": "a1100d7c",
   "metadata": {},
   "source": [
    "#### K fold validation"
   ]
  },
  {
   "cell_type": "markdown",
   "id": "cd8afd22",
   "metadata": {},
   "source": [
    "##### Implementasi Manual"
   ]
  },
  {
   "cell_type": "code",
   "execution_count": null,
   "id": "15d64472",
   "metadata": {},
   "outputs": [],
   "source": [
    "# partition into 80% and 20% (testing)"
   ]
  },
  {
   "cell_type": "markdown",
   "id": "2d37cd0d",
   "metadata": {},
   "source": [
    "##### Implementasi Library"
   ]
  },
  {
   "cell_type": "code",
   "execution_count": null,
   "id": "a5446850",
   "metadata": {},
   "outputs": [],
   "source": [
    "# partition into 80% and 20% (testing)"
   ]
  },
  {
   "cell_type": "markdown",
   "id": "f9bbe7bf",
   "metadata": {},
   "source": [
    "## Regression Tree (CART)"
   ]
  },
  {
   "cell_type": "markdown",
   "id": "04ba3ddf",
   "metadata": {},
   "source": [
    "#### Hold out validation"
   ]
  },
  {
   "cell_type": "markdown",
   "id": "8dad9b3b",
   "metadata": {},
   "source": [
    "##### Implementasi Manual"
   ]
  },
  {
   "cell_type": "code",
   "execution_count": null,
   "id": "4472ac3b",
   "metadata": {},
   "outputs": [],
   "source": [
    "# partition into 80% and 20% (testing)"
   ]
  },
  {
   "cell_type": "markdown",
   "id": "89717739",
   "metadata": {},
   "source": [
    "##### Implementasi Library"
   ]
  },
  {
   "cell_type": "code",
   "execution_count": null,
   "id": "d5395c20",
   "metadata": {},
   "outputs": [],
   "source": [
    "# partition into 80% and 20% (testing)"
   ]
  },
  {
   "cell_type": "markdown",
   "id": "f10baf95",
   "metadata": {},
   "source": [
    "#### K fold validation"
   ]
  },
  {
   "cell_type": "markdown",
   "id": "dd845fd4",
   "metadata": {},
   "source": [
    "##### Implementasi Manual"
   ]
  },
  {
   "cell_type": "code",
   "execution_count": null,
   "id": "71eb5a19",
   "metadata": {},
   "outputs": [],
   "source": [
    "# partition into 80% and 20% (testing)"
   ]
  },
  {
   "cell_type": "markdown",
   "id": "626ffba1",
   "metadata": {},
   "source": [
    "##### Implementasi Library"
   ]
  },
  {
   "cell_type": "code",
   "execution_count": null,
   "id": "bddf8941",
   "metadata": {},
   "outputs": [],
   "source": [
    "# partition into 80% and 20% (testing)"
   ]
  },
  {
   "cell_type": "markdown",
   "id": "ec66b39c",
   "metadata": {},
   "source": [
    "## Support Vector Machine (SVM)"
   ]
  },
  {
   "cell_type": "markdown",
   "id": "4e3d4c47",
   "metadata": {},
   "source": [
    "#### Hold out validation"
   ]
  },
  {
   "cell_type": "markdown",
   "id": "4674f0c9",
   "metadata": {},
   "source": [
    "##### Implementasi Manual"
   ]
  },
  {
   "cell_type": "code",
   "execution_count": null,
   "id": "fd995bf6",
   "metadata": {},
   "outputs": [],
   "source": [
    "# partition into 80% and 20% (testing)"
   ]
  },
  {
   "cell_type": "markdown",
   "id": "58d2d12b",
   "metadata": {},
   "source": [
    "##### Implementasi Library"
   ]
  },
  {
   "cell_type": "code",
   "execution_count": null,
   "id": "5a20d01b",
   "metadata": {},
   "outputs": [],
   "source": [
    "# partition into 80% and 20% (testing)"
   ]
  },
  {
   "cell_type": "markdown",
   "id": "17322cbb",
   "metadata": {},
   "source": [
    "#### K fold validation"
   ]
  },
  {
   "cell_type": "markdown",
   "id": "75248de7",
   "metadata": {},
   "source": [
    "##### Implementasi Manual"
   ]
  },
  {
   "cell_type": "code",
   "execution_count": null,
   "id": "595e892a",
   "metadata": {},
   "outputs": [],
   "source": [
    "# partition into 80% and 20% (testing)"
   ]
  },
  {
   "cell_type": "markdown",
   "id": "d35f4543",
   "metadata": {},
   "source": [
    "##### Implementasi Library"
   ]
  },
  {
   "cell_type": "code",
   "execution_count": null,
   "id": "1b3fe5de",
   "metadata": {},
   "outputs": [],
   "source": [
    "# partition into 80% and 20% (testing)"
   ]
  },
  {
   "cell_type": "markdown",
   "id": "5c18d76b",
   "metadata": {},
   "source": [
    "## Artificial Neural Network (ANN)"
   ]
  },
  {
   "cell_type": "markdown",
   "id": "ae997a4c",
   "metadata": {},
   "source": [
    "#### Hold out validation"
   ]
  },
  {
   "cell_type": "markdown",
   "id": "79090675",
   "metadata": {},
   "source": [
    "##### Implementasi Manual"
   ]
  },
  {
   "cell_type": "code",
   "execution_count": null,
   "id": "cf43d7bf",
   "metadata": {},
   "outputs": [],
   "source": [
    "# partition into 80% and 20% (testing)"
   ]
  },
  {
   "cell_type": "markdown",
   "id": "85478a65",
   "metadata": {},
   "source": [
    "##### Implementasi Library"
   ]
  },
  {
   "cell_type": "code",
   "execution_count": null,
   "id": "eb57c35c",
   "metadata": {},
   "outputs": [],
   "source": [
    "# partition into 80% and 20% (testing)"
   ]
  },
  {
   "cell_type": "markdown",
   "id": "3292360d",
   "metadata": {},
   "source": [
    "#### K fold validation"
   ]
  },
  {
   "cell_type": "markdown",
   "id": "08b640f1",
   "metadata": {},
   "source": [
    "##### Implementasi Manual"
   ]
  },
  {
   "cell_type": "code",
   "execution_count": null,
   "id": "0a8bf0c5",
   "metadata": {},
   "outputs": [],
   "source": [
    "# partition into 80% and 20% (testing)"
   ]
  },
  {
   "cell_type": "markdown",
   "id": "42e09cdb",
   "metadata": {},
   "source": [
    "##### Implementasi Library"
   ]
  },
  {
   "cell_type": "code",
   "execution_count": null,
   "id": "872b9615",
   "metadata": {},
   "outputs": [],
   "source": [
    "# partition into 80% and 20% (testing)"
   ]
  },
  {
   "cell_type": "markdown",
   "id": "77ae060a",
   "metadata": {},
   "source": [
    "# Bagian 3 (Unsupervised Learning)"
   ]
  },
  {
   "cell_type": "markdown",
   "id": "bae406b0",
   "metadata": {},
   "source": [
    "Bagian ini akan menggunakan data iris.csv yang terletak pada folder data dengan kolom sebagai berikut: \n",
    "1. sepal_width : numerical\n",
    "2. sepal_length : numerical\n",
    "3. petal_width : numerical\n",
    "4. petal_length : numerical\n",
    "5. class : categorical"
   ]
  },
  {
   "cell_type": "markdown",
   "id": "1e14f301",
   "metadata": {},
   "source": [
    "## K Means"
   ]
  },
  {
   "cell_type": "markdown",
   "id": "5b993f60",
   "metadata": {},
   "source": [
    "### Implementasi manual"
   ]
  },
  {
   "cell_type": "code",
   "execution_count": null,
   "id": "7d058d3d",
   "metadata": {},
   "outputs": [],
   "source": []
  },
  {
   "cell_type": "markdown",
   "id": "c023c7e7",
   "metadata": {},
   "source": [
    "### Implementasi Library"
   ]
  },
  {
   "cell_type": "code",
   "execution_count": null,
   "id": "fb5d570c",
   "metadata": {},
   "outputs": [],
   "source": []
  },
  {
   "cell_type": "markdown",
   "id": "5973338d",
   "metadata": {},
   "source": [
    "## DBSCAN"
   ]
  },
  {
   "cell_type": "markdown",
   "id": "89a6117c",
   "metadata": {},
   "source": [
    "### Implementasi manual"
   ]
  },
  {
   "cell_type": "code",
   "execution_count": null,
   "id": "30f3e076",
   "metadata": {},
   "outputs": [],
   "source": []
  },
  {
   "cell_type": "markdown",
   "id": "603952e6",
   "metadata": {},
   "source": [
    "### Implementasi Library"
   ]
  },
  {
   "cell_type": "code",
   "execution_count": null,
   "id": "0336d055",
   "metadata": {},
   "outputs": [],
   "source": []
  },
  {
   "cell_type": "markdown",
   "id": "c83a492e",
   "metadata": {},
   "source": [
    "## PCA"
   ]
  },
  {
   "cell_type": "markdown",
   "id": "dbee384d",
   "metadata": {},
   "source": [
    "### Implementasi manual"
   ]
  },
  {
   "cell_type": "code",
   "execution_count": null,
   "id": "9fda6a00",
   "metadata": {},
   "outputs": [],
   "source": []
  },
  {
   "cell_type": "markdown",
   "id": "70a5f624",
   "metadata": {},
   "source": [
    "### Implementasi Library"
   ]
  },
  {
   "cell_type": "code",
   "execution_count": null,
   "id": "d89fdec0",
   "metadata": {},
   "outputs": [],
   "source": []
  },
  {
   "cell_type": "markdown",
   "id": "da91a492",
   "metadata": {},
   "source": [
    "# Bagian 4 (Reinforcement Learning)"
   ]
  },
  {
   "cell_type": "markdown",
   "id": "0a397f42",
   "metadata": {},
   "source": [
    "## SARSA"
   ]
  },
  {
   "cell_type": "code",
   "execution_count": null,
   "id": "70b92aae",
   "metadata": {},
   "outputs": [],
   "source": []
  },
  {
   "cell_type": "markdown",
   "id": "d8aa95b8",
   "metadata": {},
   "source": [
    "## Q Learning"
   ]
  },
  {
   "cell_type": "code",
   "execution_count": null,
   "id": "dc515b39",
   "metadata": {},
   "outputs": [],
   "source": []
  }
 ],
 "metadata": {
  "kernelspec": {
   "display_name": ".venv",
   "language": "python",
   "name": "python3"
  },
  "language_info": {
   "codemirror_mode": {
    "name": "ipython",
    "version": 3
   },
   "file_extension": ".py",
   "mimetype": "text/x-python",
   "name": "python",
   "nbconvert_exporter": "python",
   "pygments_lexer": "ipython3",
   "version": "3.13.3"
  }
 },
 "nbformat": 4,
 "nbformat_minor": 5
}
