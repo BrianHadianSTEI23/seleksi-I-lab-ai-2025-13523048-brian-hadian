{
 "cells": [
  {
   "cell_type": "markdown",
   "id": "f3cdcb44",
   "metadata": {},
   "source": [
    "# Bitcoin Price Range History 20250901\n",
    "\n",
    "This data is in format csv and has around 2 million rows. This dataset has columns as such\n",
    "\n",
    "1. Start : Date (Indicates the start date of the data record) (Format XX-XX-XXXX) (NUMERIC)\n",
    "\n",
    "2. End : Date ( Indicates the end date of the data record) (Format XX/XX/XXXX) (NUMERIC)\n",
    "\n",
    "3. Open : Number ( The price at which Bitcoin Ended trading at the beginning of the day.) (NUMERIC)\n",
    "\n",
    "4. High : Number (The highest price point reached by Bitcoin during the day.) (NUMERIC)\n",
    "\n",
    "5. Low : Number (The lowest price point reached by Bitcoin during the day.) (NUMERIC)\n",
    "\n",
    "6. Close : Number (The price at which Bitcoin ended trading at the close of the day.) (NUMERIC)\n",
    "\n",
    "7. Volume : Number (Total volume of Bitcoin traded during the day.) \n",
    "\n",
    "8. Market Cap : Number (The total market value of Bitcoin at the end of the day.) "
   ]
  },
  {
   "cell_type": "code",
   "execution_count": 21,
   "id": "3aa7492c",
   "metadata": {},
   "outputs": [],
   "source": [
    "# Imports\n",
    "import pandas as pd\n",
    "import seaborn as sns\n",
    "import numpy as np\n",
    "import matplotlib.pyplot as plt\n",
    "import sklearn\n",
    "\n",
    "\n",
    "from reinforcement.sarsa import SARSAWumpus\n",
    "from reinforcement.qLearning import QLearningWumpus\n",
    "from supervisedLearning.ann import ArtificialNeuralNetwork\n",
    "from supervisedLearning.knn import KNearestNeigbor\n",
    "from supervisedLearning.regression import PolynomialRegression\n",
    "from supervisedLearning.svm import SupportVectorMachine\n",
    "from unsupervisedLearning.dbscan import DBScan\n",
    "from unsupervisedLearning.kMeans import KMeans\n",
    "from unsupervisedLearning.pca import PCA"
   ]
  },
  {
   "cell_type": "code",
   "execution_count": null,
   "id": "a991edbb",
   "metadata": {},
   "outputs": [],
   "source": [
    "# read file\n",
    "dataset1 = \"../data/bitcoin_2010-07-17_2024-06-28.csv\"\n",
    "dataset2 = \"../data/iris.csv\"\n",
    "\n",
    "df1 = pd.read_csv(dataset1)\n",
    "df2 = pd.read_csv(dataset2)"
   ]
  },
  {
   "cell_type": "markdown",
   "id": "d3310894",
   "metadata": {},
   "source": [
    "# Exploratory Data Analysis"
   ]
  },
  {
   "cell_type": "code",
   "execution_count": null,
   "id": "7bf4681b",
   "metadata": {},
   "outputs": [],
   "source": [
    "# jumlah data\n",
    "print(df1.count())"
   ]
  },
  {
   "cell_type": "markdown",
   "id": "06a10143",
   "metadata": {},
   "source": [
    "## Mean"
   ]
  },
  {
   "cell_type": "code",
   "execution_count": null,
   "id": "1ef5cf1c",
   "metadata": {},
   "outputs": [],
   "source": [
    "# start\n",
    "print(pd.to_datetime(df1[\"Start\"], format=\"%Y-%m-%d\").dt.hour.mean())\n",
    "print(pd.to_datetime(df1[\"Start\"], format=\"%Y-%m-%d\").dt.minute.mean())\n",
    "print(pd.to_datetime(df1[\"Start\"], format=\"%Y-%m-%d\").dt.second.mean())\n",
    "\n",
    "#end \n",
    "print(pd.to_datetime(df1[\"End\"], format='%Y-%m-%d').dt.date.std())\n",
    "print(pd.to_datetime(df1[\"End\"], format='%Y-%m-%d').dt.month.std())\n",
    "print(pd.to_datetime(df1[\"End\"], format='%Y-%m-%d').dt.year.std())\n",
    "\n",
    "# latitude\n",
    "print(df1[\"Open\"].std())\n",
    "print(df1[\"High\"].std())\n",
    "print(df1[\"Low\"].std())\n",
    "print(df1[\"Close\"].std())\n",
    "print(df1[\"Volume\"].std())\n",
    "print(df1[\"Market Cap\"].std())\n",
    "\n"
   ]
  },
  {
   "cell_type": "markdown",
   "id": "df55937d",
   "metadata": {},
   "source": [
    "## Standard Deviation"
   ]
  },
  {
   "cell_type": "code",
   "execution_count": null,
   "id": "bad2e1ff",
   "metadata": {},
   "outputs": [],
   "source": [
    "# start\n",
    "print(pd.to_datetime(df1[\"Start\"], format=\"%Y-%m-%d\").dt.hour.std())\n",
    "print(pd.to_datetime(df1[\"Start\"], format=\"%Y-%m-%d\").dt.minute.std())\n",
    "print(pd.to_datetime(df1[\"Start\"], format=\"%Y-%m-%d\").dt.second.std())\n",
    "\n",
    "#end \n",
    "print(pd.to_datetime(df1[\"End\"], format='%Y-%m-%d').dt.date.std())\n",
    "print(pd.to_datetime(df1[\"End\"], format='%Y-%m-%d').dt.month.std())\n",
    "print(pd.to_datetime(df1[\"End\"], format='%Y-%m-%d').dt.year.std())\n",
    "\n",
    "# latitude\n",
    "print(df1[\"Open\"].std())\n",
    "print(df1[\"High\"].std())\n",
    "print(df1[\"Low\"].std())\n",
    "print(df1[\"Close\"].std())\n",
    "print(df1[\"Volume\"].std())\n",
    "print(df1[\"Market Cap\"].std())"
   ]
  },
  {
   "cell_type": "markdown",
   "id": "41773959",
   "metadata": {},
   "source": [
    "## Minimum"
   ]
  },
  {
   "cell_type": "code",
   "execution_count": null,
   "id": "74e6c4db",
   "metadata": {},
   "outputs": [],
   "source": [
    "# start\n",
    "print(pd.to_datetime(df1[\"Start\"], format=\"%Y-%m-%d\").dt.hour.min())\n",
    "print(pd.to_datetime(df1[\"Start\"], format=\"%Y-%m-%d\").dt.minute.min())\n",
    "print(pd.to_datetime(df1[\"Start\"], format=\"%Y-%m-%d\").dt.second.min())\n",
    "\n",
    "#end \n",
    "print(pd.to_datetime(df1[\"End\"], format='%Y-%m-%d').dt.date.min())\n",
    "print(pd.to_datetime(df1[\"End\"], format='%Y-%m-%d').dt.month.min())\n",
    "print(pd.to_datetime(df1[\"End\"], format='%Y-%m-%d').dt.year.min())\n",
    "\n",
    "# latitude\n",
    "print(df1[\"Open\"].min())\n",
    "print(df1[\"High\"].min())\n",
    "print(df1[\"Low\"].min())\n",
    "print(df1[\"Close\"].min())\n",
    "print(df1[\"Volume\"].min())\n",
    "print(df1[\"Market Cap\"].min())"
   ]
  },
  {
   "cell_type": "markdown",
   "id": "abeb52a2",
   "metadata": {},
   "source": [
    "## Maximum"
   ]
  },
  {
   "cell_type": "code",
   "execution_count": null,
   "id": "6918939a",
   "metadata": {},
   "outputs": [],
   "source": [
    "# start\n",
    "print(pd.to_datetime(df1[\"Start\"], format=\"%Y-%m-%d\").dt.hour.max())\n",
    "print(pd.to_datetime(df1[\"Start\"], format=\"%Y-%m-%d\").dt.minute.max())\n",
    "print(pd.to_datetime(df1[\"Start\"], format=\"%Y-%m-%d\").dt.second.max())\n",
    "\n",
    "#end \n",
    "print(pd.to_datetime(df1[\"End\"], format='%Y-%m-%d').dt.date.max())\n",
    "print(pd.to_datetime(df1[\"End\"], format='%Y-%m-%d').dt.month.max())\n",
    "print(pd.to_datetime(df1[\"End\"], format='%Y-%m-%d').dt.year.min())\n",
    "\n",
    "# latitude\n",
    "print(df1[\"Open\"].max())\n",
    "print(df1[\"High\"].max())\n",
    "print(df1[\"Low\"].max())\n",
    "print(df1[\"Close\"].max())\n",
    "print(df1[\"Volume\"].max())\n",
    "print(df1[\"Market Cap\"].max())"
   ]
  },
  {
   "cell_type": "markdown",
   "id": "327bb9a8",
   "metadata": {},
   "source": [
    "## Quantile"
   ]
  },
  {
   "cell_type": "code",
   "execution_count": null,
   "id": "bba1d8f3",
   "metadata": {},
   "outputs": [],
   "source": [
    "# start\n",
    "print(pd.to_datetime(df1[\"Start\"], format=\"%Y-%m-%d\").dt.hour.quantile([0.25, 0.5, 0.75]))\n",
    "print(pd.to_datetime(df1[\"Start\"], format=\"%Y-%m-%d\").dt.minute.quantile([0.25, 0.5, 0.75]))\n",
    "print(pd.to_datetime(df1[\"Start\"], format=\"%Y-%m-%d\").dt.second.quantile([0.25, 0.5, 0.75]))\n",
    "\n",
    "#end \n",
    "print(pd.to_datetime(df1[\"End\"], format='%Y-%m-%d').dt.date.quantile([0.25, 0.5, 0.75]))\n",
    "print(pd.to_datetime(df1[\"End\"], format='%Y-%m-%d').dt.month.quantile([0.25, 0.5, 0.75]))\n",
    "print(pd.to_datetime(df1[\"End\"], format='%Y-%m-%d').dt.year.quantile([0.25, 0.5, 0.75]))\n",
    "\n",
    "# latitude\n",
    "print(df1[\"Open\"].quantile([0.25, 0.5, 0.75]))\n",
    "print(df1[\"High\"].quantile([0.25, 0.5, 0.75]))\n",
    "print(df1[\"Low\"].quantile([0.25, 0.5, 0.75]))\n",
    "print(df1[\"Close\"].quantile([0.25, 0.5, 0.75]))\n",
    "print(df1[\"Volume\"].quantile([0.25, 0.5, 0.75]))\n",
    "print(df1[\"Market Cap\"].quantile([0.25, 0.5, 0.75]))"
   ]
  },
  {
   "cell_type": "markdown",
   "id": "e70317e0",
   "metadata": {},
   "source": [
    "# Data distribution check"
   ]
  },
  {
   "cell_type": "markdown",
   "id": "4aec0cca",
   "metadata": {},
   "source": [
    "## Numeric"
   ]
  },
  {
   "cell_type": "code",
   "execution_count": null,
   "id": "b2f8cf98",
   "metadata": {},
   "outputs": [],
   "source": [
    "# start\n",
    "sns.histplot(pd.to_datetime(df1[\"Start\"], format=\"%Y-%m-%d\",  errors=\"coerce\").dt.year, bins=24, kde=True)\n",
    "plt.show()\n",
    "\n",
    "# Boxplot\n",
    "sns.boxplot(x=pd.to_datetime(df1[\"Start\"], format=\"%Y-%m-%d\",  errors=\"coerce\").dt.year)\n",
    "plt.show()\n",
    " \n",
    "# start\n",
    "sns.histplot(pd.to_datetime(df1[\"Start\"], format=\"%Y-%m-%d\",  errors=\"coerce\").dt.month, bins=24, kde=True)\n",
    "plt.show()\n",
    "\n",
    "# Boxplot\n",
    "sns.boxplot(x=pd.to_datetime(df1[\"Start\"], format=\"%Y-%m-%d\",  errors=\"coerce\").dt.month)\n",
    "plt.show()\n",
    " \n",
    "# start\n",
    "sns.histplot(pd.to_datetime(df1[\"Start\"], format=\"%Y-%m-%d\",  errors=\"coerce\").dt.date, bins=24, kde=True)\n",
    "plt.show()\n",
    "\n",
    "# Boxplot\n",
    "sns.boxplot(x=pd.to_datetime(df1[\"Start\"], format=\"%Y-%m-%d\",  errors=\"coerce\").dt.date)\n",
    "plt.show()\n",
    " \n",
    "# end\n",
    "sns.histplot(pd.to_datetime(df1[\"End\"], format=\"%Y-%m-%d\",  errors=\"coerce\").dt.year, bins=60, kde=True)\n",
    "plt.show()\n",
    "\n",
    "# Boxplot\n",
    "sns.boxplot(x=pd.to_datetime(df1[\"End\"], format=\"%Y-%m-%d\", errors=\"coerce\").dt.year)\n",
    "plt.show()\n",
    "\n",
    "# end\n",
    "sns.histplot(pd.to_datetime(df1[\"End\"], format=\"%Y-%m-%d\",  errors=\"coerce\").dt.month, bins=60, kde=True)\n",
    "plt.show()\n",
    "\n",
    "# Boxplot\n",
    "sns.boxplot(x=pd.to_datetime(df1[\"End\"], format=\"%Y-%m-%d\", errors=\"coerce\").dt.month)\n",
    "plt.show()\n",
    "\n",
    "# end\n",
    "sns.histplot(pd.to_datetime(df1[\"End\"], format=\"%Y-%m-%d\",  errors=\"coerce\").dt.date, bins=60, kde=True)\n",
    "plt.show()\n",
    "\n",
    "# Boxplot\n",
    "sns.boxplot(x=pd.to_datetime(df1[\"End\"], format=\"%Y-%m-%d\", errors=\"coerce\").dt.date)\n",
    "plt.show()\n",
    "\n",
    "# open\n",
    "sns.histplot(df1[\"Open\"], bins=60, kde=True)\n",
    "plt.show()\n",
    "\n",
    "# Boxplot\n",
    "sns.boxplot(x=df1[\"Open\"], errors=\"coerce\")\n",
    "plt.show()\n",
    "\n",
    "# open\n",
    "sns.histplot(df1[\"High\"], bins=60, kde=True)\n",
    "plt.show()\n",
    "\n",
    "# Boxplot\n",
    "sns.boxplot(x=df1[\"High\"], errors=\"coerce\")\n",
    "plt.show()\n",
    "\n",
    "# open\n",
    "sns.histplot(df1[\"Low\"], bins=60, kde=True)\n",
    "plt.show()\n",
    "\n",
    "# Boxplot\n",
    "sns.boxplot(x=df1[\"Low\"], errors=\"coerce\")\n",
    "plt.show()\n",
    "\n",
    "# open\n",
    "sns.histplot(df1[\"Close\"], bins=60, kde=True)\n",
    "plt.show()\n",
    "\n",
    "# Boxplot\n",
    "sns.boxplot(x=df1[\"Close\"], errors=\"coerce\")\n",
    "plt.show()\n",
    "\n",
    "# open\n",
    "sns.histplot(df1[\"Volume\"], bins=60, kde=True)\n",
    "plt.show()\n",
    "\n",
    "# Boxplot\n",
    "sns.boxplot(x=df1[\"Volume\"], errors=\"coerce\")\n",
    "plt.show()\n",
    "\n",
    "# open\n",
    "sns.histplot(df1[\"Market Cap\"], bins=60, kde=True)\n",
    "plt.show()\n",
    "\n",
    "# Boxplot\n",
    "sns.boxplot(x=df1[\"Market Cap\"], errors=\"coerce\")\n",
    "plt.show()\n"
   ]
  },
  {
   "cell_type": "markdown",
   "id": "05aa5c66",
   "metadata": {},
   "source": [
    "## Outlier Check (Z-value check)"
   ]
  },
  {
   "cell_type": "markdown",
   "id": "ac5e18df",
   "metadata": {},
   "source": [
    "## Numerical"
   ]
  },
  {
   "cell_type": "markdown",
   "id": "5b474e20",
   "metadata": {},
   "source": [
    "### Start"
   ]
  },
  {
   "cell_type": "code",
   "execution_count": null,
   "id": "36c11c73",
   "metadata": {},
   "outputs": [],
   "source": [
    "mean = pd.to_datetime(df1[\"Start\"], format='%Y-%m-%d', errors='coerce').dt.year.mean()\n",
    "std = pd.to_datetime(df1[\"Start\"], format='%Y-%m-%d', errors='coerce').dt.year.std()\n",
    "\n",
    "z_score = (pd.to_datetime(df1[\"Start\"], format='%Y-%m-%d', errors='coerce').dt.year - mean) / std\n",
    "outliers = df1[z_score.abs() > 3]\n",
    "print(f\"Outliers count {len(outliers)}\")\n",
    "\n",
    "mean = pd.to_datetime(df1[\"Start\"], format='%Y-%m-%d', errors='coerce').dt.month.mean()\n",
    "std = pd.to_datetime(df1[\"Start\"], format='%Y-%m-%d', errors='coerce').dt.month.std()\n",
    "\n",
    "z_score = (pd.to_datetime(df1[\"Start\"], format='%Y-%m-%d', errors='coerce').dt.month - mean) / std\n",
    "outliers = df1[z_score.abs() > 3]\n",
    "print(f\"Outliers count {len(outliers)}\")\n",
    "\n",
    "mean = pd.to_datetime(df1[\"Start\"], format='%Y-%m-%d', errors='coerce').dt.date.mean()\n",
    "std = pd.to_datetime(df1[\"Start\"], format='%Y-%m-%d', errors='coerce').dt.date.std()\n",
    "\n",
    "z_score = (pd.to_datetime(df1[\"Start\"], format='%Y-%m-%d', errors='coerce').dt.date - mean) / std\n",
    "outliers = df1[z_score.abs() > 3]\n",
    "print(f\"Outliers count {len(outliers)}\")"
   ]
  },
  {
   "cell_type": "markdown",
   "id": "16101014",
   "metadata": {},
   "source": [
    "### End"
   ]
  },
  {
   "cell_type": "code",
   "execution_count": null,
   "id": "4214e93a",
   "metadata": {},
   "outputs": [],
   "source": [
    "mean = pd.to_datetime(df1[\"End\"], format='%Y-%m-%d', errors='coerce').dt.year.mean()\n",
    "std = pd.to_datetime(df1[\"End\"], format='%Y-%m-%d', errors='coerce').dt.year.std()\n",
    "\n",
    "z_score = (pd.to_datetime(df1[\"End\"], format='%Y-%m-%d', errors='coerce').dt.year - mean) / std\n",
    "outliers = df1[z_score.abs() > 3]\n",
    "print(f\"Outliers count {len(outliers)}\")\n",
    "\n",
    "mean = pd.to_datetime(df1[\"End\"], format='%Y-%m-%d', errors='coerce').dt.month.mean()\n",
    "std = pd.to_datetime(df1[\"End\"], format='%Y-%m-%d', errors='coerce').dt.month.std()\n",
    "\n",
    "z_score = (pd.to_datetime(df1[\"End\"], format='%Y-%m-%d', errors='coerce').dt.month - mean) / std\n",
    "outliers = df1[z_score.abs() > 3]\n",
    "print(f\"Outliers count {len(outliers)}\")\n",
    "\n",
    "mean = pd.to_datetime(df1[\"End\"], format='%Y-%m-%d', errors='coerce').dt.date.mean()\n",
    "std = pd.to_datetime(df1[\"End\"], format='%Y-%m-%d', errors='coerce').dt.date.std()\n",
    "\n",
    "z_score = (pd.to_datetime(df1[\"End\"], format='%Y-%m-%d', errors='coerce').dt.date - mean) / std\n",
    "outliers = df1[z_score.abs() > 3]\n",
    "print(f\"Outliers count {len(outliers)}\")"
   ]
  },
  {
   "cell_type": "markdown",
   "id": "6ec8db55",
   "metadata": {},
   "source": [
    "### Open"
   ]
  },
  {
   "cell_type": "code",
   "execution_count": null,
   "id": "2f64e33a",
   "metadata": {},
   "outputs": [],
   "source": [
    "mean = df1[\"Open\"].mean()\n",
    "std = df1[\"Open\"].std()\n",
    "\n",
    "z_score = (df1[\"Open\"] - mean) / std\n",
    "outliers = df1[z_score.abs() > 3]\n",
    "print(f\"Outliers count {len(outliers)}\")\n"
   ]
  },
  {
   "cell_type": "markdown",
   "id": "bd35a1a2",
   "metadata": {},
   "source": [
    "### High"
   ]
  },
  {
   "cell_type": "code",
   "execution_count": null,
   "id": "78ff065e",
   "metadata": {},
   "outputs": [],
   "source": [
    "mean = df1[\"High\"].mean()\n",
    "std = df1[\"High\"].std()\n",
    "\n",
    "z_score = (df1[\"High\"] - mean) / std\n",
    "outliers = df1[z_score.abs() > 3]\n",
    "print(f\"Outliers count {len(outliers)}\")\n"
   ]
  },
  {
   "cell_type": "markdown",
   "id": "ff787233",
   "metadata": {},
   "source": [
    "### Low"
   ]
  },
  {
   "cell_type": "code",
   "execution_count": null,
   "id": "9f11acd1",
   "metadata": {},
   "outputs": [],
   "source": [
    "mean = df1[\"Low\"].mean()\n",
    "std = df1[\"Low\"].std()\n",
    "\n",
    "z_score = (df1[\"Low\"] - mean) / std\n",
    "outliers = df1[z_score.abs() > 3]\n",
    "print(f\"Outliers count {len(outliers)}\")\n"
   ]
  },
  {
   "cell_type": "markdown",
   "id": "25085486",
   "metadata": {},
   "source": [
    "### Close"
   ]
  },
  {
   "cell_type": "code",
   "execution_count": null,
   "id": "2efc4335",
   "metadata": {},
   "outputs": [],
   "source": [
    "mean = df1[\"Close\"].mean()\n",
    "std = df1[\"Close\"].std()\n",
    "\n",
    "z_score = (df1[\"Close\"] - mean) / std\n",
    "outliers = df1[z_score.abs() > 3]\n",
    "print(f\"Outliers count {len(outliers)}\")\n"
   ]
  },
  {
   "cell_type": "markdown",
   "id": "48331a32",
   "metadata": {},
   "source": [
    "### Volume"
   ]
  },
  {
   "cell_type": "code",
   "execution_count": null,
   "id": "72c9c678",
   "metadata": {},
   "outputs": [],
   "source": [
    "mean = df1[\"Volume\"].mean()\n",
    "std = df1[\"Volume\"].std()\n",
    "\n",
    "z_score = (df1[\"Volume\"] - mean) / std\n",
    "outliers = df1[z_score.abs() > 3]\n",
    "print(f\"Outliers count {len(outliers)}\")\n"
   ]
  },
  {
   "cell_type": "markdown",
   "id": "49dd1859",
   "metadata": {},
   "source": [
    "### Market Cap"
   ]
  },
  {
   "cell_type": "code",
   "execution_count": null,
   "id": "d67c9ea0",
   "metadata": {},
   "outputs": [],
   "source": [
    "mean = df1[\"Market Cap\"].mean()\n",
    "std = df1[\"Market Cap\"].std()\n",
    "\n",
    "z_score = (df1[\"Market Cap\"] - mean) / std\n",
    "outliers = df1[z_score.abs() > 3]\n",
    "print(f\"Outliers count {len(outliers)}\")\n"
   ]
  },
  {
   "cell_type": "markdown",
   "id": "5c283471",
   "metadata": {},
   "source": [
    "# Data preprocessing\n",
    "This stage include data cleaning (handling missing values, remove duplicates, correct error and inconsistencies), Data transformation (normalization, standardization, categorical data encoding) \n",
    "Feature selection, and Dimensionality reduction. Handling missing values will be approached in categorical values first. If null is found, then it will changed into modus of that certain feature. \n",
    "If outlier is found, it will removed from the dataset. In numerical values, every null value will be changed into the mean value of that feature related to that certain crime. If outlier is found,\n",
    "it will be removed from the dataset. "
   ]
  },
  {
   "cell_type": "markdown",
   "id": "8a9511bf",
   "metadata": {},
   "source": [
    "## Data Cleaning"
   ]
  },
  {
   "cell_type": "markdown",
   "id": "39d6492c",
   "metadata": {},
   "source": [
    "### Start"
   ]
  },
  {
   "cell_type": "code",
   "execution_count": null,
   "id": "91bfb932",
   "metadata": {},
   "outputs": [],
   "source": [
    "# change all rows without the null values in very row\n",
    "year_mean = int(pd.to_datetime(df1[\"Start\"], format=\"%Y-%m-%d\", errors=\"coerce\").dt.year.mean())\n",
    "month_mean = int(pd.to_datetime(df1[\"Start\"], format=\"%Y-%m-%d\", errors=\"coerce\").dt.month.mean())\n",
    "date_mean = int(pd.to_datetime(df1[\"Start\"], format=\"%Y-%m-%d\", errors=\"coerce\").dt.date.mean())\n",
    "datetime_mean = f\"{month_mean:02d}-{date_mean:02d}-{year_mean:02d}\"\n",
    "df1.loc[df1[\"Start\"] == \"(null)\", \"Start\"] = datetime_mean"
   ]
  },
  {
   "cell_type": "markdown",
   "id": "1f8df444",
   "metadata": {},
   "source": [
    "### End"
   ]
  },
  {
   "cell_type": "code",
   "execution_count": null,
   "id": "0b300f57",
   "metadata": {},
   "outputs": [],
   "source": [
    "year_mean = int(pd.to_datetime(df1[\"End\"], format=\"%Y-%m-%d\", errors=\"coerce\").dt.year.mean())\n",
    "month_mean = int(pd.to_datetime(df1[\"End\"], format=\"%Y-%m-%d\", errors=\"coerce\").dt.month.mean())\n",
    "date_mean = int(pd.to_datetime(df1[\"End\"], format=\"%Y-%m-%d\", errors=\"coerce\").dt.date.mean())\n",
    "datetime_mean = f\"{month_mean:02d}-{date_mean:02d}-{year_mean:02d}\"\n",
    "df1.loc[df1[\"End\"] == \"(null)\", \"End\"] = datetime_mean"
   ]
  },
  {
   "cell_type": "markdown",
   "id": "58d38409",
   "metadata": {},
   "source": [
    "### Open"
   ]
  },
  {
   "cell_type": "code",
   "execution_count": null,
   "id": "0b96f3a4",
   "metadata": {},
   "outputs": [],
   "source": [
    "mean = df1[\"Open\"].mean()\n",
    "df1.loc[df1[\"Open\"] == \"(null)\", \"Open\"] = mean"
   ]
  },
  {
   "cell_type": "markdown",
   "id": "a7ead3e8",
   "metadata": {},
   "source": [
    "### High"
   ]
  },
  {
   "cell_type": "code",
   "execution_count": null,
   "id": "1592db5e",
   "metadata": {},
   "outputs": [],
   "source": [
    "mean = df1[\"High\"].mean()\n",
    "df1.loc[df1[\"High\"] == \"(null)\", \"High\"] = mean"
   ]
  },
  {
   "cell_type": "markdown",
   "id": "33762d39",
   "metadata": {},
   "source": [
    "### Low"
   ]
  },
  {
   "cell_type": "code",
   "execution_count": null,
   "id": "38590464",
   "metadata": {},
   "outputs": [],
   "source": [
    "mean = df1[\"Low\"].mean()\n",
    "df1.loc[df1[\"Low\"] == \"(null)\", \"Low\"] = mean"
   ]
  },
  {
   "cell_type": "markdown",
   "id": "e46d7058",
   "metadata": {},
   "source": [
    "### Close"
   ]
  },
  {
   "cell_type": "code",
   "execution_count": null,
   "id": "6fab0a9c",
   "metadata": {},
   "outputs": [],
   "source": [
    "mean = df1[\"Close\"].mean()\n",
    "df1.loc[df1[\"Close\"] == \"(null)\", \"Close\"] = mean"
   ]
  },
  {
   "cell_type": "markdown",
   "id": "da8cef3e",
   "metadata": {},
   "source": [
    "### Volume"
   ]
  },
  {
   "cell_type": "code",
   "execution_count": null,
   "id": "1bf7e63f",
   "metadata": {},
   "outputs": [],
   "source": [
    "mean = df1[\"Volume\"].mean()\n",
    "df1.loc[df1[\"Volume\"] == \"(null)\", \"Volume\"] = mean"
   ]
  },
  {
   "cell_type": "markdown",
   "id": "4202019c",
   "metadata": {},
   "source": [
    "### Market cap"
   ]
  },
  {
   "cell_type": "code",
   "execution_count": null,
   "id": "4c6d498f",
   "metadata": {},
   "outputs": [],
   "source": [
    "mean = df1[\"Market Cap\"].mean()\n",
    "df1.loc[df1[\"Market Cap\"] == \"(null)\", \"Market Cap\"] = mean"
   ]
  },
  {
   "cell_type": "markdown",
   "id": "c2601461",
   "metadata": {},
   "source": [
    "# Data Encoding\n",
    "Encoding is needed to be able to get the value computed by algorithms (KNN, and many algorithms that rely on doing it using numbers). In this case, it is only needed to convert the date in the Start column into continuous value (in second relative from year 0)"
   ]
  },
  {
   "cell_type": "code",
   "execution_count": null,
   "id": "064775c8",
   "metadata": {},
   "outputs": [],
   "source": [
    "yearToSecond = pd.to_datetime(df1[\"Start\"], format=\"%Y-%m-%d\", errors=\"coerce\").dt.year * 365 * 24 * 60 * 60\n",
    "monthToSecond = pd.to_datetime(df1[\"Start\"], format=\"%Y-%m-%d\", errors=\"coerce\").dt.month * 30 * 24 * 60 * 60\n",
    "dateToSecond = pd.to_datetime(df1[\"Start\"], format=\"%Y-%m-%d\", errors=\"coerce\").dt.day * 24 * 60 * 60\n",
    "df1[\"Start\"] = yearToSecond + monthToSecond + dateToSecond\n",
    "\n",
    "yearToSecond = pd.to_datetime(df1[\"End\"], format=\"%Y-%m-%d\", errors=\"coerce\").dt.year * 365 * 24 * 60 * 60\n",
    "monthToSecond = pd.to_datetime(df1[\"End\"], format=\"%Y-%m-%d\", errors=\"coerce\").dt.month * 30 * 24 * 60 * 60\n",
    "dateToSecond = pd.to_datetime(df1[\"End\"], format=\"%Y-%m-%d\", errors=\"coerce\").dt.day * 24 * 60 * 60\n",
    "df1[\"End\"] = yearToSecond + monthToSecond + dateToSecond"
   ]
  },
  {
   "cell_type": "markdown",
   "id": "389f4ba3",
   "metadata": {},
   "source": [
    "## Feature Selection\n",
    "Feature selection is done to get only the relevant column, that is the all of the column except the end date and for processing SVM, there will be a new column that will store the year and month in year-month format"
   ]
  },
  {
   "cell_type": "code",
   "execution_count": null,
   "id": "a49ec1c7",
   "metadata": {},
   "outputs": [],
   "source": [
    "# Generating new column to period\n",
    "df1[\"Start\"] = pd.to_datetime(df1[\"Start\"], format=\"%Y-%m-%d\")\n",
    "\n",
    "# Extract year and month in YYYY-MM format\n",
    "df1[\"Period\"] = df1[\"Start\"].dt.strftime(\"%Y-%m\")"
   ]
  },
  {
   "cell_type": "code",
   "execution_count": null,
   "id": "283f7b79",
   "metadata": {},
   "outputs": [],
   "source": [
    "# listing feature and class of new column period\n",
    "features = [\"Start\", \"Open\", \"High\", \"Low\", \"Close\", \"Market Cap\", \"Volume\", \"Period\"]\n",
    "\n",
    "X = df1.loc[:, features[:-1]]\n",
    "Y = df1.loc[:, features[-1]]\n",
    "\n",
    "classes = Y.unique()\n",
    "print(classes)"
   ]
  },
  {
   "cell_type": "markdown",
   "id": "f3d15113",
   "metadata": {},
   "source": [
    "## Dimensionality Reduction\n",
    "Dimensionality reduction is done to reduce the noise of the characteristics of the attributes and\n",
    "focus on what causing and the pattern on which the event emerges. In this example, there is no need to do so because every value is in simple form and it is not intended to determine a new column that is significant to the particular target label"
   ]
  },
  {
   "cell_type": "markdown",
   "id": "1d9559ad",
   "metadata": {},
   "source": [
    "## Balancing\n",
    "Based on the diagram in the EDA, there are a pattern of skewness of the data in the time context, but\n",
    "other than that, there is a nice variance (not to significant) such that the model that will generated from this dataset is perceived not be biased. Thus, it is not needed to be balanced with\n",
    "any other method (balancing methods)"
   ]
  },
  {
   "cell_type": "markdown",
   "id": "e8ac2611",
   "metadata": {},
   "source": [
    "# Bagian 2 (Supervised Learning)"
   ]
  },
  {
   "cell_type": "markdown",
   "id": "0ef516e8",
   "metadata": {},
   "source": [
    "## K Nearest Neighbor"
   ]
  },
  {
   "cell_type": "markdown",
   "id": "60c4b36d",
   "metadata": {},
   "source": [
    "#### Hold out validation"
   ]
  },
  {
   "cell_type": "markdown",
   "id": "17ebc719",
   "metadata": {},
   "source": [
    "##### Implementasi Manual"
   ]
  },
  {
   "cell_type": "code",
   "execution_count": null,
   "id": "3690e445",
   "metadata": {},
   "outputs": [],
   "source": [
    "# partition into 80% and 20% (testing)\n",
    "nTrain = int(0.8 * len(df1))\n",
    "trainData = df1.iloc[:nTrain][features]\n",
    "testData = df1.iloc[nTrain:][features]\n",
    "\n",
    "# init\n",
    "# \"Start\", \"Open\", \"High\", \"Low\", \"Close\", \"Market Cap\", \"Volume\", \"Period\"\n",
    "startVal = float(input()) # in miliseconds\n",
    "openVal = float(input())\n",
    "highVal = float(input())\n",
    "lowVal = float(input())\n",
    "closeVal = float(input())\n",
    "marketCapVal = float(input())\n",
    "periodVal = (input())\n",
    "# choose periodval out of this matrix\n",
    "'''['2024-06' '2024-05' '2024-04' '2024-03' '2024-02' '2024-01' '2023-12'\n",
    " '2023-11' '2023-10' '2023-09' '2023-08' '2023-07' '2023-06' '2023-05'\n",
    " '2023-04' '2023-03' '2023-02' '2023-01' '2022-12' '2022-11' '2022-10'\n",
    " '2022-09' '2022-08' '2022-07' '2022-06' '2022-05' '2022-04' '2022-03'\n",
    " '2022-02' '2022-01' '2021-12' '2021-11' '2021-10' '2021-09' '2021-08'\n",
    " '2021-07' '2021-06' '2021-05' '2021-04' '2021-03' '2021-02' '2021-01'\n",
    " '2020-12' '2020-11' '2020-10' '2020-09' '2020-08' '2020-07' '2020-06'\n",
    " '2020-05' '2020-04' '2020-03' '2020-02' '2020-01' '2019-12' '2019-11'\n",
    " '2019-10' '2019-09' '2019-08' '2019-07' '2019-06' '2019-05' '2019-04'\n",
    " '2019-03' '2019-02' '2019-01' '2018-12' '2018-11' '2018-10' '2018-09'\n",
    " '2018-08' '2018-07' '2018-06' '2018-05' '2018-04' '2018-03' '2018-02'\n",
    " '2018-01' '2017-12' '2017-11' '2017-10' '2017-09' '2017-08' '2017-07'\n",
    " '2017-06' '2017-05' '2017-04' '2017-03' '2017-02' '2017-01' '2016-12'\n",
    " '2016-11' '2016-10' '2016-09' '2016-08' '2016-07' '2016-06' '2016-05'\n",
    " '2016-04' '2016-03' '2016-02' '2016-01' '2015-12' '2015-11' '2015-10'\n",
    " '2015-09' '2015-08' '2015-07' '2015-06' '2015-05' '2015-04' '2015-03'\n",
    " '2015-02' '2015-01' '2014-12' '2014-11' '2014-10' '2014-09' '2014-08'\n",
    " '2014-07' '2014-06' '2014-05' '2014-04' '2014-03' '2014-02' '2014-01'\n",
    " '2013-12' '2013-11' '2013-10' '2013-09' '2013-08' '2013-07' '2013-06'\n",
    " '2013-05' '2013-04' '2013-03' '2013-02' '2013-01' '2012-12' '2012-11'\n",
    " '2012-10' '2012-09' '2012-08' '2012-07' '2012-06' '2012-05' '2012-04'\n",
    " '2012-03' '2012-02' '2012-01' '2011-12' '2011-11' '2011-10' '2011-09'\n",
    " '2011-08' '2011-07' '2011-06' '2011-05' '2011-04' '2011-03' '2011-02'\n",
    " '2011-01' '2010-12' '2010-11' '2010-10' '2010-09' '2010-08' '2010-07']'''\n",
    "distanceFunction = (input()) \n",
    "neighborCount = int(input())\n",
    "minkowskiExp = float(input())\n",
    "knn = KNearestNeigbor(distanceFunction, neighborCount, \"Start\", minkowskiExp)\n",
    "\n",
    "# predict\n",
    "x = np.array([startVal, openVal, highVal, lowVal, closeVal, marketCapVal, periodVal])\n",
    "knn.predict(trainData, x)"
   ]
  },
  {
   "cell_type": "markdown",
   "id": "17c3a04d",
   "metadata": {},
   "source": [
    "##### Implementasi Library"
   ]
  },
  {
   "cell_type": "code",
   "execution_count": null,
   "id": "528f92c5",
   "metadata": {},
   "outputs": [],
   "source": [
    "# partition into 80% and 20% (testing)\n",
    "from sklearn.neighbors import KNeighborsRegressor\n",
    "\n",
    "# X = features (all columns except target)\n",
    "# y = target column\n",
    "X_train = trainData.drop(columns=[\"Start\"])\n",
    "y_train = trainData[\"Start\"]\n",
    "\n",
    "knn = KNeighborsRegressor(n_neighbors=neighborCount, metric='minkowski', p=minkowskiExp)\n",
    "knn.fit(X_train, y_train)\n",
    "\n",
    "# Predict for a new sample\n",
    "x_new = np.array([openVal, highVal, lowVal, closeVal, marketCapVal, periodVal]).reshape(1, -1)\n",
    "predicted = knn.predict(x_new)\n",
    "print(\"Predicted value:\", predicted)\n"
   ]
  },
  {
   "cell_type": "markdown",
   "id": "23cf370b",
   "metadata": {},
   "source": [
    "#### K fold validation"
   ]
  },
  {
   "cell_type": "markdown",
   "id": "af038700",
   "metadata": {},
   "source": [
    "##### Implementasi Manual"
   ]
  },
  {
   "cell_type": "code",
   "execution_count": null,
   "id": "67fc2dcc",
   "metadata": {},
   "outputs": [],
   "source": [
    "# partition into k = user input\n",
    "k = int(input())\n",
    "n = len(df1)\n",
    "fold_size = n // k\n",
    "\n",
    "for i in range(k) :\n",
    "    start_idx = i * fold_size\n",
    "    end_idx = (i + 1) * fold_size if i != k-1 else n  # last fold may include remainder\n",
    "    testData = df1.iloc[start_idx:end_idx][features]\n",
    "    \n",
    "    # Define train data by dropping test indices\n",
    "    trainData = df1.drop(df1.index[start_idx:end_idx])[features]\n",
    "\n",
    "    # init\n",
    "    # \"Start\", \"Open\", \"High\", \"Low\", \"Close\", \"Market Cap\", \"Volume\", \"Period\"\n",
    "    startVal = float(input()) # in miliseconds\n",
    "    openVal = float(input())\n",
    "    highVal = float(input())\n",
    "    lowVal = float(input())\n",
    "    closeVal = float(input())\n",
    "    marketCapVal = float(input())\n",
    "    periodVal = (input())\n",
    "    # choose periodval out of this matrix\n",
    "    '''['2024-06' '2024-05' '2024-04' '2024-03' '2024-02' '2024-01' '2023-12'\n",
    "    '2023-11' '2023-10' '2023-09' '2023-08' '2023-07' '2023-06' '2023-05'\n",
    "    '2023-04' '2023-03' '2023-02' '2023-01' '2022-12' '2022-11' '2022-10'\n",
    "    '2022-09' '2022-08' '2022-07' '2022-06' '2022-05' '2022-04' '2022-03'\n",
    "    '2022-02' '2022-01' '2021-12' '2021-11' '2021-10' '2021-09' '2021-08'\n",
    "    '2021-07' '2021-06' '2021-05' '2021-04' '2021-03' '2021-02' '2021-01'\n",
    "    '2020-12' '2020-11' '2020-10' '2020-09' '2020-08' '2020-07' '2020-06'\n",
    "    '2020-05' '2020-04' '2020-03' '2020-02' '2020-01' '2019-12' '2019-11'\n",
    "    '2019-10' '2019-09' '2019-08' '2019-07' '2019-06' '2019-05' '2019-04'\n",
    "    '2019-03' '2019-02' '2019-01' '2018-12' '2018-11' '2018-10' '2018-09'\n",
    "    '2018-08' '2018-07' '2018-06' '2018-05' '2018-04' '2018-03' '2018-02'\n",
    "    '2018-01' '2017-12' '2017-11' '2017-10' '2017-09' '2017-08' '2017-07'\n",
    "    '2017-06' '2017-05' '2017-04' '2017-03' '2017-02' '2017-01' '2016-12'\n",
    "    '2016-11' '2016-10' '2016-09' '2016-08' '2016-07' '2016-06' '2016-05'\n",
    "    '2016-04' '2016-03' '2016-02' '2016-01' '2015-12' '2015-11' '2015-10'\n",
    "    '2015-09' '2015-08' '2015-07' '2015-06' '2015-05' '2015-04' '2015-03'\n",
    "    '2015-02' '2015-01' '2014-12' '2014-11' '2014-10' '2014-09' '2014-08'\n",
    "    '2014-07' '2014-06' '2014-05' '2014-04' '2014-03' '2014-02' '2014-01'\n",
    "    '2013-12' '2013-11' '2013-10' '2013-09' '2013-08' '2013-07' '2013-06'\n",
    "    '2013-05' '2013-04' '2013-03' '2013-02' '2013-01' '2012-12' '2012-11'\n",
    "    '2012-10' '2012-09' '2012-08' '2012-07' '2012-06' '2012-05' '2012-04'\n",
    "    '2012-03' '2012-02' '2012-01' '2011-12' '2011-11' '2011-10' '2011-09'\n",
    "    '2011-08' '2011-07' '2011-06' '2011-05' '2011-04' '2011-03' '2011-02'\n",
    "    '2011-01' '2010-12' '2010-11' '2010-10' '2010-09' '2010-08' '2010-07']'''\n",
    "    distanceFunction = (input()) \n",
    "    neighborCount = int(input())\n",
    "    minkowskiExp = float(input())\n",
    "    knn = KNearestNeigbor(distanceFunction, neighborCount, \"Start\", minkowskiExp)\n",
    "\n",
    "    # predict\n",
    "    x = np.array([startVal, openVal, highVal, lowVal, closeVal, marketCapVal, periodVal])\n",
    "    prediction = knn.predict(trainData, x)\n",
    "\n",
    "    print(f\"Fold {i+1} Prediction: {prediction}\")"
   ]
  },
  {
   "cell_type": "markdown",
   "id": "63eac08a",
   "metadata": {},
   "source": [
    "##### Implementasi Library"
   ]
  },
  {
   "cell_type": "code",
   "execution_count": null,
   "id": "dee62dd7",
   "metadata": {},
   "outputs": [],
   "source": [
    "from sklearn.neighbors import KNeighborsRegressor\n",
    "\n",
    "# X = features (all columns except target)\n",
    "# y = target column\n",
    "\n",
    "# partition into k = user input\n",
    "k = int(input())\n",
    "n = len(df1)\n",
    "fold_size = n // k\n",
    "\n",
    "for i in range(k) :\n",
    "    start_idx = i * fold_size\n",
    "    end_idx = (i + 1) * fold_size if i != k-1 else n  # last fold may include remainder\n",
    "    testData = df1.iloc[start_idx:end_idx][features]\n",
    "    \n",
    "    # Define train data by dropping test indices\n",
    "    trainData = df1.drop(df1.index[start_idx:end_idx])[features]\n",
    "\n",
    "    X_train = trainData.drop(columns=[\"Start\"])\n",
    "    y_train = trainData[\"Start\"]\n",
    "\n",
    "    knn = KNeighborsRegressor(n_neighbors=neighborCount, metric='minkowski', p=minkowskiExp)\n",
    "    knn.fit(X_train, y_train)\n",
    "\n",
    "    # Predict for a new sample\n",
    "    x_new = np.array([openVal, highVal, lowVal, closeVal, marketCapVal, periodVal]).reshape(1, -1)\n",
    "    predicted = knn.predict(x_new)\n",
    "    print(f\"Fold {i + 1} predicted value:\", predicted)\n"
   ]
  },
  {
   "cell_type": "markdown",
   "id": "a5e5c62c",
   "metadata": {},
   "source": [
    "## Polynomial Regression"
   ]
  },
  {
   "cell_type": "markdown",
   "id": "43e3960a",
   "metadata": {},
   "source": [
    "#### Hold out validation"
   ]
  },
  {
   "cell_type": "markdown",
   "id": "15ab7009",
   "metadata": {},
   "source": [
    "##### Implementasi Manual"
   ]
  },
  {
   "cell_type": "code",
   "execution_count": null,
   "id": "b8cf0440",
   "metadata": {},
   "outputs": [],
   "source": [
    "# partition into 80% and 20% (testing)"
   ]
  },
  {
   "cell_type": "markdown",
   "id": "6642940c",
   "metadata": {},
   "source": [
    "##### Implementasi Library"
   ]
  },
  {
   "cell_type": "code",
   "execution_count": null,
   "id": "86172eca",
   "metadata": {},
   "outputs": [],
   "source": [
    "# partition into 80% and 20% (testing)"
   ]
  },
  {
   "cell_type": "markdown",
   "id": "a1100d7c",
   "metadata": {},
   "source": [
    "#### K fold validation"
   ]
  },
  {
   "cell_type": "markdown",
   "id": "cd8afd22",
   "metadata": {},
   "source": [
    "##### Implementasi Manual"
   ]
  },
  {
   "cell_type": "code",
   "execution_count": null,
   "id": "15d64472",
   "metadata": {},
   "outputs": [],
   "source": [
    "# partition into 80% and 20% (testing)"
   ]
  },
  {
   "cell_type": "markdown",
   "id": "2d37cd0d",
   "metadata": {},
   "source": [
    "##### Implementasi Library"
   ]
  },
  {
   "cell_type": "code",
   "execution_count": null,
   "id": "a5446850",
   "metadata": {},
   "outputs": [],
   "source": [
    "# partition into 80% and 20% (testing)"
   ]
  },
  {
   "cell_type": "markdown",
   "id": "f9bbe7bf",
   "metadata": {},
   "source": [
    "## Regression Tree (CART)"
   ]
  },
  {
   "cell_type": "markdown",
   "id": "04ba3ddf",
   "metadata": {},
   "source": [
    "#### Hold out validation"
   ]
  },
  {
   "cell_type": "markdown",
   "id": "8dad9b3b",
   "metadata": {},
   "source": [
    "##### Implementasi Manual"
   ]
  },
  {
   "cell_type": "code",
   "execution_count": null,
   "id": "4472ac3b",
   "metadata": {},
   "outputs": [],
   "source": [
    "# partition into 80% and 20% (testing)"
   ]
  },
  {
   "cell_type": "markdown",
   "id": "89717739",
   "metadata": {},
   "source": [
    "##### Implementasi Library"
   ]
  },
  {
   "cell_type": "code",
   "execution_count": null,
   "id": "d5395c20",
   "metadata": {},
   "outputs": [],
   "source": [
    "# partition into 80% and 20% (testing)"
   ]
  },
  {
   "cell_type": "markdown",
   "id": "f10baf95",
   "metadata": {},
   "source": [
    "#### K fold validation"
   ]
  },
  {
   "cell_type": "markdown",
   "id": "dd845fd4",
   "metadata": {},
   "source": [
    "##### Implementasi Manual"
   ]
  },
  {
   "cell_type": "code",
   "execution_count": null,
   "id": "71eb5a19",
   "metadata": {},
   "outputs": [],
   "source": [
    "# partition into 80% and 20% (testing)"
   ]
  },
  {
   "cell_type": "markdown",
   "id": "626ffba1",
   "metadata": {},
   "source": [
    "##### Implementasi Library"
   ]
  },
  {
   "cell_type": "code",
   "execution_count": null,
   "id": "bddf8941",
   "metadata": {},
   "outputs": [],
   "source": [
    "# partition into 80% and 20% (testing)"
   ]
  },
  {
   "cell_type": "markdown",
   "id": "ec66b39c",
   "metadata": {},
   "source": [
    "## Support Vector Machine (SVM)"
   ]
  },
  {
   "cell_type": "markdown",
   "id": "4e3d4c47",
   "metadata": {},
   "source": [
    "#### Hold out validation"
   ]
  },
  {
   "cell_type": "markdown",
   "id": "4674f0c9",
   "metadata": {},
   "source": [
    "##### Implementasi Manual"
   ]
  },
  {
   "cell_type": "code",
   "execution_count": null,
   "id": "fd995bf6",
   "metadata": {},
   "outputs": [],
   "source": [
    "# partition into 80% and 20% (testing)"
   ]
  },
  {
   "cell_type": "markdown",
   "id": "58d2d12b",
   "metadata": {},
   "source": [
    "##### Implementasi Library"
   ]
  },
  {
   "cell_type": "code",
   "execution_count": null,
   "id": "5a20d01b",
   "metadata": {},
   "outputs": [],
   "source": [
    "# partition into 80% and 20% (testing)"
   ]
  },
  {
   "cell_type": "markdown",
   "id": "17322cbb",
   "metadata": {},
   "source": [
    "#### K fold validation"
   ]
  },
  {
   "cell_type": "markdown",
   "id": "75248de7",
   "metadata": {},
   "source": [
    "##### Implementasi Manual"
   ]
  },
  {
   "cell_type": "code",
   "execution_count": null,
   "id": "595e892a",
   "metadata": {},
   "outputs": [],
   "source": [
    "# partition into 80% and 20% (testing)"
   ]
  },
  {
   "cell_type": "markdown",
   "id": "d35f4543",
   "metadata": {},
   "source": [
    "##### Implementasi Library"
   ]
  },
  {
   "cell_type": "code",
   "execution_count": null,
   "id": "1b3fe5de",
   "metadata": {},
   "outputs": [],
   "source": [
    "# partition into 80% and 20% (testing)"
   ]
  },
  {
   "cell_type": "markdown",
   "id": "5c18d76b",
   "metadata": {},
   "source": [
    "## Artificial Neural Network (ANN)"
   ]
  },
  {
   "cell_type": "markdown",
   "id": "ae997a4c",
   "metadata": {},
   "source": [
    "#### Hold out validation"
   ]
  },
  {
   "cell_type": "markdown",
   "id": "79090675",
   "metadata": {},
   "source": [
    "##### Implementasi Manual"
   ]
  },
  {
   "cell_type": "code",
   "execution_count": null,
   "id": "cf43d7bf",
   "metadata": {},
   "outputs": [],
   "source": [
    "# partition into 80% and 20% (testing)"
   ]
  },
  {
   "cell_type": "markdown",
   "id": "85478a65",
   "metadata": {},
   "source": [
    "##### Implementasi Library"
   ]
  },
  {
   "cell_type": "code",
   "execution_count": null,
   "id": "eb57c35c",
   "metadata": {},
   "outputs": [],
   "source": [
    "# partition into 80% and 20% (testing)"
   ]
  },
  {
   "cell_type": "markdown",
   "id": "3292360d",
   "metadata": {},
   "source": [
    "#### K fold validation"
   ]
  },
  {
   "cell_type": "markdown",
   "id": "08b640f1",
   "metadata": {},
   "source": [
    "##### Implementasi Manual"
   ]
  },
  {
   "cell_type": "code",
   "execution_count": null,
   "id": "0a8bf0c5",
   "metadata": {},
   "outputs": [],
   "source": [
    "# partition into 80% and 20% (testing)"
   ]
  },
  {
   "cell_type": "markdown",
   "id": "42e09cdb",
   "metadata": {},
   "source": [
    "##### Implementasi Library"
   ]
  },
  {
   "cell_type": "code",
   "execution_count": null,
   "id": "872b9615",
   "metadata": {},
   "outputs": [],
   "source": [
    "# partition into 80% and 20% (testing)"
   ]
  },
  {
   "cell_type": "markdown",
   "id": "77ae060a",
   "metadata": {},
   "source": [
    "# Bagian 3 (Unsupervised Learning)"
   ]
  },
  {
   "cell_type": "markdown",
   "id": "bae406b0",
   "metadata": {},
   "source": [
    "Bagian ini akan menggunakan data iris.csv yang terletak pada folder data dengan kolom sebagai berikut: \n",
    "1. sepal_width : numerical\n",
    "2. sepal_length : numerical\n",
    "3. petal_width : numerical\n",
    "4. petal_length : numerical\n",
    "5. class : categorical"
   ]
  },
  {
   "cell_type": "markdown",
   "id": "1e14f301",
   "metadata": {},
   "source": [
    "## K Means"
   ]
  },
  {
   "cell_type": "markdown",
   "id": "5b993f60",
   "metadata": {},
   "source": [
    "### Implementasi manual"
   ]
  },
  {
   "cell_type": "code",
   "execution_count": null,
   "id": "7d058d3d",
   "metadata": {},
   "outputs": [],
   "source": []
  },
  {
   "cell_type": "markdown",
   "id": "c023c7e7",
   "metadata": {},
   "source": [
    "### Implementasi Library"
   ]
  },
  {
   "cell_type": "code",
   "execution_count": null,
   "id": "fb5d570c",
   "metadata": {},
   "outputs": [],
   "source": []
  },
  {
   "cell_type": "markdown",
   "id": "5973338d",
   "metadata": {},
   "source": [
    "## DBSCAN"
   ]
  },
  {
   "cell_type": "markdown",
   "id": "89a6117c",
   "metadata": {},
   "source": [
    "### Implementasi manual"
   ]
  },
  {
   "cell_type": "code",
   "execution_count": null,
   "id": "30f3e076",
   "metadata": {},
   "outputs": [],
   "source": []
  },
  {
   "cell_type": "markdown",
   "id": "603952e6",
   "metadata": {},
   "source": [
    "### Implementasi Library"
   ]
  },
  {
   "cell_type": "code",
   "execution_count": null,
   "id": "0336d055",
   "metadata": {},
   "outputs": [],
   "source": []
  },
  {
   "cell_type": "markdown",
   "id": "c83a492e",
   "metadata": {},
   "source": [
    "## PCA"
   ]
  },
  {
   "cell_type": "markdown",
   "id": "dbee384d",
   "metadata": {},
   "source": [
    "### Implementasi manual"
   ]
  },
  {
   "cell_type": "code",
   "execution_count": null,
   "id": "9fda6a00",
   "metadata": {},
   "outputs": [],
   "source": []
  },
  {
   "cell_type": "markdown",
   "id": "70a5f624",
   "metadata": {},
   "source": [
    "### Implementasi Library"
   ]
  },
  {
   "cell_type": "code",
   "execution_count": null,
   "id": "d89fdec0",
   "metadata": {},
   "outputs": [],
   "source": []
  },
  {
   "cell_type": "markdown",
   "id": "da91a492",
   "metadata": {},
   "source": [
    "# Bagian 4 (Reinforcement Learning)"
   ]
  },
  {
   "cell_type": "markdown",
   "id": "0a397f42",
   "metadata": {},
   "source": [
    "## SARSA"
   ]
  },
  {
   "cell_type": "code",
   "execution_count": null,
   "id": "70b92aae",
   "metadata": {},
   "outputs": [],
   "source": []
  },
  {
   "cell_type": "markdown",
   "id": "d8aa95b8",
   "metadata": {},
   "source": [
    "## Q Learning"
   ]
  },
  {
   "cell_type": "code",
   "execution_count": null,
   "id": "dc515b39",
   "metadata": {},
   "outputs": [],
   "source": []
  }
 ],
 "metadata": {
  "kernelspec": {
   "display_name": ".venv",
   "language": "python",
   "name": "python3"
  },
  "language_info": {
   "codemirror_mode": {
    "name": "ipython",
    "version": 3
   },
   "file_extension": ".py",
   "mimetype": "text/x-python",
   "name": "python",
   "nbconvert_exporter": "python",
   "pygments_lexer": "ipython3",
   "version": "3.13.3"
  }
 },
 "nbformat": 4,
 "nbformat_minor": 5
}
