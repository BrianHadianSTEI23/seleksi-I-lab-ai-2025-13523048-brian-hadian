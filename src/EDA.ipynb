{
 "cells": [
  {
   "cell_type": "markdown",
   "id": "0764d036",
   "metadata": {},
   "source": [
    "# NYPD Complain Data History 20250901\n",
    "\n",
    "This data is in format csv and has around 2 million rows. This dataset has columns as such\n",
    "\n",
    "1. CMPLNT_NUM : Number (Randomly generated persistent ID for each complaint) (NUMERIC)\n",
    "\n",
    "2. CMPLNT_FR_DT : Text (Exact date of occurrence for the reported event (or starting date of occurrence, if CMPLNT_TO_DT exists)) (Format XX/XX/XXXX) (NUMERIC)\n",
    "\n",
    "3. CMPLNT_FR_TM : Text (Exact time of occurrence for the reported event (or starting time of occurrence, if CMPLNT_TO_TM exists)) (format : XX:XX:XX) (NUMERIC)\n",
    "\n",
    "4. CMPLNT_TO_DT : Text (Ending date of occurrence for the reported event, if exact time of occurrence is unknown) (NUMERIC)\n",
    "\n",
    "5. CMPLNT_TO_TM : Text (Ending time of occurrence for the reported event, if exact time of occurrence is unknown) (NUMERIC)\n",
    "\n",
    "6. RPT_DT : Text (Date event was reported to police) (format : XX/XX/XXXX) (NUMERIC)\n",
    "\n",
    "7. KY_CD : Number (Three digit offense classification code) (CATEGORICAL)\n",
    "\n",
    "8. OFNS_DESC : text (Description of offense corresponding with key code) (CATEGORICAL)\n",
    "\n",
    "9. CRM_ATPT_CPTD_CD : Text (Indicator of whether crime was successfully completed or attempted, but failed or was interrupted prematurely) (CATEGORICAL)\n",
    "\n",
    "10. LAW_CAT_CD : Text (Level of offense: felony, misdemeanor, violation) (CATEGORICAL)\n",
    "\n",
    "11. BORO_NM : TExt (the name of the borough in which the incident occured) (CATEGORICAL)\n",
    "\n",
    "12. LOC_OF_OCCUR_DESC : Text (speficic location of occurence in or around the premises : inside, opposite of, front of, rear of) (CATEGORICAL)\n",
    "\n",
    "13. PREM_TYP_DESC : Text (speficic description of premises: grocery store, residence, street, etc) (CATEGORICAL)\n",
    "\n",
    "14. JURIS_DESC : Text (Description of the jurisdiction code) (CATEGORICAL)\n",
    "\n",
    "15. SUSP_AGE_GROUP : Text (suspect's age group) (CATEGORICAL)\n",
    "\n",
    "16. SUSP_RACE : Text (suspect's race description) (CATEGORICAL)\n",
    "\n",
    "17. SUSP_SEX : Text (Suspect's sex description) (CATEGORICAL)\n",
    "\n",
    "18. Latitude : Number (Midblock Latitude coordinate for Global Coordinate System, WGS 1984, decimal degrees (EPSG 4326)) (NUMERIC)\n",
    "\n",
    "19. Longitude : Number (Midblock Longitude coordinate for Global Coordinate System, WGS 1984, decimal degrees (EPSG 4326)) (NUMERIC)\n",
    "\n",
    "20. PATROL_BORO : Text (The name of the patrol borough in which the incident occured) (CATEGORICAL)\n",
    "\n",
    "21. VIC_AGE_GROUP : Text (victim's age group) (CATEGORICAL)\n",
    "\n",
    "22. VIC_RACE : text (victim's race description) (CATEGORICAL)\n",
    "\n",
    "23. VIC_SEX : text (victim's sex description) (CATEGORICAL)"
   ]
  },
  {
   "cell_type": "code",
   "execution_count": null,
   "id": "46a52c18",
   "metadata": {},
   "outputs": [],
   "source": [
    "# read file\n",
    "import pandas as pd\n",
    "import seaborn as sns\n",
    "import matplotlib.pyplot as plt\n",
    "\n",
    "file = \"../data/NYPD_Complaint_Data_Historic_20250901.csv\"\n",
    "\n",
    "df = pd.read_csv(file)"
   ]
  },
  {
   "cell_type": "markdown",
   "id": "0c978953",
   "metadata": {},
   "source": [
    "# Exploratory Data Analysis"
   ]
  },
  {
   "cell_type": "code",
   "execution_count": 1,
   "id": "3babe234",
   "metadata": {},
   "outputs": [
    {
     "ename": "NameError",
     "evalue": "name 'df' is not defined",
     "output_type": "error",
     "traceback": [
      "\u001b[31m---------------------------------------------------------------------------\u001b[39m",
      "\u001b[31mNameError\u001b[39m                                 Traceback (most recent call last)",
      "\u001b[36mCell\u001b[39m\u001b[36m \u001b[39m\u001b[32mIn[1]\u001b[39m\u001b[32m, line 2\u001b[39m\n\u001b[32m      1\u001b[39m \u001b[38;5;66;03m# jumlah data\u001b[39;00m\n\u001b[32m----> \u001b[39m\u001b[32m2\u001b[39m \u001b[38;5;28mprint\u001b[39m(\u001b[43mdf\u001b[49m.count())\n\u001b[32m      4\u001b[39m \u001b[38;5;66;03m# fitur numerik\u001b[39;00m\n\u001b[32m      5\u001b[39m \n\u001b[32m      6\u001b[39m \u001b[38;5;66;03m# # mean\u001b[39;00m\n\u001b[32m      7\u001b[39m \u001b[38;5;66;03m# complain from time\u001b[39;00m\n\u001b[32m      8\u001b[39m \u001b[38;5;28mprint\u001b[39m(pd.to_datetime(df[\u001b[33m\"\u001b[39m\u001b[33mCMPLNT_FR_TM\u001b[39m\u001b[33m\"\u001b[39m], \u001b[38;5;28mformat\u001b[39m=\u001b[33m\"\u001b[39m\u001b[33m%\u001b[39m\u001b[33mH:\u001b[39m\u001b[33m%\u001b[39m\u001b[33mM:\u001b[39m\u001b[33m%\u001b[39m\u001b[33mS\u001b[39m\u001b[33m\"\u001b[39m).dt.hour.mean())\n",
      "\u001b[31mNameError\u001b[39m: name 'df' is not defined"
     ]
    }
   ],
   "source": [
    "\n",
    "# jumlah data\n",
    "print(df.count())\n",
    "\n",
    "# fitur numerik\n",
    "\n",
    "# # mean\n",
    "# complain from time\n",
    "print(pd.to_datetime(df[\"CMPLNT_FR_TM\"], format=\"%H:%M:%S\").dt.hour.mean())\n",
    "print(pd.to_datetime(df[\"CMPLNT_FR_TM\"], format=\"%H:%M:%S\").dt.minute.mean())\n",
    "print(pd.to_datetime(df[\"CMPLNT_FR_TM\"], format=\"%H:%M:%S\").dt.second.mean())\n",
    "\n",
    "# complain from date\n",
    "print(pd.to_datetime(df[\"CMPLNT_FR_DT\"], format='%d/%m/%Y').dt.date.mean())\n",
    "print(pd.to_datetime(df[\"CMPLNT_FR_DT\"], format='%m/%d/%Y').dt.month.mean())\n",
    "print(pd.to_datetime(df[\"CMPLNT_FR_DT\"], format='%m/%d/%Y').dt.year.mean())\n",
    "\n",
    "# complain end time\n",
    "print(pd.to_datetime(df[\"CMPLNT_TO_TM\"], format=\"%H:%M:%S\").dt.hour.mean())\n",
    "print(pd.to_datetime(df[\"CMPLNT_TO_TM\"], format=\"%H:%M:%S\").dt.minute.mean())\n",
    "print(pd.to_datetime(df[\"CMPLNT_TO_TM\"], format=\"%H:%M:%S\").dt.second.mean())\n",
    "\n",
    "# complain end date\n",
    "print(pd.to_datetime(df[\"CMPLNT_TO_DT\"], format='%m/%d/%Y').dt.date.mean())\n",
    "print(pd.to_datetime(df[\"CMPLNT_TO_DT\"], format='%m/%d/%Y').dt.month.mean())\n",
    "print(pd.to_datetime(df[\"CMPLNT_TO_DT\"], format='%m/%d/%Y').dt.year.mean())\n",
    "\n",
    "# latitude\n",
    "print(df.Latitude.mean())\n",
    "\n",
    "# longitude\n",
    "print(df.Longitude.mean())\n",
    "\n",
    "# # standard deviation\n",
    "\n",
    "# complain from time\n",
    "print(pd.to_datetime(df[\"CMPLNT_FR_TM\"], format=\"%H:%M:%S\").dt.hour.std())\n",
    "print(pd.to_datetime(df[\"CMPLNT_FR_TM\"], format=\"%H:%M:%S\").dt.minute.std())\n",
    "print(pd.to_datetime(df[\"CMPLNT_FR_TM\"], format=\"%H:%M:%S\").dt.second.std())\n",
    "\n",
    "# complain from date\n",
    "print(pd.to_datetime(df[\"CMPLNT_FR_DT\"], format='%m/%d/%Y').dt.date.std())\n",
    "print(pd.to_datetime(df[\"CMPLNT_FR_DT\"], format='%m/%d/%Y').dt.month.std())\n",
    "print(pd.to_datetime(df[\"CMPLNT_FR_DT\"], format='%m/%d/%Y').dt.year.std())\n",
    "\n",
    "# complain end time\n",
    "print(pd.to_datetime(df[\"CMPLNT_TO_TM\"], format=\"%H:%M:%S\").dt.hour.std())\n",
    "print(pd.to_datetime(df[\"CMPLNT_TO_TM\"], format=\"%H:%M:%S\").dt.minute.std())\n",
    "print(pd.to_datetime(df[\"CMPLNT_TO_TM\"], format=\"%H:%M:%S\").dt.second.std())\n",
    "\n",
    "# complain end date\n",
    "print(pd.to_datetime(df[\"CMPLNT_TO_DT\"], format='%m/%d/%Y').dt.date.std())\n",
    "print(pd.to_datetime(df[\"CMPLNT_TO_DT\"], format='%m/%d/%Y').dt.month.std())\n",
    "print(pd.to_datetime(df[\"CMPLNT_TO_DT\"], format='%m/%d/%Y').dt.year.std())\n",
    "\n",
    "# latitude\n",
    "print(df.Latitude.std())\n",
    "\n",
    "# longitude\n",
    "print(df.Longitude.std())\n",
    "\n",
    "# # minimum\n",
    "\n",
    "# complain from time\n",
    "print(pd.to_datetime(df[\"CMPLNT_FR_TM\"], format=\"%H:%M:%S\").dt.hour.min())\n",
    "print(pd.to_datetime(df[\"CMPLNT_FR_TM\"], format=\"%H:%M:%S\").dt.minute.min())\n",
    "print(pd.to_datetime(df[\"CMPLNT_FR_TM\"], format=\"%H:%M:%S\").dt.second.min())\n",
    "\n",
    "# complain from date\n",
    "print(pd.to_datetime(df[\"CMPLNT_FR_DT\"], format='%m/%d/%Y').dt.date.min())\n",
    "print(pd.to_datetime(df[\"CMPLNT_FR_DT\"], format='%m/%d/%Y').dt.month.min())\n",
    "print(pd.to_datetime(df[\"CMPLNT_FR_DT\"], format='%m/%d/%Y').dt.year.min())\n",
    "\n",
    "# complain end time\n",
    "print(pd.to_datetime(df[\"CMPLNT_TO_TM\"], format=\"%H:%M:%S\").dt.hour.min())\n",
    "print(pd.to_datetime(df[\"CMPLNT_TO_TM\"], format=\"%H:%M:%S\").dt.minute.min())\n",
    "print(pd.to_datetime(df[\"CMPLNT_TO_TM\"], format=\"%H:%M:%S\").dt.second.min())\n",
    "\n",
    "# complain end date\n",
    "print(pd.to_datetime(df[\"CMPLNT_TO_DT\"], format='%m/%d/%Y').dt.date.min())\n",
    "print(pd.to_datetime(df[\"CMPLNT_TO_DT\"], format='%m/%d/%Y').dt.month.min())\n",
    "print(pd.to_datetime(df[\"CMPLNT_TO_DT\"], format='%m/%d/%Y').dt.year.min())\n",
    "\n",
    "# latitude\n",
    "print(df.Latitude.min())\n",
    "\n",
    "# longitude\n",
    "print(df.Longitude.min())\n",
    "\n",
    "# # max\n",
    "# complain from time\n",
    "print(pd.to_datetime(df[\"CMPLNT_FR_TM\"], format=\"%H:%M:%S\").dt.hour.max())\n",
    "print(pd.to_datetime(df[\"CMPLNT_FR_TM\"], format=\"%H:%M:%S\").dt.minute.max())\n",
    "print(pd.to_datetime(df[\"CMPLNT_FR_TM\"], format=\"%H:%M:%S\").dt.second.max())\n",
    "\n",
    "# complain from date\n",
    "print(pd.to_datetime(df[\"CMPLNT_FR_DT\"], format='%m/%d/%Y').dt.date.max())\n",
    "print(pd.to_datetime(df[\"CMPLNT_FR_DT\"], format='%m/%d/%Y').dt.month.max())\n",
    "print(pd.to_datetime(df[\"CMPLNT_FR_DT\"], format='%m/%d/%Y').dt.year.max())\n",
    "\n",
    "# complain end time\n",
    "print(pd.to_datetime(df[\"CMPLNT_TO_TM\"], format=\"%H:%M:%S\").dt.hour.max())\n",
    "print(pd.to_datetime(df[\"CMPLNT_TO_TM\"], format=\"%H:%M:%S\").dt.minute.max())\n",
    "print(pd.to_datetime(df[\"CMPLNT_TO_TM\"], format=\"%H:%M:%S\").dt.second.max())\n",
    "\n",
    "# complain end date\n",
    "print(pd.to_datetime(df[\"CMPLNT_TO_DT\"], format='%m/%d/%Y').dt.date.max())\n",
    "print(pd.to_datetime(df[\"CMPLNT_TO_DT\"], format='%m/%d/%Y').dt.month.max())\n",
    "print(pd.to_datetime(df[\"CMPLNT_TO_DT\"], format='%m/%d/%Y').dt.year.max())\n",
    "\n",
    "# latitude\n",
    "print(df.Latitude.max())\n",
    "\n",
    "# longitude\n",
    "print(df.Longitude.max())\n",
    "\n",
    "# # percentile 25, 50, 75\n",
    "# complain from time\n",
    "print(pd.to_datetime(df[\"CMPLNT_FR_TM\"], format=\"%H:%M:%S\").dt.hour.quantile([0.25, 0.5, 0.75]))\n",
    "print(pd.to_datetime(df[\"CMPLNT_FR_TM\"], format=\"%H:%M:%S\").dt.minute.quantile([0.25, 0.5, 0.75]))\n",
    "print(pd.to_datetime(df[\"CMPLNT_FR_TM\"], format=\"%H:%M:%S\").dt.second.quantile([0.25, 0.5, 0.75]))\n",
    "\n",
    "# complain from date\n",
    "print(pd.to_datetime(df[\"CMPLNT_FR_DT\"], format='%m/%d/%Y').dt.date.quantile([0.25, 0.5, 0.75]))\n",
    "print(pd.to_datetime(df[\"CMPLNT_FR_DT\"], format='%m/%d/%Y').dt.month.quantile([0.25, 0.5, 0.75]))\n",
    "print(pd.to_datetime(df[\"CMPLNT_FR_DT\"], format='%m/%d/%Y').dt.year.quantile([0.25, 0.5, 0.75]))\n",
    "\n",
    "# complain end time\n",
    "print(pd.to_datetime(df[\"CMPLNT_TO_TM\"], format=\"%H:%M:%S\").dt.hour.quantile([0.25, 0.5, 0.75]))\n",
    "print(pd.to_datetime(df[\"CMPLNT_TO_TM\"], format=\"%H:%M:%S\").dt.minute.quantile([0.25, 0.5, 0.75]))\n",
    "print(pd.to_datetime(df[\"CMPLNT_TO_TM\"], format=\"%H:%M:%S\").dt.second.quantile([0.25, 0.5, 0.75]))\n",
    "\n",
    "# complain end date\n",
    "print(pd.to_datetime(df[\"CMPLNT_TO_DT\"], format='%m/%d/%Y').dt.date.quantile([0.25, 0.5, 0.75]))\n",
    "print(pd.to_datetime(df[\"CMPLNT_TO_DT\"], format='%m/%d/%Y').dt.month.quantile([0.25, 0.5, 0.75]))\n",
    "print(pd.to_datetime(df[\"CMPLNT_TO_DT\"], format='%m/%d/%Y').dt.year.quantile([0.25, 0.5, 0.75]))\n",
    "\n",
    "# latitude\n",
    "print(df.Latitude.quantile([0.25, 0.5, 0.75]))\n",
    "\n",
    "# longitude\n",
    "print(df.Longitude.quantile([0.25, 0.5, 0.75]))\n",
    "\n",
    "# fitur kategorikal\n",
    "\n",
    "# unique values count\n",
    "print(df.KY_CD.unique())\n",
    "print(df.OFNS_DESC.unique())\n",
    "print(df.CRM_ATPT_CPTD_CD.unique())\n",
    "print(df.LAW_CAT_CD.unique())\n",
    "print(df.BORO_NM.unique())\n",
    "print(df.LOC_OF_OCCUR_DESC.unique())\n",
    "print(df.PREM_TYP_DESC.unique())\n",
    "print(df.JURIS_DESC.unique())\n",
    "print(df.SUSP_AGE_GROUP.unique())\n",
    "print(df.SUSP_RACE.unique())\n",
    "print(df.SUSP_SEX.unique())\n",
    "print(df.VIC_AGE_GROUP.unique())\n",
    "print(df.VIC_RACE.unique())\n",
    "print(df.VIC_SEX.unique())\n",
    "print(df.PATROL_BORO.unique())\n",
    "\n",
    "# data count per value_counts values\n",
    "print(df.KY_CD.value_counts())\n",
    "print(df.OFNS_DESC.value_counts())\n",
    "print(df.CRM_ATPT_CPTD_CD.value_counts())\n",
    "print(df.LAW_CAT_CD.value_counts())\n",
    "print(df.BORO_NM.value_counts())\n",
    "print(df.LOC_OF_OCCUR_DESC.value_counts())\n",
    "print(df.PREM_TYP_DESC.value_counts())\n",
    "print(df.JURIS_DESC.value_counts())\n",
    "print(df.SUSP_AGE_GROUP.value_counts())\n",
    "print(df.SUSP_RACE.value_counts())\n",
    "print(df.SUSP_SEX.value_counts())\n",
    "print(df.VIC_AGE_GROUP.value_counts())\n",
    "print(df.VIC_RACE.value_counts())\n",
    "print(df.VIC_SEX.value_counts())\n",
    "print(df.PATROL_BORO.value_counts())\n"
   ]
  },
  {
   "cell_type": "markdown",
   "id": "5f912633",
   "metadata": {},
   "source": [
    "# Data distribution check"
   ]
  },
  {
   "cell_type": "markdown",
   "id": "54d7c305",
   "metadata": {},
   "source": [
    "## Numeric"
   ]
  },
  {
   "cell_type": "code",
   "execution_count": null,
   "id": "49758a8e",
   "metadata": {},
   "outputs": [],
   "source": [
    "# complain from time\n",
    "sns.histplot(pd.to_datetime(df[\"CMPLNT_FR_TM\"], format=\"%H:%M:%S\",  errors=\"coerce\").dt.hour, bins=24, kde=True)\n",
    "plt.show()\n",
    "\n",
    "# Boxplot\n",
    "sns.boxplot(x=pd.to_datetime(df[\"CMPLNT_FR_TM\"], format=\"%H:%M:%S\",  errors=\"coerce\").dt.hour)\n",
    "plt.show()\n",
    " \n",
    "# complain from time\n",
    "sns.histplot(pd.to_datetime(df[\"CMPLNT_FR_TM\"], format=\"%H:%M:%S\",  errors=\"coerce\").dt.minute, bins=60, kde=True)\n",
    "plt.show()\n",
    "\n",
    "# Boxplot\n",
    "sns.boxplot(x=pd.to_datetime(df[\"CMPLNT_FR_TM\"], format=\"%H:%M:%S\", errors=\"coerce\").dt.minute)\n",
    "plt.show()\n",
    " \n",
    "# complain from time\n",
    "sns.histplot(pd.to_datetime(df[\"CMPLNT_FR_TM\"], format=\"%H:%M:%S\", errors=\"coerce\").dt.second, bins=60, kde=True)\n",
    "plt.show()\n",
    "\n",
    "# Boxplot\n",
    "sns.boxplot(x=pd.to_datetime(df[\"CMPLNT_FR_TM\"], format=\"%H:%M:%S\", errors=\"coerce\").dt.second)\n",
    "plt.show()\n",
    "\n",
    "# complain from time\n",
    "sns.histplot(pd.to_datetime(df[\"CMPLNT_TO_TM\"], format=\"%H:%M:%S\", errors=\"coerce\").dt.hour, bins=24, kde=True)\n",
    "plt.show()\n",
    "\n",
    "# Boxplot\n",
    "sns.boxplot(x=pd.to_datetime(df[\"CMPLNT_TO_TM\"], format=\"%H:%M:%S\", errors=\"coerce\").dt.hour)\n",
    "plt.show()\n",
    " \n",
    "# complain from time\n",
    "sns.histplot(pd.to_datetime(df[\"CMPLNT_TO_TM\"], format=\"%H:%M:%S\", errors=\"coerce\").dt.minute, bins=60, kde=True)\n",
    "plt.show()\n",
    "\n",
    "# Boxplot\n",
    "sns.boxplot(x=pd.to_datetime(df[\"CMPLNT_TO_TM\"], format=\"%H:%M:%S\", errors=\"coerce\").dt.minute)\n",
    "plt.show()\n",
    " \n",
    "# complain from time\n",
    "sns.histplot(pd.to_datetime(df[\"CMPLNT_TO_TM\"], format=\"%H:%M:%S\", errors=\"coerce\").dt.second, bins=60, kde=True)\n",
    "plt.show()\n",
    "\n",
    "# Boxplot\n",
    "sns.boxplot(x=pd.to_datetime(df[\"CMPLNT_TO_TM\"], format=\"%H:%M:%S\", errors=\"coerce\").dt.second)\n",
    "plt.show()\n",
    "\n",
    "# complain from time\n",
    "sns.histplot(pd.to_datetime(df[\"CMPLNT_TO_DT\"], format='%m/%d/%Y', errors=\"coerce\").dt.date, bins=30, kde=True)\n",
    "plt.show()\n",
    "\n",
    "# Boxplot\n",
    "sns.boxplot(x=pd.to_datetime(df[\"CMPLNT_TO_DT\"], format='%m/%d/%Y', errors=\"coerce\").dt.date)\n",
    "plt.show()\n",
    "\n",
    "# complain from time\n",
    "sns.histplot(pd.to_datetime(df[\"CMPLNT_TO_DT\"], format='%m/%d/%Y', errors=\"coerce\").dt.month, bins=12, kde=True)\n",
    "plt.show()\n",
    "\n",
    "# Boxplot\n",
    "sns.boxplot(x=pd.to_datetime(df[\"CMPLNT_TO_DT\"], format='%m/%d/%Y', errors=\"coerce\").dt.month)\n",
    "plt.show()\n",
    "\n",
    "# complain from time\n",
    "sns.histplot(pd.to_datetime(df[\"CMPLNT_TO_DT\"], format='%m/%d/%Y', errors=\"coerce\").dt.year, bins=6, kde=True)\n",
    "plt.show()\n",
    "\n",
    "# Boxplot\n",
    "sns.boxplot(x=pd.to_datetime(df[\"CMPLNT_TO_DT\"], format='%m/%d/%Y', errors=\"coerce\").dt.year)\n",
    "plt.show()\n",
    "\n",
    "# complain from time\n",
    "sns.histplot(pd.to_datetime(df[\"CMPLNT_FR_DT\"], format='%m/%d/%Y', errors=\"coerce\").dt.date, bins=30, kde=True)\n",
    "plt.show()\n",
    "\n",
    "# Boxplot\n",
    "sns.boxplot(x=pd.to_datetime(df[\"CMPLNT_FR_DT\"], format='%m/%d/%Y',  errors=\"coerce\").dt.date)\n",
    "plt.show()\n",
    "\n",
    "# complain from time\n",
    "sns.histplot(pd.to_datetime(df[\"CMPLNT_FR_DT\"], format='%m/%d/%Y', errors=\"coerce\").dt.month, bins=12, kde=True)\n",
    "plt.show()\n",
    "\n",
    "# Boxplot\n",
    "sns.boxplot(x=pd.to_datetime(df[\"CMPLNT_FR_DT\"], format='%m/%d/%Y', errors=\"coerce\").dt.month)\n",
    "plt.show()\n",
    "\n",
    "# complain from time\n",
    "sns.histplot(pd.to_datetime(df[\"CMPLNT_FR_DT\"], format='%m/%d/%Y', errors=\"coerce\").dt.year, bins=6, kde=True)\n",
    "plt.show()\n",
    "\n",
    "# Boxplot\n",
    "sns.boxplot(x=pd.to_datetime(df[\"CMPLNT_FR_DT\"], format='%m/%d/%Y', errors=\"coerce\").dt.year)\n",
    "plt.show()\n",
    "\n",
    "# complain from time\n",
    "sns.histplot(df[\"Latitude\"], bins=180, kde=True)\n",
    "plt.show()\n",
    "\n",
    "# Boxplot\n",
    "sns.boxplot(x=df.Latitude)\n",
    "plt.show()\n",
    "\n",
    "# complain from time\n",
    "sns.histplot(df.Longitude, bins=180, kde=True)\n",
    "plt.show()\n",
    "\n",
    "# Boxplot\n",
    "sns.boxplot(x=df.Longitude)\n",
    "plt.show()\n"
   ]
  },
  {
   "cell_type": "markdown",
   "id": "ead9ec87",
   "metadata": {},
   "source": [
    "## Categorical"
   ]
  },
  {
   "cell_type": "code",
   "execution_count": null,
   "id": "b6ba43cf",
   "metadata": {},
   "outputs": [],
   "source": [
    "# Percentage distribution\n",
    "print(df['KY_CD'].value_counts(normalize=True) * 100)\n",
    "\n",
    "# Bar chart\n",
    "sns.countplot(x='KY_CD', data=df, order=df['KY_CD'].value_counts().index)\n",
    "plt.xticks(rotation=90)  # rotate labels if too many categories\n",
    "plt.show()\n",
    "\n",
    "# Percentage distribution\n",
    "print(df['OFNS_DESC'].value_counts(normalize=True) * 100)\n",
    "\n",
    "# Bar chart\n",
    "sns.countplot(x='OFNS_DESC', data=df, order=df['OFNS_DESC'].value_counts().index)\n",
    "plt.xticks(rotation=90)  # rotate labels if too many categories\n",
    "plt.show()\n",
    "\n",
    "# Percentage distribution\n",
    "print(df['CRM_ATPT_CPTD_CD'].value_counts(normalize=True) * 100)\n",
    "\n",
    "# Bar chart\n",
    "sns.countplot(x='CRM_ATPT_CPTD_CD', data=df, order=df['CRM_ATPT_CPTD_CD'].value_counts().index)\n",
    "plt.xticks(rotation=90)  # rotate labels if too many categories\n",
    "plt.show()\n",
    "\n",
    "# Percentage distribution\n",
    "print(df['LAW_CAT_CD'].value_counts(normalize=True) * 100)\n",
    "\n",
    "# Bar chart\n",
    "sns.countplot(x='LAW_CAT_CD', data=df, order=df['LAW_CAT_CD'].value_counts().index)\n",
    "plt.xticks(rotation=90)  # rotate labels if too many categories\n",
    "plt.show()\n",
    "\n",
    "# Percentage distribution\n",
    "print(df['BORO_NM'].value_counts(normalize=True) * 100)\n",
    "\n",
    "# Bar chart\n",
    "sns.countplot(x='BORO_NM', data=df, order=df['BORO_NM'].value_counts().index)\n",
    "plt.xticks(rotation=90)  # rotate labels if too many categories\n",
    "plt.show()\n",
    "\n",
    "# Percentage distribution\n",
    "print(df['LOC_OF_OCCUR_DESC'].value_counts(normalize=True) * 100)\n",
    "\n",
    "# Bar chart\n",
    "sns.countplot(x='LOC_OF_OCCUR_DESC', data=df, order=df['LOC_OF_OCCUR_DESC'].value_counts().index)\n",
    "plt.xticks(rotation=90)  # rotate labels if too many categories\n",
    "plt.show()\n",
    "\n",
    "# Percentage distribution\n",
    "print(df['PREM_TYP_DESC'].value_counts(normalize=True) * 100)\n",
    "\n",
    "# Bar chart\n",
    "sns.countplot(x='PREM_TYP_DESC', data=df, order=df['PREM_TYP_DESC'].value_counts().index)\n",
    "plt.xticks(rotation=90)  # rotate labels if too many categories\n",
    "plt.show()\n",
    "\n",
    "# Percentage distribution\n",
    "print(df['JURIS_DESC'].value_counts(normalize=True) * 100)\n",
    "\n",
    "# Bar chart\n",
    "sns.countplot(x='JURIS_DESC', data=df, order=df['JURIS_DESC'].value_counts().index)\n",
    "plt.xticks(rotation=90)  # rotate labels if too many categories\n",
    "plt.show()\n",
    "\n",
    "# Percentage distribution\n",
    "print(df['SUSP_AGE_GROUP'].value_counts(normalize=True) * 100)\n",
    "\n",
    "# Bar chart\n",
    "sns.countplot(x='SUSP_AGE_GROUP', data=df, order=df['SUSP_AGE_GROUP'].value_counts().index)\n",
    "plt.xticks(rotation=90)  # rotate labels if too many categories\n",
    "plt.show()\n",
    "\n",
    "# Percentage distribution\n",
    "print(df['SUSP_RACE'].value_counts(normalize=True) * 100)\n",
    "\n",
    "# Bar chart\n",
    "sns.countplot(x='SUSP_RACE', data=df, order=df['SUSP_RACE'].value_counts().index)\n",
    "plt.xticks(rotation=90)  # rotate labels if too many categories\n",
    "plt.show()\n",
    "\n",
    "# Percentage distribution\n",
    "print(df['SUSP_SEX'].value_counts(normalize=True) * 100)\n",
    "\n",
    "# Bar chart\n",
    "sns.countplot(x='SUSP_SEX', data=df, order=df['SUSP_SEX'].value_counts().index)\n",
    "plt.xticks(rotation=90)  # rotate labels if too many categories\n",
    "plt.show()\n",
    "\n",
    "# Percentage distribution\n",
    "print(df['VIC_AGE_GROUP'].value_counts(normalize=True) * 100)\n",
    "\n",
    "# Bar chart\n",
    "sns.countplot(x='VIC_AGE_GROUP', data=df, order=df['VIC_AGE_GROUP'].value_counts().index)\n",
    "plt.xticks(rotation=90)  # rotate labels if too many categories\n",
    "plt.show()\n",
    "\n",
    "# Percentage distribution\n",
    "print(df['VIC_RACE'].value_counts(normalize=True) * 100)\n",
    "\n",
    "# Bar chart\n",
    "sns.countplot(x='VIC_RACE', data=df, order=df['VIC_RACE'].value_counts().index)\n",
    "plt.xticks(rotation=90)  # rotate labels if too many categories\n",
    "plt.show()\n",
    "\n",
    "# Percentage distribution\n",
    "print(df['VIC_SEX'].value_counts(normalize=True) * 100)\n",
    "\n",
    "# Bar chart\n",
    "sns.countplot(x='VIC_SEX', data=df, order=df['VIC_SEX'].value_counts().index)\n",
    "plt.xticks(rotation=90)  # rotate labels if too many categories\n",
    "plt.show()\n",
    "\n",
    "# Percentage distribution\n",
    "print(df['PATROL_BORO'].value_counts(normalize=True) * 100)\n",
    "\n",
    "# Bar chart\n",
    "sns.countplot(x='PATROL_BORO', data=df, order=df['PATROL_BORO'].value_counts().index)\n",
    "plt.xticks(rotation=90)  # rotate labels if too many categories\n",
    "plt.show()"
   ]
  },
  {
   "cell_type": "markdown",
   "id": "0cd69b8f",
   "metadata": {},
   "source": [
    "# Outlier Check (Z-value check)"
   ]
  },
  {
   "cell_type": "markdown",
   "id": "eacc43ef",
   "metadata": {},
   "source": [
    "## Numerical"
   ]
  },
  {
   "cell_type": "markdown",
   "id": "cc0a87dc",
   "metadata": {},
   "source": [
    "### CMPLNT_FR_DT"
   ]
  },
  {
   "cell_type": "code",
   "execution_count": null,
   "id": "a4a45494",
   "metadata": {},
   "outputs": [],
   "source": [
    "mean = pd.to_datetime(df[\"CMPLNT_FR_DT\"], format='%m/%d/%Y', errors='coerce').dt.year.mean()\n",
    "std = pd.to_datetime(df[\"CMPLNT_FR_DT\"], format='%m/%d/%Y', errors='coerce').dt.year.std()\n",
    "\n",
    "z_score = (pd.to_datetime(df[\"CMPLNT_FR_DT\"], format='%m/%d/%Y', errors='coerce').dt.year - mean) / std\n",
    "outliers = df[z_score.abs() > 3]\n",
    "print(f\"Outliers count {len(outliers)}\")\n",
    "\n",
    "mean = pd.to_datetime(df[\"CMPLNT_FR_DT\"], format='%m/%d/%Y', errors='coerce').dt.month.mean()\n",
    "std = pd.to_datetime(df[\"CMPLNT_FR_DT\"], format='%m/%d/%Y', errors='coerce').dt.month.std()\n",
    "\n",
    "z_score = (pd.to_datetime(df[\"CMPLNT_FR_DT\"], format='%m/%d/%Y', errors='coerce').dt.month - mean) / std\n",
    "outliers = df[z_score.abs() > 3]\n",
    "print(f\"Outliers count {len(outliers)}\")\n",
    "\n",
    "mean = pd.to_datetime(df[\"CMPLNT_FR_DT\"], format='%m/%d/%Y', errors='coerce').dt.date.mean()\n",
    "std = pd.to_datetime(df[\"CMPLNT_FR_DT\"], format='%m/%d/%Y', errors='coerce').dt.date.std()\n",
    "\n",
    "z_score = (pd.to_datetime(df[\"CMPLNT_FR_DT\"], format='%m/%d/%Y', errors='coerce').dt.date - mean) / std\n",
    "outliers = df[z_score.abs() > 3]\n",
    "print(f\"Outliers count {len(outliers)}\")"
   ]
  },
  {
   "cell_type": "markdown",
   "id": "2ce8e901",
   "metadata": {},
   "source": [
    "### CMPLNT_TO_DT"
   ]
  },
  {
   "cell_type": "code",
   "execution_count": null,
   "id": "bac35693",
   "metadata": {},
   "outputs": [],
   "source": [
    "mean = pd.to_datetime(df[\"CMPLNT_TO_DT\"], format='%m/%d/%Y', errors='coerce').dt.year.mean()\n",
    "std = pd.to_datetime(df[\"CMPLNT_TO_DT\"], format='%m/%d/%Y', errors='coerce').dt.year.std()\n",
    "\n",
    "z_score = (pd.to_datetime(df[\"CMPLNT_TO_DT\"], format='%m/%d/%Y', errors='coerce').dt.year - mean) / std\n",
    "outliers = df[z_score.abs() > 3]\n",
    "print(f\"Outliers count {len(outliers)}\")\n",
    "\n",
    "mean = pd.to_datetime(df[\"CMPLNT_TO_DT\"], format='%m/%d/%Y', errors='coerce').dt.month.mean()\n",
    "std = pd.to_datetime(df[\"CMPLNT_TO_DT\"], format='%m/%d/%Y', errors='coerce').dt.month.std()\n",
    "\n",
    "z_score = (pd.to_datetime(df[\"CMPLNT_TO_DT\"], format='%m/%d/%Y', errors='coerce').dt.month - mean) / std\n",
    "outliers = df[z_score.abs() > 3]\n",
    "print(f\"Outliers count {len(outliers)}\")\n",
    "\n",
    "mean = pd.to_datetime(df[\"CMPLNT_TO_DT\"], format='%m/%d/%Y', errors='coerce').dt.date.mean()\n",
    "std = pd.to_datetime(df[\"CMPLNT_TO_DT\"], format='%m/%d/%Y', errors='coerce').dt.date.std()\n",
    "\n",
    "z_score = (pd.to_datetime(df[\"CMPLNT_TO_DT\"], format='%m/%d/%Y', errors='coerce').dt.date - mean) / std\n",
    "outliers = df[z_score.abs() > 3]\n",
    "print(f\"Outliers count {len(outliers)}\")\n"
   ]
  },
  {
   "cell_type": "markdown",
   "id": "6de1787f",
   "metadata": {},
   "source": [
    "### CMPLNT_FR_TM"
   ]
  },
  {
   "cell_type": "code",
   "execution_count": null,
   "id": "741aab28",
   "metadata": {},
   "outputs": [],
   "source": [
    "mean = pd.to_datetime(df[\"CMPLNT_FR_TM\"], format='%H:%M:%S', errors='coerce').dt.hour.mean()\n",
    "std = pd.to_datetime(df[\"CMPLNT_FR_TM\"], format='%H:%M:%S', errors='coerce').dt.hour.std()\n",
    "\n",
    "z_score = (pd.to_datetime(df[\"CMPLNT_FR_TM\"], format='%H:%M:%S', errors='coerce').dt.hour - mean) / std\n",
    "outliers = df[z_score.abs() > 3]\n",
    "print(f\"Outliers count {len(outliers)}\")\n",
    "\n",
    "mean = pd.to_datetime(df[\"CMPLNT_FR_TM\"], format='%H:%M:%S', errors='coerce').dt.minute.mean()\n",
    "std = pd.to_datetime(df[\"CMPLNT_FR_TM\"], format='%H:%M:%S', errors='coerce').dt.minute.std()\n",
    "\n",
    "z_score = (pd.to_datetime(df[\"CMPLNT_FR_TM\"], format='%H:%M:%S', errors='coerce').dt.minute - mean) / std\n",
    "outliers = df[z_score.abs() > 3]\n",
    "print(f\"Outliers count {len(outliers)}\")\n",
    "\n",
    "mean = pd.to_datetime(df[\"CMPLNT_FR_TM\"], format='%H:%M:%S', errors='coerce').dt.second.mean()\n",
    "std = pd.to_datetime(df[\"CMPLNT_FR_TM\"], format='%H:%M:%S', errors='coerce').dt.second.std()\n",
    "\n",
    "z_score = (pd.to_datetime(df[\"CMPLNT_FR_TM\"], format='%H:%M:%S', errors='coerce').dt.second - mean) / std\n",
    "outliers = df[z_score.abs() > 3]\n",
    "print(f\"Outliers count {len(outliers)}\")\n",
    "\n"
   ]
  },
  {
   "cell_type": "markdown",
   "id": "fe70aa76",
   "metadata": {},
   "source": [
    "### CMPLNT_TO_TM"
   ]
  },
  {
   "cell_type": "code",
   "execution_count": null,
   "id": "43fe0dcd",
   "metadata": {},
   "outputs": [],
   "source": [
    "mean = pd.to_datetime(df[\"CMPLNT_TO_TM\"], format='%H:%M:%S', errors='coerce').dt.hour.mean()\n",
    "std = pd.to_datetime(df[\"CMPLNT_TO_TM\"], format='%H:%M:%S', errors='coerce').dt.hour.std()\n",
    "\n",
    "z_score = (pd.to_datetime(df[\"CMPLNT_TO_TM\"], format='%H:%M:%S', errors='coerce').dt.hour - mean) / std\n",
    "outliers = df[z_score.abs() > 3]\n",
    "print(f\"Outliers count {len(outliers)}\")\n",
    "\n",
    "mean = pd.to_datetime(df[\"CMPLNT_TO_TM\"], format='%H:%M:%S', errors='coerce').dt.minute.mean()\n",
    "std = pd.to_datetime(df[\"CMPLNT_TO_TM\"], format='%H:%M:%S', errors='coerce').dt.minute.std()\n",
    "\n",
    "z_score = (pd.to_datetime(df[\"CMPLNT_TO_TM\"], format='%H:%M:%S', errors='coerce').dt.minute - mean) / std\n",
    "outliers = df[z_score.abs() > 3]\n",
    "print(f\"Outliers count {len(outliers)}\")\n",
    "\n",
    "mean = pd.to_datetime(df[\"CMPLNT_TO_TM\"], format='%H:%M:%S', errors='coerce').dt.second.mean()\n",
    "std = pd.to_datetime(df[\"CMPLNT_TO_TM\"], format='%H:%M:%S', errors='coerce').dt.second.std()\n",
    "\n",
    "z_score = (pd.to_datetime(df[\"CMPLNT_TO_TM\"], format='%H:%M:%S', errors='coerce').dt.second - mean) / std\n",
    "outliers = df[z_score.abs() > 3]\n",
    "print(f\"Outliers count {len(outliers)}\")\n"
   ]
  },
  {
   "cell_type": "markdown",
   "id": "490be8e7",
   "metadata": {},
   "source": [
    "### Longitude"
   ]
  },
  {
   "cell_type": "code",
   "execution_count": null,
   "id": "3f797e73",
   "metadata": {},
   "outputs": [],
   "source": [
    "mean = df[\"Latitude\"].mean()\n",
    "std = df[\"Latitude\"].std()\n",
    "\n",
    "z_score = (df.Latitude - mean) / std\n",
    "outliers = df[z_score.abs() > 3]\n",
    "print(f\"Outliers count {len(outliers)}\")\n"
   ]
  },
  {
   "cell_type": "markdown",
   "id": "11d8a3ac",
   "metadata": {},
   "source": [
    "### Latitude"
   ]
  },
  {
   "cell_type": "code",
   "execution_count": null,
   "id": "94fc200a",
   "metadata": {},
   "outputs": [],
   "source": [
    "mean = df[\"Latitude\"].mean()\n",
    "std = df[\"Latitude\"].std()\n",
    "\n",
    "z_score = (df.Latitude - mean) / std\n",
    "outliers = df[z_score.abs() > 3]\n",
    "print(f\"Outliers count {len(outliers)}\")"
   ]
  },
  {
   "cell_type": "markdown",
   "id": "528168ae",
   "metadata": {},
   "source": [
    "## Categorical (Finding category with the fewest count)"
   ]
  },
  {
   "cell_type": "markdown",
   "id": "8137137c",
   "metadata": {},
   "source": [
    "### KY_CD"
   ]
  },
  {
   "cell_type": "code",
   "execution_count": null,
   "id": "9eb830fa",
   "metadata": {},
   "outputs": [],
   "source": [
    "freq = df[\"KY_CD\"].value_counts()\n",
    "rare_categories = freq[freq < 10].index  # e.g. categories with < 10 occurrences\n",
    "outliers = df[df[\"KY_CD\"].isin(rare_categories)]\n",
    "print(outliers)\n",
    "print(f\"Outliers count : {outliers.__len__()}\")\n"
   ]
  },
  {
   "cell_type": "markdown",
   "id": "10563a97",
   "metadata": {},
   "source": [
    "### OFNS_DESC"
   ]
  },
  {
   "cell_type": "code",
   "execution_count": null,
   "id": "2564044e",
   "metadata": {},
   "outputs": [],
   "source": [
    "freq = df[\"OFNS_DESC\"].value_counts()\n",
    "rare_categories = freq[freq < 10].index  \n",
    "outliers = df[df[\"OFNS_DESC\"].isin(rare_categories)]\n",
    "print(outliers)\n",
    "print(f\"Outliers count : {outliers.__len__()}\")\n"
   ]
  },
  {
   "cell_type": "markdown",
   "id": "055a4665",
   "metadata": {},
   "source": [
    "### CRM_ATPT_CPTD_CD"
   ]
  },
  {
   "cell_type": "code",
   "execution_count": null,
   "id": "12e25462",
   "metadata": {},
   "outputs": [],
   "source": [
    "freq = df[\"CRM_ATPT_CPTD_CD\"].value_counts()\n",
    "rare_categories = freq[freq < 10].index  # e.g. categories with < 10 occurrences\n",
    "outliers = df[df[\"CRM_ATPT_CPTD_CD\"].isin(rare_categories)]\n",
    "print(outliers)\n",
    "print(f\"Outliers count : {outliers.__len__()}\")\n"
   ]
  },
  {
   "cell_type": "markdown",
   "id": "27cc3895",
   "metadata": {},
   "source": [
    "### LAW_CAT_CD"
   ]
  },
  {
   "cell_type": "code",
   "execution_count": null,
   "id": "ed00e3d7",
   "metadata": {},
   "outputs": [],
   "source": [
    "freq = df[\"LAW_CAT_CD\"].value_counts()\n",
    "rare_categories = freq[freq < 10].index  # e.g. categories with < 10 occurrences\n",
    "outliers = df[df[\"LAW_CAT_CD\"].isin(rare_categories)]\n",
    "print(outliers)\n",
    "print(f\"Outliers count : {outliers.__len__()}\")\n"
   ]
  },
  {
   "cell_type": "markdown",
   "id": "b754d784",
   "metadata": {},
   "source": [
    "### BORO_NM"
   ]
  },
  {
   "cell_type": "code",
   "execution_count": null,
   "id": "9381c93e",
   "metadata": {},
   "outputs": [],
   "source": [
    "freq = df[\"BORO_NM\"].value_counts()\n",
    "rare_categories = freq[freq < 10].index  # e.g. categories with < 10 occurrences\n",
    "outliers = df[df[\"BORO_NM\"].isin(rare_categories)]\n",
    "print(outliers)\n",
    "print(f\"Outliers count : {outliers.__len__()}\")\n"
   ]
  },
  {
   "cell_type": "markdown",
   "id": "42b8bbaa",
   "metadata": {},
   "source": [
    "### LOC_OF_OCCUR_DESC"
   ]
  },
  {
   "cell_type": "code",
   "execution_count": null,
   "id": "165245c0",
   "metadata": {},
   "outputs": [],
   "source": [
    "freq = df[\"LOC_OF_OCCUR_DESC\"].value_counts()\n",
    "rare_categories = freq[freq < 10].index  # e.g. categories with < 10 occurrences\n",
    "outliers = df[df[\"LOC_OF_OCCUR_DESC\"].isin(rare_categories)]\n",
    "print(outliers)\n",
    "print(f\"Outliers count : {outliers.__len__()}\")\n"
   ]
  },
  {
   "cell_type": "markdown",
   "id": "92abf78a",
   "metadata": {},
   "source": [
    "### PREM_TYP_DESC"
   ]
  },
  {
   "cell_type": "code",
   "execution_count": null,
   "id": "fbb6f067",
   "metadata": {},
   "outputs": [],
   "source": [
    "freq = df[\"PREM_TYP_DESC\"].value_counts()\n",
    "rare_categories = freq[freq < 10].index  # e.g. categories with < 10 occurrences\n",
    "outliers = df[df[\"PREM_TYP_DESC\"].isin(rare_categories)]\n",
    "print(outliers)\n",
    "print(f\"Outliers count : {outliers.__len__()}\")\n"
   ]
  },
  {
   "cell_type": "markdown",
   "id": "b1227515",
   "metadata": {},
   "source": [
    "### JURIS_DESC"
   ]
  },
  {
   "cell_type": "code",
   "execution_count": null,
   "id": "bbd07071",
   "metadata": {},
   "outputs": [],
   "source": [
    "freq = df[\"JURIS_DESC\"].value_counts()\n",
    "rare_categories = freq[freq < 10].index  # e.g. categories with < 10 occurrences\n",
    "outliers = df[df[\"JURIS_DESC\"].isin(rare_categories)]\n",
    "print(outliers)\n",
    "print(f\"Outliers count : {outliers.__len__()}\")\n"
   ]
  },
  {
   "cell_type": "markdown",
   "id": "c396b22b",
   "metadata": {},
   "source": [
    "### SUSP_AGE_GROUP"
   ]
  },
  {
   "cell_type": "code",
   "execution_count": null,
   "id": "8d7956ff",
   "metadata": {},
   "outputs": [],
   "source": [
    "freq = df[\"SUSP_AGE_GROUP\"].value_counts()\n",
    "rare_categories = freq[freq < 10].index  # e.g. categories with < 10 occurrences\n",
    "outliers = df[df[\"SUSP_AGE_GROUP\"].isin(rare_categories)]\n",
    "print(outliers)\n",
    "print(f\"Outliers count : {outliers.__len__()}\")\n"
   ]
  },
  {
   "cell_type": "markdown",
   "id": "26ea43e5",
   "metadata": {},
   "source": [
    "### SUSP_RACE"
   ]
  },
  {
   "cell_type": "code",
   "execution_count": null,
   "id": "8755a2b0",
   "metadata": {},
   "outputs": [],
   "source": [
    "freq = df[\"SUSP_RACE\"].value_counts()\n",
    "rare_categories = freq[freq < 10].index  # e.g. categories with < 10 occurrences\n",
    "outliers = df[df[\"SUSP_RACE\"].isin(rare_categories)]\n",
    "print(outliers)\n",
    "print(f\"Outliers count : {outliers.__len__()}\")\n"
   ]
  },
  {
   "cell_type": "markdown",
   "id": "52382e35",
   "metadata": {},
   "source": [
    "### SUSP_SEX"
   ]
  },
  {
   "cell_type": "code",
   "execution_count": null,
   "id": "7bcc2373",
   "metadata": {},
   "outputs": [],
   "source": [
    "freq = df[\"SUSP_SEX\"].value_counts()\n",
    "rare_categories = freq[freq < 10].index  # e.g. categories with < 10 occurrences\n",
    "outliers = df[df[\"SUSP_SEX\"].isin(rare_categories)]\n",
    "print(outliers)\n",
    "print(f\"Outliers count : {outliers.__len__()}\")\n"
   ]
  },
  {
   "cell_type": "markdown",
   "id": "34f6f8bb",
   "metadata": {},
   "source": [
    "### VIC_AGE_GROUP"
   ]
  },
  {
   "cell_type": "code",
   "execution_count": null,
   "id": "e9549d95",
   "metadata": {},
   "outputs": [],
   "source": [
    "freq = df[\"VIC_AGE_GROUP\"].value_counts()\n",
    "rare_categories = freq[freq < 10].index  # e.g. categories with < 10 occurrences\n",
    "outliers = df[df[\"VIC_AGE_GROUP\"].isin(rare_categories)]\n",
    "print(outliers)\n",
    "print(f\"Outliers count : {outliers.__len__()}\")\n"
   ]
  },
  {
   "cell_type": "markdown",
   "id": "c45617a8",
   "metadata": {},
   "source": [
    "### VIC_SEX"
   ]
  },
  {
   "cell_type": "code",
   "execution_count": 49,
   "id": "ffbbed0f",
   "metadata": {},
   "outputs": [
    {
     "name": "stdout",
     "output_type": "stream",
     "text": [
      "        CMPLNT_NUM CMPLNT_FR_DT CMPLNT_FR_TM CMPLNT_TO_DT CMPLNT_TO_TM  \\\n",
      "2402423  211908079   04/10/2020     00:01:00          NaN       (null)   \n",
      "\n",
      "             RPT_DT  KY_CD      OFNS_DESC CRM_ATPT_CPTD_CD LAW_CAT_CD  ...  \\\n",
      "2402423  04/10/2020    578  HARRASSMENT 2        COMPLETED  VIOLATION  ...   \n",
      "\n",
      "               JURIS_DESC SUSP_AGE_GROUP SUSP_RACE SUSP_SEX   Latitude  \\\n",
      "2402423  N.Y. POLICE DEPT         (null)    (null)   (null)  40.707439   \n",
      "\n",
      "         Longitude               PATROL_BORO  VIC_AGE_GROUP  VIC_RACE VIC_SEX  \n",
      "2402423 -73.792139  PATROL BORO QUEENS SOUTH         (null)    (null)  (null)  \n",
      "\n",
      "[1 rows x 23 columns]\n",
      "Outliers count : 1\n"
     ]
    }
   ],
   "source": [
    "freq = df[\"VIC_SEX\"].value_counts()\n",
    "rare_categories = freq[freq < 10].index  # e.g. categories with < 10 occurrences\n",
    "outliers = df[df[\"VIC_SEX\"].isin(rare_categories)]\n",
    "print(outliers)\n",
    "print(f\"Outliers count : {outliers.__len__()}\")\n"
   ]
  },
  {
   "cell_type": "markdown",
   "id": "e9dc89fc",
   "metadata": {},
   "source": [
    "### VIC_RACE"
   ]
  },
  {
   "cell_type": "code",
   "execution_count": 48,
   "id": "70534079",
   "metadata": {},
   "outputs": [
    {
     "name": "stdout",
     "output_type": "stream",
     "text": [
      "Empty DataFrame\n",
      "Columns: [CMPLNT_NUM, CMPLNT_FR_DT, CMPLNT_FR_TM, CMPLNT_TO_DT, CMPLNT_TO_TM, RPT_DT, KY_CD, OFNS_DESC, CRM_ATPT_CPTD_CD, LAW_CAT_CD, BORO_NM, LOC_OF_OCCUR_DESC, PREM_TYP_DESC, JURIS_DESC, SUSP_AGE_GROUP, SUSP_RACE, SUSP_SEX, Latitude, Longitude, PATROL_BORO, VIC_AGE_GROUP, VIC_RACE, VIC_SEX]\n",
      "Index: []\n",
      "\n",
      "[0 rows x 23 columns]\n",
      "Outliers count : 0\n"
     ]
    }
   ],
   "source": [
    "freq = df[\"VIC_RACE\"].value_counts()\n",
    "rare_categories = freq[freq < 10].index  # e.g. categories with < 10 occurrences\n",
    "outliers = df[df[\"VIC_RACE\"].isin(rare_categories)]\n",
    "print(outliers)\n",
    "print(f\"Outliers count : {outliers.__len__()}\")\n"
   ]
  },
  {
   "cell_type": "markdown",
   "id": "afcb6c7b",
   "metadata": {},
   "source": [
    "### PATROL_BORO"
   ]
  },
  {
   "cell_type": "code",
   "execution_count": 47,
   "id": "dfa4d4d8",
   "metadata": {},
   "outputs": [
    {
     "name": "stdout",
     "output_type": "stream",
     "text": [
      "Empty DataFrame\n",
      "Columns: [CMPLNT_NUM, CMPLNT_FR_DT, CMPLNT_FR_TM, CMPLNT_TO_DT, CMPLNT_TO_TM, RPT_DT, KY_CD, OFNS_DESC, CRM_ATPT_CPTD_CD, LAW_CAT_CD, BORO_NM, LOC_OF_OCCUR_DESC, PREM_TYP_DESC, JURIS_DESC, SUSP_AGE_GROUP, SUSP_RACE, SUSP_SEX, Latitude, Longitude, PATROL_BORO, VIC_AGE_GROUP, VIC_RACE, VIC_SEX]\n",
      "Index: []\n",
      "\n",
      "[0 rows x 23 columns]\n",
      "Outliers count : 0\n"
     ]
    }
   ],
   "source": [
    "freq = df[\"PATROL_BORO\"].value_counts()\n",
    "rare_categories = freq[freq < 10].index  # e.g. categories with < 10 occurrences\n",
    "outliers = df[df[\"PATROL_BORO\"].isin(rare_categories)]\n",
    "print(outliers)\n",
    "print(f\"Outliers count : {outliers.__len__()}\")\n"
   ]
  }
 ],
 "metadata": {
  "kernelspec": {
   "display_name": ".venv",
   "language": "python",
   "name": "python3"
  },
  "language_info": {
   "codemirror_mode": {
    "name": "ipython",
    "version": 3
   },
   "file_extension": ".py",
   "mimetype": "text/x-python",
   "name": "python",
   "nbconvert_exporter": "python",
   "pygments_lexer": "ipython3",
   "version": "3.13.3"
  }
 },
 "nbformat": 4,
 "nbformat_minor": 5
}
