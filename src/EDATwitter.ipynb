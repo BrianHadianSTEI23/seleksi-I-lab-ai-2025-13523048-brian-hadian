{
 "cells": [
  {
   "cell_type": "markdown",
   "id": "aca6887b",
   "metadata": {},
   "source": [
    "# Exporatory Data Analysis"
   ]
  },
  {
   "cell_type": "markdown",
   "id": "d45f1ab6",
   "metadata": {},
   "source": [
    "## Data Type : Categorical"
   ]
  },
  {
   "cell_type": "code",
   "execution_count": null,
   "id": "115528cb",
   "metadata": {},
   "outputs": [],
   "source": [
    "# init\n",
    "import pandas as pd\n",
    "import seaborn as sns\n",
    "import matplotlib.pyplot as plt\n",
    "\n",
    "twitter_file = \"../data/Twitter_Emotion_Dataset.csv\"\n",
    "dictionary_file = \"../data/kamus_singkatan.csv\"\n",
    "\n",
    "twitter = pd.read_csv(twitter_file)\n",
    "dictionary = pd.read_csv(dictionary_file, sep=';')"
   ]
  },
  {
   "cell_type": "markdown",
   "id": "52b51331",
   "metadata": {},
   "source": [
    "### Row count"
   ]
  },
  {
   "cell_type": "code",
   "execution_count": null,
   "id": "ad9c8a7f",
   "metadata": {},
   "outputs": [],
   "source": [
    "print(twitter.count())\n",
    "print(dictionary.count())"
   ]
  },
  {
   "cell_type": "markdown",
   "id": "295d2328",
   "metadata": {},
   "source": [
    "### Unique value counts"
   ]
  },
  {
   "cell_type": "code",
   "execution_count": null,
   "id": "dfd15c65",
   "metadata": {},
   "outputs": [],
   "source": [
    "print(twitter[\"label\"].value_counts())\n",
    "print(dictionary[\"translation\"].value_counts())"
   ]
  },
  {
   "cell_type": "markdown",
   "id": "47c5df2d",
   "metadata": {},
   "source": [
    "### Distribution Check"
   ]
  },
  {
   "cell_type": "code",
   "execution_count": null,
   "id": "3c38d783",
   "metadata": {},
   "outputs": [],
   "source": [
    "# Percentage distribution\n",
    "print(twitter['label'].value_counts(normalize=True) * 100)\n",
    "\n",
    "# Bar chart\n",
    "sns.countplot(x='label', data=twitter, order=twitter['label'].value_counts().index)\n",
    "plt.xticks(rotation=90) \n",
    "plt.show()"
   ]
  },
  {
   "cell_type": "code",
   "execution_count": null,
   "id": "f229a65b",
   "metadata": {},
   "outputs": [],
   "source": [
    "# Percentage distribution\n",
    "print(dictionary['translation'].value_counts(normalize=True) * 100)\n",
    "\n",
    "# Bar chart\n",
    "sns.countplot(x='translation', data=dictionary, order=dictionary['translation'].value_counts().index)\n",
    "plt.xticks(rotation=90) \n",
    "plt.show()"
   ]
  },
  {
   "cell_type": "markdown",
   "id": "8b0b486d",
   "metadata": {},
   "source": [
    "### Outlier Check"
   ]
  },
  {
   "cell_type": "code",
   "execution_count": null,
   "id": "e539ef87",
   "metadata": {},
   "outputs": [],
   "source": [
    "freq = twitter[\"label\"].value_counts()\n",
    "rare_categories = freq[freq < 10].index  # cat < 10 occurence\n",
    "outliers = twitter[twitter[\"label\"].isin(rare_categories)]\n",
    "print(outliers)\n",
    "print(f\"Outliers count : {outliers.__len__()}\")"
   ]
  },
  {
   "cell_type": "code",
   "execution_count": null,
   "id": "af6d9d52",
   "metadata": {},
   "outputs": [],
   "source": [
    "freq = dictionary[\"translation\"].value_counts()\n",
    "rare_categories = freq[freq < 10].index  # cat < 10 occurence\n",
    "outliers = dictionary[dictionary[\"translation\"].isin(rare_categories)]\n",
    "print(outliers)\n",
    "print(f\"Outliers count : {outliers.__len__()}\")"
   ]
  }
 ],
 "metadata": {
  "kernelspec": {
   "display_name": ".venv",
   "language": "python",
   "name": "python3"
  },
  "language_info": {
   "codemirror_mode": {
    "name": "ipython",
    "version": 3
   },
   "file_extension": ".py",
   "mimetype": "text/x-python",
   "name": "python",
   "nbconvert_exporter": "python",
   "pygments_lexer": "ipython3",
   "version": "3.13.3"
  }
 },
 "nbformat": 4,
 "nbformat_minor": 5
}
